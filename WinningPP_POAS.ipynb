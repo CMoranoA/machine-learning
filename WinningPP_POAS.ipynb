{
 "cells": [
  {
   "cell_type": "markdown",
   "id": "7f8e26b2",
   "metadata": {},
   "source": [
    "\n",
    "This project's main goal is to **predict the winning political parties in each postal area where elections are held**. The major political party will be considered for this task: **Liberals**. In the event that a second party (for instance, labor, greens or other) wins, it will be counted as 'others.'\n",
    "\n",
    "**In essence, the question we are willing to answer is: Is sociodemographic status a predictor of liberal vote?**\n",
    "\n",
    "Two types of data will be used to attain this goal: **census socio-demographic data** as predictors; and **official election 2019 results** as target variable. Usually, the outcome of the previous election is the strongest predictor of the upcoming vote (votes do not change that much). However, in this scenario, we will simply use sociodemographic factors for forecasting.\n",
    "\n",
    "These two sets of data will be linked and evaluated in order to look for patterns and trends that can be used to predict vote outcomes. Information from the following sources will be used for this task:\n",
    "\n",
    "* Australian Electoral Comission: https://results.aec.gov.au/24310/Website/HouseDownloadsMenu-24310-Csv.htm\n",
    "* Austrlian Bureau of Statistics: https://www.abs.gov.au/statistics/microdata-tablebuilder/tablebuilder\n",
    "\n",
    "<br>\n",
    "\n",
    "Description of Fields: \n",
    "\n",
    "* **Age:** age of citizens living in POAS.\n",
    "* **Household Income (weekly):** The experimental Index of Household Advantage and Disadvantage (IHAD) summarises relative socio-economic advantage and disadvantage for households. This index takes into account income, tenure type, families characteristics, etc.\n",
    "* **Occupation:** standard output for occupation data in a major level of classification for citizens aged 15 years or over.\n",
    "* **Education:** Max level of education reached.\n",
    "* **Rural or Uban**: Proportion of dwellings in rural / urban areas.\n",
    "\n",
    "<br>\n",
    "\n",
    "**As this is a classification ask**, two models are going to be used for forecasting first preference vote: K-Nearest-Neighbors and Logistic Regression."
   ]
  },
  {
   "cell_type": "code",
   "execution_count": 1,
   "id": "5f07f5ee",
   "metadata": {},
   "outputs": [],
   "source": [
    "# Import necesary packages\n",
    "\n",
    "import pandas as pd\n",
    "import numpy as np\n",
    "import matplotlib.pyplot as plt\n",
    "import seaborn as sns\n",
    "\n",
    "from sklearn.impute import SimpleImputer\n",
    "from sklearn.preprocessing import OneHotEncoder\n",
    "from sklearn.preprocessing import MinMaxScaler, StandardScaler\n",
    "from sklearn.model_selection import cross_val_score, KFold, cross_validate\n",
    "from sklearn.metrics import accuracy_score\n",
    "from sklearn.neighbors import KNeighborsClassifier\n",
    "from sklearn.naive_bayes import MultinomialNB\n",
    "from sklearn.model_selection import GridSearchCV, train_test_split\n",
    "from sklearn.metrics import accuracy_score, mean_squared_error, confusion_matrix, classification_report\n",
    "\n",
    "\n",
    "from sklearn.linear_model import LogisticRegression\n",
    "from sklearn.feature_selection import RFE"
   ]
  },
  {
   "cell_type": "markdown",
   "id": "832f2176",
   "metadata": {},
   "source": [
    "# DATA PREPARATION"
   ]
  },
  {
   "cell_type": "markdown",
   "id": "ad098cb6",
   "metadata": {},
   "source": [
    "## ELECTORAL DATASET"
   ]
  },
  {
   "cell_type": "markdown",
   "id": "4481c789",
   "metadata": {},
   "source": [
    "### Importing data"
   ]
  },
  {
   "cell_type": "code",
   "execution_count": 2,
   "id": "3081634c",
   "metadata": {},
   "outputs": [],
   "source": [
    "# Funtion to load and pivot electoral results\n",
    "\n",
    "def load_elec_results(path_to_data):\n",
    "    \n",
    "    '''Reads a csv with electoral results and returns an \n",
    "    pivoted dataframe with postal codes in rows and party votes in columns'''\n",
    "    \n",
    "    data = pd.read_csv(path_to_data, skiprows = 1)\n",
    "    \n",
    "    data = data[['StateAb', 'DivisionID', 'DivisionNm', 'PollingPlaceID', 'PollingPlace', \n",
    "                 'PartyAb', 'OrdinaryVotes']] # Select columns to keep\n",
    "    \n",
    "    table = pd.pivot_table(data, values='OrdinaryVotes', \n",
    "                           index=['StateAb', 'DivisionID', 'DivisionNm', 'PollingPlaceID', 'PollingPlace'], \n",
    "                           columns=['PartyAb'], aggfunc = np.sum).reset_index() # Pivot table to reorder the data\n",
    "    \n",
    "    table.drop(columns = ['StateAb', 'DivisionID', \n",
    "                          'DivisionNm'], inplace = True) # Drop geographical columns that will not be used\n",
    "\n",
    "                                \n",
    "    return table\n",
    "    "
   ]
  },
  {
   "cell_type": "code",
   "execution_count": 3,
   "id": "8f04922c",
   "metadata": {},
   "outputs": [],
   "source": [
    "# Load first preference electoral results for all states\n",
    "\n",
    "act = load_elec_results('files/portolio_4_datasets/first_pref_results_2019/ACT.csv')\n",
    "nsw = load_elec_results('files/portolio_4_datasets/first_pref_results_2019/NSW.csv')\n",
    "nt = load_elec_results('files/portolio_4_datasets/first_pref_results_2019/NT.csv')\n",
    "qld = load_elec_results('files/portolio_4_datasets/first_pref_results_2019/QLD.csv')\n",
    "sa = load_elec_results('files/portolio_4_datasets/first_pref_results_2019/SA.csv')\n",
    "tas = load_elec_results('files/portolio_4_datasets/first_pref_results_2019/TAS.csv')\n",
    "vic = load_elec_results('files/portolio_4_datasets/first_pref_results_2019/VIC.csv')\n",
    "wa = load_elec_results('files/portolio_4_datasets/first_pref_results_2019/WA.csv')"
   ]
  },
  {
   "cell_type": "code",
   "execution_count": 4,
   "id": "c802d83f",
   "metadata": {},
   "outputs": [
    {
     "data": {
      "text/html": [
       "<div>\n",
       "<style scoped>\n",
       "    .dataframe tbody tr th:only-of-type {\n",
       "        vertical-align: middle;\n",
       "    }\n",
       "\n",
       "    .dataframe tbody tr th {\n",
       "        vertical-align: top;\n",
       "    }\n",
       "\n",
       "    .dataframe thead th {\n",
       "        text-align: right;\n",
       "    }\n",
       "</style>\n",
       "<table border=\"1\" class=\"dataframe\">\n",
       "  <thead>\n",
       "    <tr style=\"text-align: right;\">\n",
       "      <th>PartyAb</th>\n",
       "      <th>PollingPlaceID</th>\n",
       "      <th>PollingPlace</th>\n",
       "      <th>ALP</th>\n",
       "      <th>AUP</th>\n",
       "      <th>GAP</th>\n",
       "      <th>GRN</th>\n",
       "      <th>IND</th>\n",
       "      <th>LDP</th>\n",
       "      <th>LP</th>\n",
       "      <th>UAPP</th>\n",
       "      <th>...</th>\n",
       "      <th>AUD</th>\n",
       "      <th>CPP</th>\n",
       "      <th>XEN</th>\n",
       "      <th>CEC</th>\n",
       "      <th>DHJP</th>\n",
       "      <th>REAS</th>\n",
       "      <th>VNS</th>\n",
       "      <th>AUC</th>\n",
       "      <th>FLUX</th>\n",
       "      <th>WAP</th>\n",
       "    </tr>\n",
       "  </thead>\n",
       "  <tbody>\n",
       "    <tr>\n",
       "      <th>0</th>\n",
       "      <td>8764</td>\n",
       "      <td>Curtin (Canberra)</td>\n",
       "      <td>867.0</td>\n",
       "      <td>55.0</td>\n",
       "      <td>NaN</td>\n",
       "      <td>423.0</td>\n",
       "      <td>102.0</td>\n",
       "      <td>NaN</td>\n",
       "      <td>506.0</td>\n",
       "      <td>32.0</td>\n",
       "      <td>...</td>\n",
       "      <td>NaN</td>\n",
       "      <td>NaN</td>\n",
       "      <td>NaN</td>\n",
       "      <td>NaN</td>\n",
       "      <td>NaN</td>\n",
       "      <td>NaN</td>\n",
       "      <td>NaN</td>\n",
       "      <td>NaN</td>\n",
       "      <td>NaN</td>\n",
       "      <td>NaN</td>\n",
       "    </tr>\n",
       "    <tr>\n",
       "      <th>1</th>\n",
       "      <td>8766</td>\n",
       "      <td>Deakin</td>\n",
       "      <td>343.0</td>\n",
       "      <td>16.0</td>\n",
       "      <td>NaN</td>\n",
       "      <td>159.0</td>\n",
       "      <td>36.0</td>\n",
       "      <td>NaN</td>\n",
       "      <td>564.0</td>\n",
       "      <td>16.0</td>\n",
       "      <td>...</td>\n",
       "      <td>NaN</td>\n",
       "      <td>NaN</td>\n",
       "      <td>NaN</td>\n",
       "      <td>NaN</td>\n",
       "      <td>NaN</td>\n",
       "      <td>NaN</td>\n",
       "      <td>NaN</td>\n",
       "      <td>NaN</td>\n",
       "      <td>NaN</td>\n",
       "      <td>NaN</td>\n",
       "    </tr>\n",
       "    <tr>\n",
       "      <th>2</th>\n",
       "      <td>8774</td>\n",
       "      <td>Hughes (Canberra)</td>\n",
       "      <td>597.0</td>\n",
       "      <td>30.0</td>\n",
       "      <td>NaN</td>\n",
       "      <td>286.0</td>\n",
       "      <td>74.0</td>\n",
       "      <td>NaN</td>\n",
       "      <td>466.0</td>\n",
       "      <td>14.0</td>\n",
       "      <td>...</td>\n",
       "      <td>NaN</td>\n",
       "      <td>NaN</td>\n",
       "      <td>NaN</td>\n",
       "      <td>NaN</td>\n",
       "      <td>NaN</td>\n",
       "      <td>NaN</td>\n",
       "      <td>NaN</td>\n",
       "      <td>NaN</td>\n",
       "      <td>NaN</td>\n",
       "      <td>NaN</td>\n",
       "    </tr>\n",
       "  </tbody>\n",
       "</table>\n",
       "<p>3 rows × 42 columns</p>\n",
       "</div>"
      ],
      "text/plain": [
       "PartyAb  PollingPlaceID       PollingPlace    ALP   AUP  GAP    GRN    IND  \\\n",
       "0                  8764  Curtin (Canberra)  867.0  55.0  NaN  423.0  102.0   \n",
       "1                  8766             Deakin  343.0  16.0  NaN  159.0   36.0   \n",
       "2                  8774  Hughes (Canberra)  597.0  30.0  NaN  286.0   74.0   \n",
       "\n",
       "PartyAb  LDP     LP  UAPP  ...  AUD  CPP  XEN  CEC  DHJP  REAS  VNS  AUC  \\\n",
       "0        NaN  506.0  32.0  ...  NaN  NaN  NaN  NaN   NaN   NaN  NaN  NaN   \n",
       "1        NaN  564.0  16.0  ...  NaN  NaN  NaN  NaN   NaN   NaN  NaN  NaN   \n",
       "2        NaN  466.0  14.0  ...  NaN  NaN  NaN  NaN   NaN   NaN  NaN  NaN   \n",
       "\n",
       "PartyAb  FLUX  WAP  \n",
       "0         NaN  NaN  \n",
       "1         NaN  NaN  \n",
       "2         NaN  NaN  \n",
       "\n",
       "[3 rows x 42 columns]"
      ]
     },
     "execution_count": 4,
     "metadata": {},
     "output_type": "execute_result"
    }
   ],
   "source": [
    "# Concatenation of all states\n",
    "\n",
    "states_data = pd.concat([act, nsw, nt, qld, sa, tas, vic, wa], ignore_index = True, sort = False)\n",
    "states_data.head(3)"
   ]
  },
  {
   "cell_type": "code",
   "execution_count": 5,
   "id": "21d31c51",
   "metadata": {},
   "outputs": [
    {
     "data": {
      "text/html": [
       "<div>\n",
       "<style scoped>\n",
       "    .dataframe tbody tr th:only-of-type {\n",
       "        vertical-align: middle;\n",
       "    }\n",
       "\n",
       "    .dataframe tbody tr th {\n",
       "        vertical-align: top;\n",
       "    }\n",
       "\n",
       "    .dataframe thead th {\n",
       "        text-align: right;\n",
       "    }\n",
       "</style>\n",
       "<table border=\"1\" class=\"dataframe\">\n",
       "  <thead>\n",
       "    <tr style=\"text-align: right;\">\n",
       "      <th>PartyAb</th>\n",
       "      <th>PollingPlaceID</th>\n",
       "      <th>PollingPlace</th>\n",
       "      <th>ALP</th>\n",
       "      <th>AUP</th>\n",
       "      <th>GAP</th>\n",
       "      <th>GRN</th>\n",
       "      <th>IND</th>\n",
       "      <th>LDP</th>\n",
       "      <th>UAPP</th>\n",
       "      <th>ABFA</th>\n",
       "      <th>...</th>\n",
       "      <th>CPP</th>\n",
       "      <th>XEN</th>\n",
       "      <th>CEC</th>\n",
       "      <th>DHJP</th>\n",
       "      <th>REAS</th>\n",
       "      <th>VNS</th>\n",
       "      <th>AUC</th>\n",
       "      <th>FLUX</th>\n",
       "      <th>WAP</th>\n",
       "      <th>Liberal</th>\n",
       "    </tr>\n",
       "  </thead>\n",
       "  <tbody>\n",
       "    <tr>\n",
       "      <th>0</th>\n",
       "      <td>8764</td>\n",
       "      <td>Curtin (Canberra)</td>\n",
       "      <td>867.0</td>\n",
       "      <td>55.0</td>\n",
       "      <td>NaN</td>\n",
       "      <td>423.0</td>\n",
       "      <td>102.0</td>\n",
       "      <td>NaN</td>\n",
       "      <td>32.0</td>\n",
       "      <td>NaN</td>\n",
       "      <td>...</td>\n",
       "      <td>NaN</td>\n",
       "      <td>NaN</td>\n",
       "      <td>NaN</td>\n",
       "      <td>NaN</td>\n",
       "      <td>NaN</td>\n",
       "      <td>NaN</td>\n",
       "      <td>NaN</td>\n",
       "      <td>NaN</td>\n",
       "      <td>NaN</td>\n",
       "      <td>506.0</td>\n",
       "    </tr>\n",
       "    <tr>\n",
       "      <th>1</th>\n",
       "      <td>8766</td>\n",
       "      <td>Deakin</td>\n",
       "      <td>343.0</td>\n",
       "      <td>16.0</td>\n",
       "      <td>NaN</td>\n",
       "      <td>159.0</td>\n",
       "      <td>36.0</td>\n",
       "      <td>NaN</td>\n",
       "      <td>16.0</td>\n",
       "      <td>NaN</td>\n",
       "      <td>...</td>\n",
       "      <td>NaN</td>\n",
       "      <td>NaN</td>\n",
       "      <td>NaN</td>\n",
       "      <td>NaN</td>\n",
       "      <td>NaN</td>\n",
       "      <td>NaN</td>\n",
       "      <td>NaN</td>\n",
       "      <td>NaN</td>\n",
       "      <td>NaN</td>\n",
       "      <td>564.0</td>\n",
       "    </tr>\n",
       "    <tr>\n",
       "      <th>2</th>\n",
       "      <td>8774</td>\n",
       "      <td>Hughes (Canberra)</td>\n",
       "      <td>597.0</td>\n",
       "      <td>30.0</td>\n",
       "      <td>NaN</td>\n",
       "      <td>286.0</td>\n",
       "      <td>74.0</td>\n",
       "      <td>NaN</td>\n",
       "      <td>14.0</td>\n",
       "      <td>NaN</td>\n",
       "      <td>...</td>\n",
       "      <td>NaN</td>\n",
       "      <td>NaN</td>\n",
       "      <td>NaN</td>\n",
       "      <td>NaN</td>\n",
       "      <td>NaN</td>\n",
       "      <td>NaN</td>\n",
       "      <td>NaN</td>\n",
       "      <td>NaN</td>\n",
       "      <td>NaN</td>\n",
       "      <td>466.0</td>\n",
       "    </tr>\n",
       "    <tr>\n",
       "      <th>3</th>\n",
       "      <td>8779</td>\n",
       "      <td>Lyons (Canberra)</td>\n",
       "      <td>350.0</td>\n",
       "      <td>18.0</td>\n",
       "      <td>NaN</td>\n",
       "      <td>177.0</td>\n",
       "      <td>58.0</td>\n",
       "      <td>NaN</td>\n",
       "      <td>14.0</td>\n",
       "      <td>NaN</td>\n",
       "      <td>...</td>\n",
       "      <td>NaN</td>\n",
       "      <td>NaN</td>\n",
       "      <td>NaN</td>\n",
       "      <td>NaN</td>\n",
       "      <td>NaN</td>\n",
       "      <td>NaN</td>\n",
       "      <td>NaN</td>\n",
       "      <td>NaN</td>\n",
       "      <td>NaN</td>\n",
       "      <td>216.0</td>\n",
       "    </tr>\n",
       "    <tr>\n",
       "      <th>4</th>\n",
       "      <td>8782</td>\n",
       "      <td>Narrabundah</td>\n",
       "      <td>632.0</td>\n",
       "      <td>17.0</td>\n",
       "      <td>NaN</td>\n",
       "      <td>271.0</td>\n",
       "      <td>64.0</td>\n",
       "      <td>NaN</td>\n",
       "      <td>31.0</td>\n",
       "      <td>NaN</td>\n",
       "      <td>...</td>\n",
       "      <td>NaN</td>\n",
       "      <td>NaN</td>\n",
       "      <td>NaN</td>\n",
       "      <td>NaN</td>\n",
       "      <td>NaN</td>\n",
       "      <td>NaN</td>\n",
       "      <td>NaN</td>\n",
       "      <td>NaN</td>\n",
       "      <td>NaN</td>\n",
       "      <td>375.0</td>\n",
       "    </tr>\n",
       "  </tbody>\n",
       "</table>\n",
       "<p>5 rows × 39 columns</p>\n",
       "</div>"
      ],
      "text/plain": [
       "PartyAb  PollingPlaceID       PollingPlace    ALP   AUP  GAP    GRN    IND  \\\n",
       "0                  8764  Curtin (Canberra)  867.0  55.0  NaN  423.0  102.0   \n",
       "1                  8766             Deakin  343.0  16.0  NaN  159.0   36.0   \n",
       "2                  8774  Hughes (Canberra)  597.0  30.0  NaN  286.0   74.0   \n",
       "3                  8779   Lyons (Canberra)  350.0  18.0  NaN  177.0   58.0   \n",
       "4                  8782        Narrabundah  632.0  17.0  NaN  271.0   64.0   \n",
       "\n",
       "PartyAb  LDP  UAPP  ABFA  ...  CPP  XEN  CEC  DHJP  REAS  VNS  AUC  FLUX  WAP  \\\n",
       "0        NaN  32.0   NaN  ...  NaN  NaN  NaN   NaN   NaN  NaN  NaN   NaN  NaN   \n",
       "1        NaN  16.0   NaN  ...  NaN  NaN  NaN   NaN   NaN  NaN  NaN   NaN  NaN   \n",
       "2        NaN  14.0   NaN  ...  NaN  NaN  NaN   NaN   NaN  NaN  NaN   NaN  NaN   \n",
       "3        NaN  14.0   NaN  ...  NaN  NaN  NaN   NaN   NaN  NaN  NaN   NaN  NaN   \n",
       "4        NaN  31.0   NaN  ...  NaN  NaN  NaN   NaN   NaN  NaN  NaN   NaN  NaN   \n",
       "\n",
       "PartyAb  Liberal  \n",
       "0          506.0  \n",
       "1          564.0  \n",
       "2          466.0  \n",
       "3          216.0  \n",
       "4          375.0  \n",
       "\n",
       "[5 rows x 39 columns]"
      ]
     },
     "execution_count": 5,
     "metadata": {},
     "output_type": "execute_result"
    }
   ],
   "source": [
    "# Group parties by main coalitions according to analysis porposes\n",
    "\n",
    "states_data['Liberal'] = states_data[['LP', 'LNP', 'NP', 'CLP']].sum(axis = 1)\n",
    "\n",
    "states_data.drop(columns = ['LP', 'LNP', 'NP', 'CLP'], inplace = True)\n",
    "states_data.head()"
   ]
  },
  {
   "cell_type": "code",
   "execution_count": 6,
   "id": "01e73673",
   "metadata": {},
   "outputs": [
    {
     "data": {
      "text/html": [
       "<div>\n",
       "<style scoped>\n",
       "    .dataframe tbody tr th:only-of-type {\n",
       "        vertical-align: middle;\n",
       "    }\n",
       "\n",
       "    .dataframe tbody tr th {\n",
       "        vertical-align: top;\n",
       "    }\n",
       "\n",
       "    .dataframe thead th {\n",
       "        text-align: right;\n",
       "    }\n",
       "</style>\n",
       "<table border=\"1\" class=\"dataframe\">\n",
       "  <thead>\n",
       "    <tr style=\"text-align: right;\">\n",
       "      <th>PartyAb</th>\n",
       "      <th>PollingPlaceID</th>\n",
       "      <th>ALP</th>\n",
       "      <th>AUP</th>\n",
       "      <th>GAP</th>\n",
       "      <th>GRN</th>\n",
       "      <th>IND</th>\n",
       "      <th>LDP</th>\n",
       "      <th>UAPP</th>\n",
       "      <th>ABFA</th>\n",
       "      <th>AFN</th>\n",
       "      <th>...</th>\n",
       "      <th>CPP</th>\n",
       "      <th>XEN</th>\n",
       "      <th>CEC</th>\n",
       "      <th>DHJP</th>\n",
       "      <th>REAS</th>\n",
       "      <th>VNS</th>\n",
       "      <th>AUC</th>\n",
       "      <th>FLUX</th>\n",
       "      <th>WAP</th>\n",
       "      <th>Liberal</th>\n",
       "    </tr>\n",
       "  </thead>\n",
       "  <tbody>\n",
       "    <tr>\n",
       "      <th>0</th>\n",
       "      <td>1</td>\n",
       "      <td>917.0</td>\n",
       "      <td>0.0</td>\n",
       "      <td>0.0</td>\n",
       "      <td>111.0</td>\n",
       "      <td>0.0</td>\n",
       "      <td>0.0</td>\n",
       "      <td>87.0</td>\n",
       "      <td>0.0</td>\n",
       "      <td>0.0</td>\n",
       "      <td>...</td>\n",
       "      <td>0.0</td>\n",
       "      <td>0.0</td>\n",
       "      <td>0.0</td>\n",
       "      <td>0.0</td>\n",
       "      <td>0.0</td>\n",
       "      <td>0.0</td>\n",
       "      <td>0.0</td>\n",
       "      <td>0.0</td>\n",
       "      <td>0.0</td>\n",
       "      <td>619.0</td>\n",
       "    </tr>\n",
       "    <tr>\n",
       "      <th>1</th>\n",
       "      <td>2</td>\n",
       "      <td>423.0</td>\n",
       "      <td>0.0</td>\n",
       "      <td>0.0</td>\n",
       "      <td>68.0</td>\n",
       "      <td>0.0</td>\n",
       "      <td>0.0</td>\n",
       "      <td>42.0</td>\n",
       "      <td>0.0</td>\n",
       "      <td>0.0</td>\n",
       "      <td>...</td>\n",
       "      <td>0.0</td>\n",
       "      <td>0.0</td>\n",
       "      <td>0.0</td>\n",
       "      <td>0.0</td>\n",
       "      <td>0.0</td>\n",
       "      <td>0.0</td>\n",
       "      <td>0.0</td>\n",
       "      <td>0.0</td>\n",
       "      <td>0.0</td>\n",
       "      <td>554.0</td>\n",
       "    </tr>\n",
       "    <tr>\n",
       "      <th>2</th>\n",
       "      <td>3</td>\n",
       "      <td>501.0</td>\n",
       "      <td>0.0</td>\n",
       "      <td>0.0</td>\n",
       "      <td>52.0</td>\n",
       "      <td>0.0</td>\n",
       "      <td>0.0</td>\n",
       "      <td>25.0</td>\n",
       "      <td>0.0</td>\n",
       "      <td>0.0</td>\n",
       "      <td>...</td>\n",
       "      <td>0.0</td>\n",
       "      <td>0.0</td>\n",
       "      <td>0.0</td>\n",
       "      <td>0.0</td>\n",
       "      <td>0.0</td>\n",
       "      <td>0.0</td>\n",
       "      <td>0.0</td>\n",
       "      <td>0.0</td>\n",
       "      <td>0.0</td>\n",
       "      <td>463.0</td>\n",
       "    </tr>\n",
       "    <tr>\n",
       "      <th>3</th>\n",
       "      <td>4</td>\n",
       "      <td>657.0</td>\n",
       "      <td>0.0</td>\n",
       "      <td>0.0</td>\n",
       "      <td>134.0</td>\n",
       "      <td>0.0</td>\n",
       "      <td>0.0</td>\n",
       "      <td>54.0</td>\n",
       "      <td>0.0</td>\n",
       "      <td>0.0</td>\n",
       "      <td>...</td>\n",
       "      <td>0.0</td>\n",
       "      <td>0.0</td>\n",
       "      <td>0.0</td>\n",
       "      <td>0.0</td>\n",
       "      <td>0.0</td>\n",
       "      <td>0.0</td>\n",
       "      <td>0.0</td>\n",
       "      <td>0.0</td>\n",
       "      <td>0.0</td>\n",
       "      <td>1644.0</td>\n",
       "    </tr>\n",
       "    <tr>\n",
       "      <th>4</th>\n",
       "      <td>5</td>\n",
       "      <td>676.0</td>\n",
       "      <td>0.0</td>\n",
       "      <td>0.0</td>\n",
       "      <td>101.0</td>\n",
       "      <td>0.0</td>\n",
       "      <td>0.0</td>\n",
       "      <td>40.0</td>\n",
       "      <td>0.0</td>\n",
       "      <td>0.0</td>\n",
       "      <td>...</td>\n",
       "      <td>0.0</td>\n",
       "      <td>0.0</td>\n",
       "      <td>0.0</td>\n",
       "      <td>0.0</td>\n",
       "      <td>0.0</td>\n",
       "      <td>0.0</td>\n",
       "      <td>0.0</td>\n",
       "      <td>0.0</td>\n",
       "      <td>0.0</td>\n",
       "      <td>909.0</td>\n",
       "    </tr>\n",
       "  </tbody>\n",
       "</table>\n",
       "<p>5 rows × 38 columns</p>\n",
       "</div>"
      ],
      "text/plain": [
       "PartyAb  PollingPlaceID    ALP  AUP  GAP    GRN  IND  LDP  UAPP  ABFA  AFN  \\\n",
       "0                     1  917.0  0.0  0.0  111.0  0.0  0.0  87.0   0.0  0.0   \n",
       "1                     2  423.0  0.0  0.0   68.0  0.0  0.0  42.0   0.0  0.0   \n",
       "2                     3  501.0  0.0  0.0   52.0  0.0  0.0  25.0   0.0  0.0   \n",
       "3                     4  657.0  0.0  0.0  134.0  0.0  0.0  54.0   0.0  0.0   \n",
       "4                     5  676.0  0.0  0.0  101.0  0.0  0.0  40.0   0.0  0.0   \n",
       "\n",
       "PartyAb  ...  CPP  XEN  CEC  DHJP  REAS  VNS  AUC  FLUX  WAP  Liberal  \n",
       "0        ...  0.0  0.0  0.0   0.0   0.0  0.0  0.0   0.0  0.0    619.0  \n",
       "1        ...  0.0  0.0  0.0   0.0   0.0  0.0  0.0   0.0  0.0    554.0  \n",
       "2        ...  0.0  0.0  0.0   0.0   0.0  0.0  0.0   0.0  0.0    463.0  \n",
       "3        ...  0.0  0.0  0.0   0.0   0.0  0.0  0.0   0.0  0.0   1644.0  \n",
       "4        ...  0.0  0.0  0.0   0.0   0.0  0.0  0.0   0.0  0.0    909.0  \n",
       "\n",
       "[5 rows x 38 columns]"
      ]
     },
     "execution_count": 6,
     "metadata": {},
     "output_type": "execute_result"
    }
   ],
   "source": [
    "# Groub electoral data by Polling Place ID\n",
    "\n",
    "elec_data = states_data.groupby(['PollingPlaceID']).sum().reset_index()\n",
    "elec_data.head()"
   ]
  },
  {
   "cell_type": "markdown",
   "id": "bdb29b88",
   "metadata": {},
   "source": [
    "### Cleaning data"
   ]
  },
  {
   "cell_type": "code",
   "execution_count": 7,
   "id": "dd2d71b3",
   "metadata": {},
   "outputs": [
    {
     "data": {
      "text/plain": [
       "(8875, 38)"
      ]
     },
     "execution_count": 7,
     "metadata": {},
     "output_type": "execute_result"
    }
   ],
   "source": [
    "elec_data.shape"
   ]
  },
  {
   "cell_type": "code",
   "execution_count": 8,
   "id": "8f62e12b",
   "metadata": {},
   "outputs": [
    {
     "data": {
      "text/plain": [
       "False"
      ]
     },
     "execution_count": 8,
     "metadata": {},
     "output_type": "execute_result"
    }
   ],
   "source": [
    "#Check for NaN values\n",
    "\n",
    "elec_data.isnull().values.any()"
   ]
  },
  {
   "cell_type": "code",
   "execution_count": 9,
   "id": "6406ffab",
   "metadata": {
    "scrolled": false
   },
   "outputs": [
    {
     "data": {
      "text/html": [
       "<div>\n",
       "<style scoped>\n",
       "    .dataframe tbody tr th:only-of-type {\n",
       "        vertical-align: middle;\n",
       "    }\n",
       "\n",
       "    .dataframe tbody tr th {\n",
       "        vertical-align: top;\n",
       "    }\n",
       "\n",
       "    .dataframe thead th {\n",
       "        text-align: right;\n",
       "    }\n",
       "</style>\n",
       "<table border=\"1\" class=\"dataframe\">\n",
       "  <thead>\n",
       "    <tr style=\"text-align: right;\">\n",
       "      <th>PartyAb</th>\n",
       "      <th>PollingPlaceID</th>\n",
       "      <th>ALP</th>\n",
       "      <th>AUP</th>\n",
       "      <th>GAP</th>\n",
       "      <th>GRN</th>\n",
       "      <th>IND</th>\n",
       "      <th>LDP</th>\n",
       "      <th>UAPP</th>\n",
       "      <th>ABFA</th>\n",
       "      <th>AFN</th>\n",
       "      <th>...</th>\n",
       "      <th>CPP</th>\n",
       "      <th>XEN</th>\n",
       "      <th>CEC</th>\n",
       "      <th>DHJP</th>\n",
       "      <th>REAS</th>\n",
       "      <th>VNS</th>\n",
       "      <th>AUC</th>\n",
       "      <th>FLUX</th>\n",
       "      <th>WAP</th>\n",
       "      <th>Liberal</th>\n",
       "    </tr>\n",
       "  </thead>\n",
       "  <tbody>\n",
       "    <tr>\n",
       "      <th>count</th>\n",
       "      <td>8875.000000</td>\n",
       "      <td>8875.000000</td>\n",
       "      <td>8875.000000</td>\n",
       "      <td>8875.000000</td>\n",
       "      <td>8875.000000</td>\n",
       "      <td>8875.000000</td>\n",
       "      <td>8875.000000</td>\n",
       "      <td>8875.000000</td>\n",
       "      <td>8875.000000</td>\n",
       "      <td>8875.000000</td>\n",
       "      <td>...</td>\n",
       "      <td>8875.000000</td>\n",
       "      <td>8875.000000</td>\n",
       "      <td>8875.000000</td>\n",
       "      <td>8875.000000</td>\n",
       "      <td>8875.000000</td>\n",
       "      <td>8875.000000</td>\n",
       "      <td>8875.000000</td>\n",
       "      <td>8875.000000</td>\n",
       "      <td>8875.000000</td>\n",
       "      <td>8875.000000</td>\n",
       "    </tr>\n",
       "    <tr>\n",
       "      <th>mean</th>\n",
       "      <td>24194.546366</td>\n",
       "      <td>451.391775</td>\n",
       "      <td>0.753690</td>\n",
       "      <td>0.505014</td>\n",
       "      <td>134.274479</td>\n",
       "      <td>46.445070</td>\n",
       "      <td>3.185465</td>\n",
       "      <td>44.739718</td>\n",
       "      <td>0.190535</td>\n",
       "      <td>0.621408</td>\n",
       "      <td>...</td>\n",
       "      <td>0.102085</td>\n",
       "      <td>4.567775</td>\n",
       "      <td>0.307606</td>\n",
       "      <td>2.242592</td>\n",
       "      <td>0.777690</td>\n",
       "      <td>1.244732</td>\n",
       "      <td>2.169577</td>\n",
       "      <td>0.047887</td>\n",
       "      <td>2.104563</td>\n",
       "      <td>550.709746</td>\n",
       "    </tr>\n",
       "    <tr>\n",
       "      <th>std</th>\n",
       "      <td>29774.333482</td>\n",
       "      <td>735.335782</td>\n",
       "      <td>8.349528</td>\n",
       "      <td>5.965838</td>\n",
       "      <td>207.969899</td>\n",
       "      <td>199.536291</td>\n",
       "      <td>24.838547</td>\n",
       "      <td>86.989184</td>\n",
       "      <td>4.053324</td>\n",
       "      <td>13.921218</td>\n",
       "      <td>...</td>\n",
       "      <td>1.895498</td>\n",
       "      <td>70.084604</td>\n",
       "      <td>9.636136</td>\n",
       "      <td>20.151647</td>\n",
       "      <td>12.007831</td>\n",
       "      <td>17.708233</td>\n",
       "      <td>12.375555</td>\n",
       "      <td>0.981038</td>\n",
       "      <td>12.157542</td>\n",
       "      <td>902.883689</td>\n",
       "    </tr>\n",
       "    <tr>\n",
       "      <th>min</th>\n",
       "      <td>1.000000</td>\n",
       "      <td>0.000000</td>\n",
       "      <td>0.000000</td>\n",
       "      <td>0.000000</td>\n",
       "      <td>0.000000</td>\n",
       "      <td>0.000000</td>\n",
       "      <td>0.000000</td>\n",
       "      <td>0.000000</td>\n",
       "      <td>0.000000</td>\n",
       "      <td>0.000000</td>\n",
       "      <td>...</td>\n",
       "      <td>0.000000</td>\n",
       "      <td>0.000000</td>\n",
       "      <td>0.000000</td>\n",
       "      <td>0.000000</td>\n",
       "      <td>0.000000</td>\n",
       "      <td>0.000000</td>\n",
       "      <td>0.000000</td>\n",
       "      <td>0.000000</td>\n",
       "      <td>0.000000</td>\n",
       "      <td>0.000000</td>\n",
       "    </tr>\n",
       "    <tr>\n",
       "      <th>25%</th>\n",
       "      <td>3478.500000</td>\n",
       "      <td>82.000000</td>\n",
       "      <td>0.000000</td>\n",
       "      <td>0.000000</td>\n",
       "      <td>21.000000</td>\n",
       "      <td>0.000000</td>\n",
       "      <td>0.000000</td>\n",
       "      <td>10.000000</td>\n",
       "      <td>0.000000</td>\n",
       "      <td>0.000000</td>\n",
       "      <td>...</td>\n",
       "      <td>0.000000</td>\n",
       "      <td>0.000000</td>\n",
       "      <td>0.000000</td>\n",
       "      <td>0.000000</td>\n",
       "      <td>0.000000</td>\n",
       "      <td>0.000000</td>\n",
       "      <td>0.000000</td>\n",
       "      <td>0.000000</td>\n",
       "      <td>0.000000</td>\n",
       "      <td>145.000000</td>\n",
       "    </tr>\n",
       "    <tr>\n",
       "      <th>50%</th>\n",
       "      <td>7221.000000</td>\n",
       "      <td>281.000000</td>\n",
       "      <td>0.000000</td>\n",
       "      <td>0.000000</td>\n",
       "      <td>79.000000</td>\n",
       "      <td>0.000000</td>\n",
       "      <td>0.000000</td>\n",
       "      <td>24.000000</td>\n",
       "      <td>0.000000</td>\n",
       "      <td>0.000000</td>\n",
       "      <td>...</td>\n",
       "      <td>0.000000</td>\n",
       "      <td>0.000000</td>\n",
       "      <td>0.000000</td>\n",
       "      <td>0.000000</td>\n",
       "      <td>0.000000</td>\n",
       "      <td>0.000000</td>\n",
       "      <td>0.000000</td>\n",
       "      <td>0.000000</td>\n",
       "      <td>0.000000</td>\n",
       "      <td>334.000000</td>\n",
       "    </tr>\n",
       "    <tr>\n",
       "      <th>75%</th>\n",
       "      <td>34137.000000</td>\n",
       "      <td>573.000000</td>\n",
       "      <td>0.000000</td>\n",
       "      <td>0.000000</td>\n",
       "      <td>167.000000</td>\n",
       "      <td>29.000000</td>\n",
       "      <td>0.000000</td>\n",
       "      <td>49.000000</td>\n",
       "      <td>0.000000</td>\n",
       "      <td>0.000000</td>\n",
       "      <td>...</td>\n",
       "      <td>0.000000</td>\n",
       "      <td>0.000000</td>\n",
       "      <td>0.000000</td>\n",
       "      <td>0.000000</td>\n",
       "      <td>0.000000</td>\n",
       "      <td>0.000000</td>\n",
       "      <td>0.000000</td>\n",
       "      <td>0.000000</td>\n",
       "      <td>0.000000</td>\n",
       "      <td>622.000000</td>\n",
       "    </tr>\n",
       "    <tr>\n",
       "      <th>max</th>\n",
       "      <td>97639.000000</td>\n",
       "      <td>12402.000000</td>\n",
       "      <td>449.000000</td>\n",
       "      <td>332.000000</td>\n",
       "      <td>5289.000000</td>\n",
       "      <td>5730.000000</td>\n",
       "      <td>1070.000000</td>\n",
       "      <td>2170.000000</td>\n",
       "      <td>231.000000</td>\n",
       "      <td>998.000000</td>\n",
       "      <td>...</td>\n",
       "      <td>110.000000</td>\n",
       "      <td>4323.000000</td>\n",
       "      <td>773.000000</td>\n",
       "      <td>702.000000</td>\n",
       "      <td>698.000000</td>\n",
       "      <td>955.000000</td>\n",
       "      <td>474.000000</td>\n",
       "      <td>60.000000</td>\n",
       "      <td>441.000000</td>\n",
       "      <td>10490.000000</td>\n",
       "    </tr>\n",
       "  </tbody>\n",
       "</table>\n",
       "<p>8 rows × 38 columns</p>\n",
       "</div>"
      ],
      "text/plain": [
       "PartyAb  PollingPlaceID           ALP          AUP          GAP          GRN  \\\n",
       "count       8875.000000   8875.000000  8875.000000  8875.000000  8875.000000   \n",
       "mean       24194.546366    451.391775     0.753690     0.505014   134.274479   \n",
       "std        29774.333482    735.335782     8.349528     5.965838   207.969899   \n",
       "min            1.000000      0.000000     0.000000     0.000000     0.000000   \n",
       "25%         3478.500000     82.000000     0.000000     0.000000    21.000000   \n",
       "50%         7221.000000    281.000000     0.000000     0.000000    79.000000   \n",
       "75%        34137.000000    573.000000     0.000000     0.000000   167.000000   \n",
       "max        97639.000000  12402.000000   449.000000   332.000000  5289.000000   \n",
       "\n",
       "PartyAb          IND          LDP         UAPP         ABFA          AFN  ...  \\\n",
       "count    8875.000000  8875.000000  8875.000000  8875.000000  8875.000000  ...   \n",
       "mean       46.445070     3.185465    44.739718     0.190535     0.621408  ...   \n",
       "std       199.536291    24.838547    86.989184     4.053324    13.921218  ...   \n",
       "min         0.000000     0.000000     0.000000     0.000000     0.000000  ...   \n",
       "25%         0.000000     0.000000    10.000000     0.000000     0.000000  ...   \n",
       "50%         0.000000     0.000000    24.000000     0.000000     0.000000  ...   \n",
       "75%        29.000000     0.000000    49.000000     0.000000     0.000000  ...   \n",
       "max      5730.000000  1070.000000  2170.000000   231.000000   998.000000  ...   \n",
       "\n",
       "PartyAb          CPP          XEN          CEC         DHJP         REAS  \\\n",
       "count    8875.000000  8875.000000  8875.000000  8875.000000  8875.000000   \n",
       "mean        0.102085     4.567775     0.307606     2.242592     0.777690   \n",
       "std         1.895498    70.084604     9.636136    20.151647    12.007831   \n",
       "min         0.000000     0.000000     0.000000     0.000000     0.000000   \n",
       "25%         0.000000     0.000000     0.000000     0.000000     0.000000   \n",
       "50%         0.000000     0.000000     0.000000     0.000000     0.000000   \n",
       "75%         0.000000     0.000000     0.000000     0.000000     0.000000   \n",
       "max       110.000000  4323.000000   773.000000   702.000000   698.000000   \n",
       "\n",
       "PartyAb          VNS          AUC         FLUX          WAP       Liberal  \n",
       "count    8875.000000  8875.000000  8875.000000  8875.000000   8875.000000  \n",
       "mean        1.244732     2.169577     0.047887     2.104563    550.709746  \n",
       "std        17.708233    12.375555     0.981038    12.157542    902.883689  \n",
       "min         0.000000     0.000000     0.000000     0.000000      0.000000  \n",
       "25%         0.000000     0.000000     0.000000     0.000000    145.000000  \n",
       "50%         0.000000     0.000000     0.000000     0.000000    334.000000  \n",
       "75%         0.000000     0.000000     0.000000     0.000000    622.000000  \n",
       "max       955.000000   474.000000    60.000000   441.000000  10490.000000  \n",
       "\n",
       "[8 rows x 38 columns]"
      ]
     },
     "execution_count": 9,
     "metadata": {},
     "output_type": "execute_result"
    }
   ],
   "source": [
    "elec_data.describe()"
   ]
  },
  {
   "cell_type": "markdown",
   "id": "58d80ad8",
   "metadata": {},
   "source": [
    "**Electoral data seems cleaned**. The distribution of the data is logical, either outliers or values are observed."
   ]
  },
  {
   "cell_type": "markdown",
   "id": "3cbb6b38",
   "metadata": {},
   "source": [
    "### Import and impute POAS (postal areas) to elec_data"
   ]
  },
  {
   "cell_type": "code",
   "execution_count": 10,
   "id": "f018e443",
   "metadata": {},
   "outputs": [
    {
     "data": {
      "text/html": [
       "<div>\n",
       "<style scoped>\n",
       "    .dataframe tbody tr th:only-of-type {\n",
       "        vertical-align: middle;\n",
       "    }\n",
       "\n",
       "    .dataframe tbody tr th {\n",
       "        vertical-align: top;\n",
       "    }\n",
       "\n",
       "    .dataframe thead th {\n",
       "        text-align: right;\n",
       "    }\n",
       "</style>\n",
       "<table border=\"1\" class=\"dataframe\">\n",
       "  <thead>\n",
       "    <tr style=\"text-align: right;\">\n",
       "      <th></th>\n",
       "      <th>PollingPlaceID</th>\n",
       "      <th>POA</th>\n",
       "    </tr>\n",
       "  </thead>\n",
       "  <tbody>\n",
       "    <tr>\n",
       "      <th>0</th>\n",
       "      <td>93925</td>\n",
       "      <td>2900.0</td>\n",
       "    </tr>\n",
       "    <tr>\n",
       "      <th>1</th>\n",
       "      <td>93927</td>\n",
       "      <td>2601.0</td>\n",
       "    </tr>\n",
       "    <tr>\n",
       "      <th>2</th>\n",
       "      <td>11877</td>\n",
       "      <td>2905.0</td>\n",
       "    </tr>\n",
       "    <tr>\n",
       "      <th>3</th>\n",
       "      <td>11452</td>\n",
       "      <td>2905.0</td>\n",
       "    </tr>\n",
       "    <tr>\n",
       "      <th>4</th>\n",
       "      <td>8761</td>\n",
       "      <td>2611.0</td>\n",
       "    </tr>\n",
       "  </tbody>\n",
       "</table>\n",
       "</div>"
      ],
      "text/plain": [
       "   PollingPlaceID     POA\n",
       "0           93925  2900.0\n",
       "1           93927  2601.0\n",
       "2           11877  2905.0\n",
       "3           11452  2905.0\n",
       "4            8761  2611.0"
      ]
     },
     "execution_count": 10,
     "metadata": {},
     "output_type": "execute_result"
    }
   ],
   "source": [
    "# Load dataset of POA (postalcodes) and merge it with electoral data\n",
    "\n",
    "poa_data = pd.read_csv('files/portolio_4_datasets/Polling_places.csv', skiprows = 1, \n",
    "                       usecols = ['PollingPlaceID', 'PremisesPostCode'])\n",
    "\n",
    "poa_data.rename(columns = {'PremisesPostCode':'POA'}, inplace = True)\n",
    "\n",
    "poa_data.head()"
   ]
  },
  {
   "cell_type": "code",
   "execution_count": 11,
   "id": "f1458be0",
   "metadata": {},
   "outputs": [
    {
     "name": "stdout",
     "output_type": "stream",
     "text": [
      "Electoral data shape:  (8875, 39)\n",
      "Polling place data shape:  (8875, 2)\n",
      "Merged data shape:  (8875, 39)\n"
     ]
    }
   ],
   "source": [
    "# Link postalcodes to electoral data\n",
    "\n",
    "elec_data = pd.merge(left = poa_data, right = elec_data, on = \"PollingPlaceID\", how = 'inner')\n",
    "\n",
    "\n",
    "print('Electoral data shape: ', states_data.shape)\n",
    "print('Polling place data shape: ', poa_data.shape)\n",
    "print('Merged data shape: ', elec_data.shape)"
   ]
  },
  {
   "cell_type": "code",
   "execution_count": 12,
   "id": "60fdfdf2",
   "metadata": {},
   "outputs": [
    {
     "data": {
      "text/html": [
       "<div>\n",
       "<style scoped>\n",
       "    .dataframe tbody tr th:only-of-type {\n",
       "        vertical-align: middle;\n",
       "    }\n",
       "\n",
       "    .dataframe tbody tr th {\n",
       "        vertical-align: top;\n",
       "    }\n",
       "\n",
       "    .dataframe thead th {\n",
       "        text-align: right;\n",
       "    }\n",
       "</style>\n",
       "<table border=\"1\" class=\"dataframe\">\n",
       "  <thead>\n",
       "    <tr style=\"text-align: right;\">\n",
       "      <th></th>\n",
       "      <th>POA</th>\n",
       "      <th>ALP</th>\n",
       "      <th>AUP</th>\n",
       "      <th>GAP</th>\n",
       "      <th>GRN</th>\n",
       "      <th>IND</th>\n",
       "      <th>LDP</th>\n",
       "      <th>UAPP</th>\n",
       "      <th>ABFA</th>\n",
       "      <th>AFN</th>\n",
       "      <th>...</th>\n",
       "      <th>CPP</th>\n",
       "      <th>XEN</th>\n",
       "      <th>CEC</th>\n",
       "      <th>DHJP</th>\n",
       "      <th>REAS</th>\n",
       "      <th>VNS</th>\n",
       "      <th>AUC</th>\n",
       "      <th>FLUX</th>\n",
       "      <th>WAP</th>\n",
       "      <th>Liberal</th>\n",
       "    </tr>\n",
       "  </thead>\n",
       "  <tbody>\n",
       "    <tr>\n",
       "      <th>0</th>\n",
       "      <td>800.0</td>\n",
       "      <td>3642.0</td>\n",
       "      <td>0.0</td>\n",
       "      <td>0.0</td>\n",
       "      <td>1090.0</td>\n",
       "      <td>451.0</td>\n",
       "      <td>0.0</td>\n",
       "      <td>243.0</td>\n",
       "      <td>0.0</td>\n",
       "      <td>0.0</td>\n",
       "      <td>...</td>\n",
       "      <td>0.0</td>\n",
       "      <td>0.0</td>\n",
       "      <td>0.0</td>\n",
       "      <td>0.0</td>\n",
       "      <td>0.0</td>\n",
       "      <td>0.0</td>\n",
       "      <td>0.0</td>\n",
       "      <td>0.0</td>\n",
       "      <td>0.0</td>\n",
       "      <td>4291.0</td>\n",
       "    </tr>\n",
       "    <tr>\n",
       "      <th>1</th>\n",
       "      <td>810.0</td>\n",
       "      <td>7277.0</td>\n",
       "      <td>0.0</td>\n",
       "      <td>0.0</td>\n",
       "      <td>2280.0</td>\n",
       "      <td>632.0</td>\n",
       "      <td>0.0</td>\n",
       "      <td>402.0</td>\n",
       "      <td>0.0</td>\n",
       "      <td>0.0</td>\n",
       "      <td>...</td>\n",
       "      <td>0.0</td>\n",
       "      <td>0.0</td>\n",
       "      <td>0.0</td>\n",
       "      <td>0.0</td>\n",
       "      <td>0.0</td>\n",
       "      <td>0.0</td>\n",
       "      <td>0.0</td>\n",
       "      <td>0.0</td>\n",
       "      <td>0.0</td>\n",
       "      <td>5690.0</td>\n",
       "    </tr>\n",
       "    <tr>\n",
       "      <th>2</th>\n",
       "      <td>812.0</td>\n",
       "      <td>2767.0</td>\n",
       "      <td>0.0</td>\n",
       "      <td>0.0</td>\n",
       "      <td>591.0</td>\n",
       "      <td>273.0</td>\n",
       "      <td>0.0</td>\n",
       "      <td>169.0</td>\n",
       "      <td>0.0</td>\n",
       "      <td>0.0</td>\n",
       "      <td>...</td>\n",
       "      <td>0.0</td>\n",
       "      <td>0.0</td>\n",
       "      <td>0.0</td>\n",
       "      <td>0.0</td>\n",
       "      <td>0.0</td>\n",
       "      <td>0.0</td>\n",
       "      <td>0.0</td>\n",
       "      <td>0.0</td>\n",
       "      <td>0.0</td>\n",
       "      <td>1885.0</td>\n",
       "    </tr>\n",
       "    <tr>\n",
       "      <th>3</th>\n",
       "      <td>820.0</td>\n",
       "      <td>1765.0</td>\n",
       "      <td>0.0</td>\n",
       "      <td>0.0</td>\n",
       "      <td>711.0</td>\n",
       "      <td>202.0</td>\n",
       "      <td>0.0</td>\n",
       "      <td>93.0</td>\n",
       "      <td>0.0</td>\n",
       "      <td>0.0</td>\n",
       "      <td>...</td>\n",
       "      <td>0.0</td>\n",
       "      <td>0.0</td>\n",
       "      <td>0.0</td>\n",
       "      <td>0.0</td>\n",
       "      <td>0.0</td>\n",
       "      <td>0.0</td>\n",
       "      <td>0.0</td>\n",
       "      <td>0.0</td>\n",
       "      <td>0.0</td>\n",
       "      <td>1823.0</td>\n",
       "    </tr>\n",
       "    <tr>\n",
       "      <th>4</th>\n",
       "      <td>822.0</td>\n",
       "      <td>2002.0</td>\n",
       "      <td>0.0</td>\n",
       "      <td>0.0</td>\n",
       "      <td>146.0</td>\n",
       "      <td>81.0</td>\n",
       "      <td>0.0</td>\n",
       "      <td>59.0</td>\n",
       "      <td>0.0</td>\n",
       "      <td>0.0</td>\n",
       "      <td>...</td>\n",
       "      <td>0.0</td>\n",
       "      <td>0.0</td>\n",
       "      <td>0.0</td>\n",
       "      <td>0.0</td>\n",
       "      <td>0.0</td>\n",
       "      <td>0.0</td>\n",
       "      <td>0.0</td>\n",
       "      <td>0.0</td>\n",
       "      <td>0.0</td>\n",
       "      <td>1006.0</td>\n",
       "    </tr>\n",
       "  </tbody>\n",
       "</table>\n",
       "<p>5 rows × 38 columns</p>\n",
       "</div>"
      ],
      "text/plain": [
       "     POA     ALP  AUP  GAP     GRN    IND  LDP   UAPP  ABFA  AFN  ...  CPP  \\\n",
       "0  800.0  3642.0  0.0  0.0  1090.0  451.0  0.0  243.0   0.0  0.0  ...  0.0   \n",
       "1  810.0  7277.0  0.0  0.0  2280.0  632.0  0.0  402.0   0.0  0.0  ...  0.0   \n",
       "2  812.0  2767.0  0.0  0.0   591.0  273.0  0.0  169.0   0.0  0.0  ...  0.0   \n",
       "3  820.0  1765.0  0.0  0.0   711.0  202.0  0.0   93.0   0.0  0.0  ...  0.0   \n",
       "4  822.0  2002.0  0.0  0.0   146.0   81.0  0.0   59.0   0.0  0.0  ...  0.0   \n",
       "\n",
       "   XEN  CEC  DHJP  REAS  VNS  AUC  FLUX  WAP  Liberal  \n",
       "0  0.0  0.0   0.0   0.0  0.0  0.0   0.0  0.0   4291.0  \n",
       "1  0.0  0.0   0.0   0.0  0.0  0.0   0.0  0.0   5690.0  \n",
       "2  0.0  0.0   0.0   0.0  0.0  0.0   0.0  0.0   1885.0  \n",
       "3  0.0  0.0   0.0   0.0  0.0  0.0   0.0  0.0   1823.0  \n",
       "4  0.0  0.0   0.0   0.0  0.0  0.0   0.0  0.0   1006.0  \n",
       "\n",
       "[5 rows x 38 columns]"
      ]
     },
     "execution_count": 12,
     "metadata": {},
     "output_type": "execute_result"
    }
   ],
   "source": [
    "# Group by POAS adding up votes\n",
    "\n",
    "elec_data = elec_data.groupby(['POA']).agg(np.sum).reset_index()\n",
    "elec_data.drop(columns = ['PollingPlaceID'], inplace = True)\n",
    "elec_data.head()"
   ]
  },
  {
   "cell_type": "code",
   "execution_count": 13,
   "id": "fa31eccf",
   "metadata": {},
   "outputs": [
    {
     "data": {
      "text/plain": [
       "False"
      ]
     },
     "execution_count": 13,
     "metadata": {},
     "output_type": "execute_result"
    }
   ],
   "source": [
    "# Check for NaN values\n",
    "\n",
    "elec_data.isnull().values.any()"
   ]
  },
  {
   "cell_type": "code",
   "execution_count": 14,
   "id": "076e0bcb",
   "metadata": {},
   "outputs": [
    {
     "name": "stdout",
     "output_type": "stream",
     "text": [
      "% of data without a postalcode:  0.0\n"
     ]
    }
   ],
   "source": [
    "#Check for data without POA - postcode\n",
    "\n",
    "print('% of data without a postalcode: ', (elec_data['POA'].isnull().sum() / len(elec_data))*100)"
   ]
  },
  {
   "cell_type": "markdown",
   "id": "91714222",
   "metadata": {},
   "source": [
    "### Impute codes to winners"
   ]
  },
  {
   "cell_type": "code",
   "execution_count": 15,
   "id": "b6001015",
   "metadata": {},
   "outputs": [
    {
     "data": {
      "text/html": [
       "<div>\n",
       "<style scoped>\n",
       "    .dataframe tbody tr th:only-of-type {\n",
       "        vertical-align: middle;\n",
       "    }\n",
       "\n",
       "    .dataframe tbody tr th {\n",
       "        vertical-align: top;\n",
       "    }\n",
       "\n",
       "    .dataframe thead th {\n",
       "        text-align: right;\n",
       "    }\n",
       "</style>\n",
       "<table border=\"1\" class=\"dataframe\">\n",
       "  <thead>\n",
       "    <tr style=\"text-align: right;\">\n",
       "      <th></th>\n",
       "      <th>POA</th>\n",
       "      <th>Winner</th>\n",
       "    </tr>\n",
       "  </thead>\n",
       "  <tbody>\n",
       "    <tr>\n",
       "      <th>0</th>\n",
       "      <td>800.0</td>\n",
       "      <td>Liberal</td>\n",
       "    </tr>\n",
       "    <tr>\n",
       "      <th>1</th>\n",
       "      <td>810.0</td>\n",
       "      <td>ALP</td>\n",
       "    </tr>\n",
       "    <tr>\n",
       "      <th>2</th>\n",
       "      <td>812.0</td>\n",
       "      <td>ALP</td>\n",
       "    </tr>\n",
       "    <tr>\n",
       "      <th>3</th>\n",
       "      <td>820.0</td>\n",
       "      <td>Liberal</td>\n",
       "    </tr>\n",
       "    <tr>\n",
       "      <th>4</th>\n",
       "      <td>822.0</td>\n",
       "      <td>ALP</td>\n",
       "    </tr>\n",
       "  </tbody>\n",
       "</table>\n",
       "</div>"
      ],
      "text/plain": [
       "     POA   Winner\n",
       "0  800.0  Liberal\n",
       "1  810.0      ALP\n",
       "2  812.0      ALP\n",
       "3  820.0  Liberal\n",
       "4  822.0      ALP"
      ]
     },
     "execution_count": 15,
     "metadata": {},
     "output_type": "execute_result"
    }
   ],
   "source": [
    "# Compute and recode target variable\n",
    "\n",
    "cols = ['ALP', 'AUP', 'GAP', 'GRN', 'IND', 'LDP', 'UAPP',\n",
    "       'ABFA', 'AFN', 'AJP', 'ASP', 'AWP', 'CDP', 'FACN', 'FUT', 'IMO', 'NCP',\n",
    "       'ON', 'SEP', 'SPP', 'RUA', 'DLP', 'KAP', 'LAOL', 'NAFD', 'SAL', 'AUD',\n",
    "       'CPP', 'XEN', 'CEC', 'DHJP', 'REAS', 'VNS', 'AUC', 'FLUX', 'WAP',\n",
    "       'Liberal']\n",
    "\n",
    "elec_data[\"Winner\"] = elec_data[cols].idxmax(axis = 1)\n",
    "\n",
    "elec_data = elec_data[['POA', 'Winner']]\n",
    "elec_data.head()"
   ]
  },
  {
   "cell_type": "code",
   "execution_count": 16,
   "id": "4e842f80",
   "metadata": {},
   "outputs": [
    {
     "data": {
      "text/html": [
       "<div>\n",
       "<style scoped>\n",
       "    .dataframe tbody tr th:only-of-type {\n",
       "        vertical-align: middle;\n",
       "    }\n",
       "\n",
       "    .dataframe tbody tr th {\n",
       "        vertical-align: top;\n",
       "    }\n",
       "\n",
       "    .dataframe thead th {\n",
       "        text-align: right;\n",
       "    }\n",
       "</style>\n",
       "<table border=\"1\" class=\"dataframe\">\n",
       "  <thead>\n",
       "    <tr style=\"text-align: right;\">\n",
       "      <th></th>\n",
       "      <th>POA</th>\n",
       "      <th>win_code</th>\n",
       "    </tr>\n",
       "  </thead>\n",
       "  <tbody>\n",
       "    <tr>\n",
       "      <th>0</th>\n",
       "      <td>800.0</td>\n",
       "      <td>1</td>\n",
       "    </tr>\n",
       "    <tr>\n",
       "      <th>1</th>\n",
       "      <td>810.0</td>\n",
       "      <td>0</td>\n",
       "    </tr>\n",
       "    <tr>\n",
       "      <th>2</th>\n",
       "      <td>812.0</td>\n",
       "      <td>0</td>\n",
       "    </tr>\n",
       "    <tr>\n",
       "      <th>3</th>\n",
       "      <td>820.0</td>\n",
       "      <td>1</td>\n",
       "    </tr>\n",
       "    <tr>\n",
       "      <th>4</th>\n",
       "      <td>822.0</td>\n",
       "      <td>0</td>\n",
       "    </tr>\n",
       "  </tbody>\n",
       "</table>\n",
       "</div>"
      ],
      "text/plain": [
       "     POA  win_code\n",
       "0  800.0         1\n",
       "1  810.0         0\n",
       "2  812.0         0\n",
       "3  820.0         1\n",
       "4  822.0         0"
      ]
     },
     "execution_count": 16,
     "metadata": {},
     "output_type": "execute_result"
    }
   ],
   "source": [
    "# Aplly lambda function to recode winners\n",
    "\n",
    "largest_num = lambda x: 1 if x == 'Liberal' else 0\n",
    "\n",
    "elec_data['win_code'] = elec_data['Winner'].apply(largest_num)\n",
    "\n",
    "elec_data = elec_data[['POA', 'win_code']]\n",
    "\n",
    "elec_data.head()"
   ]
  },
  {
   "cell_type": "code",
   "execution_count": 17,
   "id": "172b1247",
   "metadata": {},
   "outputs": [
    {
     "data": {
      "text/plain": [
       "win_code\n",
       "1           70.7\n",
       "0           29.3\n",
       "dtype: float64"
      ]
     },
     "execution_count": 17,
     "metadata": {},
     "output_type": "execute_result"
    }
   ],
   "source": [
    "round(elec_data[['win_code']].value_counts()/len(elec_data)*100,1)"
   ]
  },
  {
   "cell_type": "markdown",
   "id": "909ed6e4",
   "metadata": {},
   "source": [
    "<br>\n",
    "\n",
    "**Codes:**\n",
    "\n",
    "0 -> Liberal <br>\n",
    "1 -> Labor <br>\n",
    "2 -> Greens <br>\n",
    "3 -> Others <br>\n",
    "\n",
    "<br>"
   ]
  },
  {
   "cell_type": "markdown",
   "id": "4a1e0edd",
   "metadata": {},
   "source": [
    "## SOCIO DEMOGRAPHIC DATASET"
   ]
  },
  {
   "cell_type": "markdown",
   "id": "6831f12d",
   "metadata": {},
   "source": [
    "### AGE data"
   ]
  },
  {
   "cell_type": "markdown",
   "id": "f06e89f7",
   "metadata": {},
   "source": [
    "#### Importing data"
   ]
  },
  {
   "cell_type": "code",
   "execution_count": 18,
   "id": "9f78b025",
   "metadata": {},
   "outputs": [
    {
     "data": {
      "text/html": [
       "<div>\n",
       "<style scoped>\n",
       "    .dataframe tbody tr th:only-of-type {\n",
       "        vertical-align: middle;\n",
       "    }\n",
       "\n",
       "    .dataframe tbody tr th {\n",
       "        vertical-align: top;\n",
       "    }\n",
       "\n",
       "    .dataframe thead th {\n",
       "        text-align: right;\n",
       "    }\n",
       "</style>\n",
       "<table border=\"1\" class=\"dataframe\">\n",
       "  <thead>\n",
       "    <tr style=\"text-align: right;\">\n",
       "      <th></th>\n",
       "      <th>POA (UR)</th>\n",
       "      <th>AGEP Age</th>\n",
       "      <th>Count</th>\n",
       "    </tr>\n",
       "  </thead>\n",
       "  <tbody>\n",
       "    <tr>\n",
       "      <th>1</th>\n",
       "      <td>2000, NSW</td>\n",
       "      <td>1.0</td>\n",
       "      <td>174.0</td>\n",
       "    </tr>\n",
       "    <tr>\n",
       "      <th>2</th>\n",
       "      <td>2000, NSW</td>\n",
       "      <td>2.0</td>\n",
       "      <td>145.0</td>\n",
       "    </tr>\n",
       "    <tr>\n",
       "      <th>3</th>\n",
       "      <td>2000, NSW</td>\n",
       "      <td>3.0</td>\n",
       "      <td>113.0</td>\n",
       "    </tr>\n",
       "    <tr>\n",
       "      <th>4</th>\n",
       "      <td>2000, NSW</td>\n",
       "      <td>4.0</td>\n",
       "      <td>93.0</td>\n",
       "    </tr>\n",
       "    <tr>\n",
       "      <th>5</th>\n",
       "      <td>2000, NSW</td>\n",
       "      <td>5.0</td>\n",
       "      <td>78.0</td>\n",
       "    </tr>\n",
       "  </tbody>\n",
       "</table>\n",
       "</div>"
      ],
      "text/plain": [
       "    POA (UR)  AGEP Age  Count\n",
       "1  2000, NSW       1.0  174.0\n",
       "2  2000, NSW       2.0  145.0\n",
       "3  2000, NSW       3.0  113.0\n",
       "4  2000, NSW       4.0   93.0\n",
       "5  2000, NSW       5.0   78.0"
      ]
     },
     "execution_count": 18,
     "metadata": {},
     "output_type": "execute_result"
    }
   ],
   "source": [
    "# Load dataframe\n",
    "\n",
    "age_data = pd.read_csv('files/portolio_4_datasets/census_features/age_POA.csv', skiprows = 9, \n",
    "                       usecols = ['POA (UR)', 'AGEP Age', 'Count'])\n",
    "age_data.drop(index = age_data.index[0], axis = 0, inplace = True)\n",
    "age_data.head()"
   ]
  },
  {
   "cell_type": "markdown",
   "id": "14ca7ccf",
   "metadata": {},
   "source": [
    "Age data presents a different structure. Each POA has multiple observations, each of which corresponds to a specific age and the amount of persons with that age. **The dataframe must be reorganised before using this information.**\n",
    "\n",
    "The purpose of the following code is to compute the mean age for each POA. This feature is going to be used in the model."
   ]
  },
  {
   "cell_type": "code",
   "execution_count": 19,
   "id": "bd6a9845",
   "metadata": {},
   "outputs": [
    {
     "data": {
      "text/html": [
       "<div>\n",
       "<style scoped>\n",
       "    .dataframe tbody tr th:only-of-type {\n",
       "        vertical-align: middle;\n",
       "    }\n",
       "\n",
       "    .dataframe tbody tr th {\n",
       "        vertical-align: top;\n",
       "    }\n",
       "\n",
       "    .dataframe thead th {\n",
       "        text-align: right;\n",
       "    }\n",
       "</style>\n",
       "<table border=\"1\" class=\"dataframe\">\n",
       "  <thead>\n",
       "    <tr style=\"text-align: right;\">\n",
       "      <th></th>\n",
       "      <th>POA (UR)</th>\n",
       "      <th>AGEP Age</th>\n",
       "      <th>Count</th>\n",
       "      <th>POA</th>\n",
       "      <th>total_years</th>\n",
       "    </tr>\n",
       "  </thead>\n",
       "  <tbody>\n",
       "    <tr>\n",
       "      <th>1</th>\n",
       "      <td>2000, NSW</td>\n",
       "      <td>1.0</td>\n",
       "      <td>174.0</td>\n",
       "      <td>2000</td>\n",
       "      <td>174.0</td>\n",
       "    </tr>\n",
       "    <tr>\n",
       "      <th>2</th>\n",
       "      <td>2000, NSW</td>\n",
       "      <td>2.0</td>\n",
       "      <td>145.0</td>\n",
       "      <td>2000</td>\n",
       "      <td>290.0</td>\n",
       "    </tr>\n",
       "    <tr>\n",
       "      <th>3</th>\n",
       "      <td>2000, NSW</td>\n",
       "      <td>3.0</td>\n",
       "      <td>113.0</td>\n",
       "      <td>2000</td>\n",
       "      <td>339.0</td>\n",
       "    </tr>\n",
       "    <tr>\n",
       "      <th>4</th>\n",
       "      <td>2000, NSW</td>\n",
       "      <td>4.0</td>\n",
       "      <td>93.0</td>\n",
       "      <td>2000</td>\n",
       "      <td>372.0</td>\n",
       "    </tr>\n",
       "    <tr>\n",
       "      <th>5</th>\n",
       "      <td>2000, NSW</td>\n",
       "      <td>5.0</td>\n",
       "      <td>78.0</td>\n",
       "      <td>2000</td>\n",
       "      <td>390.0</td>\n",
       "    </tr>\n",
       "  </tbody>\n",
       "</table>\n",
       "</div>"
      ],
      "text/plain": [
       "    POA (UR)  AGEP Age  Count   POA  total_years\n",
       "1  2000, NSW       1.0  174.0  2000        174.0\n",
       "2  2000, NSW       2.0  145.0  2000        290.0\n",
       "3  2000, NSW       3.0  113.0  2000        339.0\n",
       "4  2000, NSW       4.0   93.0  2000        372.0\n",
       "5  2000, NSW       5.0   78.0  2000        390.0"
      ]
     },
     "execution_count": 19,
     "metadata": {},
     "output_type": "execute_result"
    }
   ],
   "source": [
    "# Extract POA code without state acronym\n",
    "age_data['POA'] = age_data['POA (UR)'].str.extract('(\\d{4,})')\n",
    "\n",
    "# Compute sum of years per year (this computation will help to extract the mean age of every POA)\n",
    "age_data[\"total_years\"] = age_data['AGEP Age'] * age_data['Count']\n",
    "age_data.head()"
   ]
  },
  {
   "cell_type": "markdown",
   "id": "6e90d899",
   "metadata": {},
   "source": [
    "#### Computing Mean age"
   ]
  },
  {
   "cell_type": "code",
   "execution_count": 20,
   "id": "c444423e",
   "metadata": {},
   "outputs": [
    {
     "data": {
      "text/html": [
       "<div>\n",
       "<style scoped>\n",
       "    .dataframe tbody tr th:only-of-type {\n",
       "        vertical-align: middle;\n",
       "    }\n",
       "\n",
       "    .dataframe tbody tr th {\n",
       "        vertical-align: top;\n",
       "    }\n",
       "\n",
       "    .dataframe thead th {\n",
       "        text-align: right;\n",
       "    }\n",
       "</style>\n",
       "<table border=\"1\" class=\"dataframe\">\n",
       "  <thead>\n",
       "    <tr style=\"text-align: right;\">\n",
       "      <th></th>\n",
       "      <th>POA</th>\n",
       "      <th>Count</th>\n",
       "      <th>total_years</th>\n",
       "      <th>age_mean</th>\n",
       "    </tr>\n",
       "  </thead>\n",
       "  <tbody>\n",
       "    <tr>\n",
       "      <th>0</th>\n",
       "      <td>0800</td>\n",
       "      <td>6478.0</td>\n",
       "      <td>229368.0</td>\n",
       "      <td>35.407224</td>\n",
       "    </tr>\n",
       "    <tr>\n",
       "      <th>1</th>\n",
       "      <td>0810</td>\n",
       "      <td>33317.0</td>\n",
       "      <td>1168519.0</td>\n",
       "      <td>35.072756</td>\n",
       "    </tr>\n",
       "    <tr>\n",
       "      <th>2</th>\n",
       "      <td>0812</td>\n",
       "      <td>18865.0</td>\n",
       "      <td>666452.0</td>\n",
       "      <td>35.327432</td>\n",
       "    </tr>\n",
       "    <tr>\n",
       "      <th>3</th>\n",
       "      <td>0815</td>\n",
       "      <td>300.0</td>\n",
       "      <td>8022.0</td>\n",
       "      <td>26.740000</td>\n",
       "    </tr>\n",
       "    <tr>\n",
       "      <th>4</th>\n",
       "      <td>0820</td>\n",
       "      <td>19467.0</td>\n",
       "      <td>705418.0</td>\n",
       "      <td>36.236606</td>\n",
       "    </tr>\n",
       "  </tbody>\n",
       "</table>\n",
       "</div>"
      ],
      "text/plain": [
       "    POA    Count  total_years   age_mean\n",
       "0  0800   6478.0     229368.0  35.407224\n",
       "1  0810  33317.0    1168519.0  35.072756\n",
       "2  0812  18865.0     666452.0  35.327432\n",
       "3  0815    300.0       8022.0  26.740000\n",
       "4  0820  19467.0     705418.0  36.236606"
      ]
     },
     "execution_count": 20,
     "metadata": {},
     "output_type": "execute_result"
    }
   ],
   "source": [
    "# Group age data by POA adding up age\n",
    "age_data = age_data.groupby(['POA'])[['Count', 'total_years']].sum().reset_index()\n",
    "\n",
    "\n",
    "# Calculate mean age for each POA\n",
    "age_data['age_mean'] = age_data['total_years'] / age_data['Count']\n",
    "age_data.head()"
   ]
  },
  {
   "cell_type": "markdown",
   "id": "1b2aec90",
   "metadata": {},
   "source": [
    "#### Cleaning AGE data"
   ]
  },
  {
   "cell_type": "code",
   "execution_count": 21,
   "id": "2af182ae",
   "metadata": {},
   "outputs": [
    {
     "data": {
      "text/html": [
       "<div>\n",
       "<style scoped>\n",
       "    .dataframe tbody tr th:only-of-type {\n",
       "        vertical-align: middle;\n",
       "    }\n",
       "\n",
       "    .dataframe tbody tr th {\n",
       "        vertical-align: top;\n",
       "    }\n",
       "\n",
       "    .dataframe thead th {\n",
       "        text-align: right;\n",
       "    }\n",
       "</style>\n",
       "<table border=\"1\" class=\"dataframe\">\n",
       "  <thead>\n",
       "    <tr style=\"text-align: right;\">\n",
       "      <th></th>\n",
       "      <th>POA</th>\n",
       "      <th>Count</th>\n",
       "      <th>total_years</th>\n",
       "      <th>age_mean</th>\n",
       "    </tr>\n",
       "  </thead>\n",
       "  <tbody>\n",
       "    <tr>\n",
       "      <th>139</th>\n",
       "      <td>2123</td>\n",
       "      <td>0.0</td>\n",
       "      <td>0.0</td>\n",
       "      <td>NaN</td>\n",
       "    </tr>\n",
       "    <tr>\n",
       "      <th>144</th>\n",
       "      <td>2129</td>\n",
       "      <td>0.0</td>\n",
       "      <td>0.0</td>\n",
       "      <td>NaN</td>\n",
       "    </tr>\n",
       "    <tr>\n",
       "      <th>738</th>\n",
       "      <td>3062</td>\n",
       "      <td>0.0</td>\n",
       "      <td>0.0</td>\n",
       "      <td>NaN</td>\n",
       "    </tr>\n",
       "    <tr>\n",
       "      <th>1385</th>\n",
       "      <td>4009</td>\n",
       "      <td>0.0</td>\n",
       "      <td>0.0</td>\n",
       "      <td>NaN</td>\n",
       "    </tr>\n",
       "    <tr>\n",
       "      <th>1498</th>\n",
       "      <td>4222</td>\n",
       "      <td>0.0</td>\n",
       "      <td>0.0</td>\n",
       "      <td>NaN</td>\n",
       "    </tr>\n",
       "    <tr>\n",
       "      <th>1604</th>\n",
       "      <td>4475</td>\n",
       "      <td>0.0</td>\n",
       "      <td>0.0</td>\n",
       "      <td>NaN</td>\n",
       "    </tr>\n",
       "    <tr>\n",
       "      <th>1823</th>\n",
       "      <td>5005</td>\n",
       "      <td>0.0</td>\n",
       "      <td>0.0</td>\n",
       "      <td>NaN</td>\n",
       "    </tr>\n",
       "    <tr>\n",
       "      <th>2146</th>\n",
       "      <td>5701</td>\n",
       "      <td>0.0</td>\n",
       "      <td>0.0</td>\n",
       "      <td>NaN</td>\n",
       "    </tr>\n",
       "    <tr>\n",
       "      <th>2150</th>\n",
       "      <td>5717</td>\n",
       "      <td>0.0</td>\n",
       "      <td>0.0</td>\n",
       "      <td>NaN</td>\n",
       "    </tr>\n",
       "    <tr>\n",
       "      <th>2162</th>\n",
       "      <td>5950</td>\n",
       "      <td>0.0</td>\n",
       "      <td>0.0</td>\n",
       "      <td>NaN</td>\n",
       "    </tr>\n",
       "    <tr>\n",
       "      <th>2163</th>\n",
       "      <td>5960</td>\n",
       "      <td>0.0</td>\n",
       "      <td>0.0</td>\n",
       "      <td>NaN</td>\n",
       "    </tr>\n",
       "    <tr>\n",
       "      <th>2237</th>\n",
       "      <td>6090</td>\n",
       "      <td>0.0</td>\n",
       "      <td>0.0</td>\n",
       "      <td>NaN</td>\n",
       "    </tr>\n",
       "    <tr>\n",
       "      <th>2289</th>\n",
       "      <td>6182</td>\n",
       "      <td>0.0</td>\n",
       "      <td>0.0</td>\n",
       "      <td>NaN</td>\n",
       "    </tr>\n",
       "    <tr>\n",
       "      <th>2436</th>\n",
       "      <td>6452</td>\n",
       "      <td>0.0</td>\n",
       "      <td>0.0</td>\n",
       "      <td>NaN</td>\n",
       "    </tr>\n",
       "    <tr>\n",
       "      <th>2440</th>\n",
       "      <td>6463</td>\n",
       "      <td>0.0</td>\n",
       "      <td>0.0</td>\n",
       "      <td>NaN</td>\n",
       "    </tr>\n",
       "    <tr>\n",
       "      <th>2526</th>\n",
       "      <td>6711</td>\n",
       "      <td>0.0</td>\n",
       "      <td>0.0</td>\n",
       "      <td>NaN</td>\n",
       "    </tr>\n",
       "    <tr>\n",
       "      <th>2538</th>\n",
       "      <td>6731</td>\n",
       "      <td>0.0</td>\n",
       "      <td>0.0</td>\n",
       "      <td>NaN</td>\n",
       "    </tr>\n",
       "    <tr>\n",
       "      <th>2539</th>\n",
       "      <td>6733</td>\n",
       "      <td>0.0</td>\n",
       "      <td>0.0</td>\n",
       "      <td>NaN</td>\n",
       "    </tr>\n",
       "    <tr>\n",
       "      <th>2553</th>\n",
       "      <td>7001</td>\n",
       "      <td>0.0</td>\n",
       "      <td>0.0</td>\n",
       "      <td>NaN</td>\n",
       "    </tr>\n",
       "    <tr>\n",
       "      <th>2588</th>\n",
       "      <td>7139</td>\n",
       "      <td>0.0</td>\n",
       "      <td>0.0</td>\n",
       "      <td>NaN</td>\n",
       "    </tr>\n",
       "  </tbody>\n",
       "</table>\n",
       "</div>"
      ],
      "text/plain": [
       "       POA  Count  total_years  age_mean\n",
       "139   2123    0.0          0.0       NaN\n",
       "144   2129    0.0          0.0       NaN\n",
       "738   3062    0.0          0.0       NaN\n",
       "1385  4009    0.0          0.0       NaN\n",
       "1498  4222    0.0          0.0       NaN\n",
       "1604  4475    0.0          0.0       NaN\n",
       "1823  5005    0.0          0.0       NaN\n",
       "2146  5701    0.0          0.0       NaN\n",
       "2150  5717    0.0          0.0       NaN\n",
       "2162  5950    0.0          0.0       NaN\n",
       "2163  5960    0.0          0.0       NaN\n",
       "2237  6090    0.0          0.0       NaN\n",
       "2289  6182    0.0          0.0       NaN\n",
       "2436  6452    0.0          0.0       NaN\n",
       "2440  6463    0.0          0.0       NaN\n",
       "2526  6711    0.0          0.0       NaN\n",
       "2538  6731    0.0          0.0       NaN\n",
       "2539  6733    0.0          0.0       NaN\n",
       "2553  7001    0.0          0.0       NaN\n",
       "2588  7139    0.0          0.0       NaN"
      ]
     },
     "execution_count": 21,
     "metadata": {},
     "output_type": "execute_result"
    }
   ],
   "source": [
    "age_data[age_data['age_mean'].isnull()]"
   ]
  },
  {
   "cell_type": "markdown",
   "id": "fc6283ff",
   "metadata": {},
   "source": [
    "NaN mean values correspond to observations that have no age information. This observations will be dropped."
   ]
  },
  {
   "cell_type": "code",
   "execution_count": 22,
   "id": "7929b258",
   "metadata": {},
   "outputs": [
    {
     "data": {
      "text/plain": [
       "POA            0\n",
       "Count          0\n",
       "total_years    0\n",
       "age_mean       0\n",
       "dtype: int64"
      ]
     },
     "execution_count": 22,
     "metadata": {},
     "output_type": "execute_result"
    }
   ],
   "source": [
    "# Drop observations with no data\n",
    "\n",
    "age_data.dropna(inplace = True)\n",
    "age_data.isnull().sum()"
   ]
  },
  {
   "cell_type": "code",
   "execution_count": 23,
   "id": "71cde0b9",
   "metadata": {},
   "outputs": [
    {
     "data": {
      "image/png": "[encoded data removed]",
      "text/plain": [
       "<Figure size 216x360 with 1 Axes>"
      ]
     },
     "metadata": {
      "needs_background": "light"
     },
     "output_type": "display_data"
    }
   ],
   "source": [
    "# Check for outliers\n",
    "\n",
    "plt.figure(figsize = (3, 5))\n",
    "sns.boxplot(data = age_data['age_mean'])\n",
    "plt.show()"
   ]
  },
  {
   "cell_type": "markdown",
   "id": "67eae47c",
   "metadata": {},
   "source": [
    "<br>\n",
    "\n",
    "The boxplot above reveals the presence of outliers. While low population density may result in POAs with relatively low or high median ages, **POAs with mean ages under 28 or above 55 are extremely uncommon**. These outliers will be dropped.\n",
    "\n",
    "<br>"
   ]
  },
  {
   "cell_type": "code",
   "execution_count": 24,
   "id": "af43dc73",
   "metadata": {},
   "outputs": [
    {
     "data": {
      "text/plain": [
       "(2589, 2)"
      ]
     },
     "execution_count": 24,
     "metadata": {},
     "output_type": "execute_result"
    }
   ],
   "source": [
    "# Drop observations where mean age is under 20 or above 60\n",
    "age_data = age_data[(age_data['age_mean'] < 55) & (age_data['age_mean'] > 28)]\n",
    "\n",
    "\n",
    "#Select columns of interest for the model\n",
    "age_data = age_data[['POA', 'age_mean']]\n",
    "age_data.shape"
   ]
  },
  {
   "cell_type": "markdown",
   "id": "088781f2",
   "metadata": {},
   "source": [
    "### HOUSEHOLD INDEX data"
   ]
  },
  {
   "cell_type": "markdown",
   "id": "0fce102f",
   "metadata": {},
   "source": [
    "#### Importing data"
   ]
  },
  {
   "cell_type": "code",
   "execution_count": 25,
   "id": "436ab50d",
   "metadata": {},
   "outputs": [
    {
     "data": {
      "text/html": [
       "<div>\n",
       "<style scoped>\n",
       "    .dataframe tbody tr th:only-of-type {\n",
       "        vertical-align: middle;\n",
       "    }\n",
       "\n",
       "    .dataframe tbody tr th {\n",
       "        vertical-align: top;\n",
       "    }\n",
       "\n",
       "    .dataframe thead th {\n",
       "        text-align: right;\n",
       "    }\n",
       "</style>\n",
       "<table border=\"1\" class=\"dataframe\">\n",
       "  <thead>\n",
       "    <tr style=\"text-align: right;\">\n",
       "      <th></th>\n",
       "      <th>POA</th>\n",
       "      <th>Decile 1</th>\n",
       "      <th>Decile 2</th>\n",
       "      <th>Decile 3</th>\n",
       "      <th>Decile 4</th>\n",
       "      <th>Decile 5</th>\n",
       "      <th>Decile 6</th>\n",
       "      <th>Decile 7</th>\n",
       "      <th>Decile 8</th>\n",
       "      <th>Decile 9</th>\n",
       "      <th>Decile 10</th>\n",
       "      <th>total</th>\n",
       "    </tr>\n",
       "  </thead>\n",
       "  <tbody>\n",
       "    <tr>\n",
       "      <th>1</th>\n",
       "      <td>2000</td>\n",
       "      <td>354</td>\n",
       "      <td>850.0</td>\n",
       "      <td>1404.0</td>\n",
       "      <td>1164.0</td>\n",
       "      <td>806.0</td>\n",
       "      <td>1629.0</td>\n",
       "      <td>964.0</td>\n",
       "      <td>1146.0</td>\n",
       "      <td>483.0</td>\n",
       "      <td>255.0</td>\n",
       "      <td>8701.0</td>\n",
       "    </tr>\n",
       "    <tr>\n",
       "      <th>2</th>\n",
       "      <td>2006</td>\n",
       "      <td>0</td>\n",
       "      <td>0.0</td>\n",
       "      <td>0.0</td>\n",
       "      <td>0.0</td>\n",
       "      <td>0.0</td>\n",
       "      <td>0.0</td>\n",
       "      <td>0.0</td>\n",
       "      <td>0.0</td>\n",
       "      <td>0.0</td>\n",
       "      <td>0.0</td>\n",
       "      <td>0.0</td>\n",
       "    </tr>\n",
       "    <tr>\n",
       "      <th>3</th>\n",
       "      <td>2007</td>\n",
       "      <td>299</td>\n",
       "      <td>361.0</td>\n",
       "      <td>476.0</td>\n",
       "      <td>321.0</td>\n",
       "      <td>242.0</td>\n",
       "      <td>420.0</td>\n",
       "      <td>215.0</td>\n",
       "      <td>303.0</td>\n",
       "      <td>135.0</td>\n",
       "      <td>70.0</td>\n",
       "      <td>2543.0</td>\n",
       "    </tr>\n",
       "    <tr>\n",
       "      <th>4</th>\n",
       "      <td>2008</td>\n",
       "      <td>490</td>\n",
       "      <td>681.0</td>\n",
       "      <td>742.0</td>\n",
       "      <td>327.0</td>\n",
       "      <td>371.0</td>\n",
       "      <td>573.0</td>\n",
       "      <td>371.0</td>\n",
       "      <td>539.0</td>\n",
       "      <td>261.0</td>\n",
       "      <td>148.0</td>\n",
       "      <td>4013.0</td>\n",
       "    </tr>\n",
       "    <tr>\n",
       "      <th>5</th>\n",
       "      <td>2009</td>\n",
       "      <td>402</td>\n",
       "      <td>293.0</td>\n",
       "      <td>421.0</td>\n",
       "      <td>453.0</td>\n",
       "      <td>414.0</td>\n",
       "      <td>717.0</td>\n",
       "      <td>722.0</td>\n",
       "      <td>1114.0</td>\n",
       "      <td>478.0</td>\n",
       "      <td>330.0</td>\n",
       "      <td>4942.0</td>\n",
       "    </tr>\n",
       "  </tbody>\n",
       "</table>\n",
       "</div>"
      ],
      "text/plain": [
       "    POA Decile 1  Decile 2  Decile 3  Decile 4  Decile 5  Decile 6  Decile 7  \\\n",
       "1  2000      354     850.0    1404.0    1164.0     806.0    1629.0     964.0   \n",
       "2  2006        0       0.0       0.0       0.0       0.0       0.0       0.0   \n",
       "3  2007      299     361.0     476.0     321.0     242.0     420.0     215.0   \n",
       "4  2008      490     681.0     742.0     327.0     371.0     573.0     371.0   \n",
       "5  2009      402     293.0     421.0     453.0     414.0     717.0     722.0   \n",
       "\n",
       "   Decile 8  Decile 9  Decile 10   total  \n",
       "1    1146.0     483.0      255.0  8701.0  \n",
       "2       0.0       0.0        0.0     0.0  \n",
       "3     303.0     135.0       70.0  2543.0  \n",
       "4     539.0     261.0      148.0  4013.0  \n",
       "5    1114.0     478.0      330.0  4942.0  "
      ]
     },
     "execution_count": 25,
     "metadata": {},
     "output_type": "execute_result"
    }
   ],
   "source": [
    "# Load dataframe\n",
    "hi_data = pd.read_csv('files/portolio_4_datasets/census_features/Exp_IHAD.csv', skiprows = 8,\n",
    "                      usecols = ['IRSAD Deciles (Household)', 'Decile 1', 'Decile 2', 'Decile 3', \n",
    "                                 'Decile 4', 'Decile 5', 'Decile 6', 'Decile 7', 'Decile 8', 'Decile 9', 'Decile 10'])\n",
    "                       \n",
    "hi_data.drop(index = hi_data.index[0], axis = 0, inplace = True)\n",
    "\n",
    "\n",
    "# Extract POA code without state acronym\n",
    "hi_data['IRSAD Deciles (Household)'] = hi_data['IRSAD Deciles (Household)'].str.extract('(\\d{4,})')\n",
    "hi_data.rename(columns = {'IRSAD Deciles (Household)': 'POA'}, inplace = True)\n",
    "\n",
    "\n",
    "# Compute total for deciles\n",
    "hi_data['total'] = hi_data.sum(axis = 1, numeric_only = True)\n",
    "\n",
    "hi_data.head()"
   ]
  },
  {
   "cell_type": "markdown",
   "id": "54b7df29",
   "metadata": {},
   "source": [
    "#### Cleaning HI data"
   ]
  },
  {
   "cell_type": "code",
   "execution_count": 26,
   "id": "ad38dade",
   "metadata": {},
   "outputs": [
    {
     "data": {
      "text/plain": [
       "POA          4\n",
       "Decile 1     2\n",
       "Decile 2     3\n",
       "Decile 3     3\n",
       "Decile 4     3\n",
       "Decile 5     3\n",
       "Decile 6     3\n",
       "Decile 7     3\n",
       "Decile 8     3\n",
       "Decile 9     3\n",
       "Decile 10    3\n",
       "total        0\n",
       "dtype: int64"
      ]
     },
     "execution_count": 26,
     "metadata": {},
     "output_type": "execute_result"
    }
   ],
   "source": [
    "# Check for null values\n",
    "\n",
    "hi_data.isnull().sum()"
   ]
  },
  {
   "cell_type": "code",
   "execution_count": 27,
   "id": "bc58b8fd",
   "metadata": {},
   "outputs": [
    {
     "data": {
      "text/plain": [
       "False"
      ]
     },
     "execution_count": 27,
     "metadata": {},
     "output_type": "execute_result"
    }
   ],
   "source": [
    "# Drop NaN values\n",
    "\n",
    "hi_data.dropna(inplace = True)\n",
    "hi_data.isnull().values.any()"
   ]
  },
  {
   "cell_type": "code",
   "execution_count": 28,
   "id": "48c4b5fb",
   "metadata": {},
   "outputs": [
    {
     "data": {
      "text/plain": [
       "(57, 12)"
      ]
     },
     "execution_count": 28,
     "metadata": {},
     "output_type": "execute_result"
    }
   ],
   "source": [
    "# Check for empty values\n",
    "\n",
    "hi_data[hi_data['total'] == 0].shape"
   ]
  },
  {
   "cell_type": "code",
   "execution_count": 29,
   "id": "91db986c",
   "metadata": {},
   "outputs": [],
   "source": [
    "#Discard POAS with no HouseHold Index values\n",
    "\n",
    "hi_data = hi_data[hi_data['total'] != 0]"
   ]
  },
  {
   "cell_type": "code",
   "execution_count": 30,
   "id": "5f57d330",
   "metadata": {},
   "outputs": [
    {
     "data": {
      "text/plain": [
       "POA           object\n",
       "Decile 1      object\n",
       "Decile 2     float64\n",
       "Decile 3     float64\n",
       "Decile 4     float64\n",
       "Decile 5     float64\n",
       "Decile 6     float64\n",
       "Decile 7     float64\n",
       "Decile 8     float64\n",
       "Decile 9     float64\n",
       "Decile 10    float64\n",
       "total        float64\n",
       "dtype: object"
      ]
     },
     "execution_count": 30,
     "metadata": {},
     "output_type": "execute_result"
    }
   ],
   "source": [
    "# Check for data types\n",
    "\n",
    "hi_data.dtypes"
   ]
  },
  {
   "cell_type": "code",
   "execution_count": 31,
   "id": "4a89ce5b",
   "metadata": {},
   "outputs": [
    {
     "data": {
      "text/plain": [
       "dtype('int64')"
      ]
     },
     "execution_count": 31,
     "metadata": {},
     "output_type": "execute_result"
    }
   ],
   "source": [
    "# Convert columns to numeric\n",
    "cols = ['Decile 1', 'Decile 2', 'Decile 3', 'Decile 4', 'Decile 5',\n",
    "       'Decile 6', 'Decile 7', 'Decile 8', 'Decile 9', 'Decile 10']\n",
    "\n",
    "for c in cols:\n",
    "    hi_data[c] = hi_data[c].astype(int)\n",
    "    \n",
    "hi_data['Decile 1'].dtype"
   ]
  },
  {
   "cell_type": "code",
   "execution_count": 32,
   "id": "385ece5a",
   "metadata": {
    "scrolled": true
   },
   "outputs": [
    {
     "data": {
      "text/html": [
       "<div>\n",
       "<style scoped>\n",
       "    .dataframe tbody tr th:only-of-type {\n",
       "        vertical-align: middle;\n",
       "    }\n",
       "\n",
       "    .dataframe tbody tr th {\n",
       "        vertical-align: top;\n",
       "    }\n",
       "\n",
       "    .dataframe thead th {\n",
       "        text-align: right;\n",
       "    }\n",
       "</style>\n",
       "<table border=\"1\" class=\"dataframe\">\n",
       "  <thead>\n",
       "    <tr style=\"text-align: right;\">\n",
       "      <th></th>\n",
       "      <th>POA</th>\n",
       "      <th>Decile 1</th>\n",
       "      <th>Decile 2</th>\n",
       "      <th>Decile 3</th>\n",
       "      <th>Decile 4</th>\n",
       "      <th>Decile 5</th>\n",
       "      <th>Decile 6</th>\n",
       "      <th>Decile 7</th>\n",
       "      <th>Decile 8</th>\n",
       "      <th>Decile 9</th>\n",
       "      <th>Decile 10</th>\n",
       "    </tr>\n",
       "  </thead>\n",
       "  <tbody>\n",
       "    <tr>\n",
       "      <th>1</th>\n",
       "      <td>2000</td>\n",
       "      <td>0.040685</td>\n",
       "      <td>0.097690</td>\n",
       "      <td>0.161361</td>\n",
       "      <td>0.133778</td>\n",
       "      <td>0.092633</td>\n",
       "      <td>0.187220</td>\n",
       "      <td>0.110792</td>\n",
       "      <td>0.131709</td>\n",
       "      <td>0.055511</td>\n",
       "      <td>0.029307</td>\n",
       "    </tr>\n",
       "    <tr>\n",
       "      <th>3</th>\n",
       "      <td>2007</td>\n",
       "      <td>0.117578</td>\n",
       "      <td>0.141958</td>\n",
       "      <td>0.187180</td>\n",
       "      <td>0.126229</td>\n",
       "      <td>0.095163</td>\n",
       "      <td>0.165159</td>\n",
       "      <td>0.084546</td>\n",
       "      <td>0.119151</td>\n",
       "      <td>0.053087</td>\n",
       "      <td>0.027527</td>\n",
       "    </tr>\n",
       "    <tr>\n",
       "      <th>4</th>\n",
       "      <td>2008</td>\n",
       "      <td>0.122103</td>\n",
       "      <td>0.169698</td>\n",
       "      <td>0.184899</td>\n",
       "      <td>0.081485</td>\n",
       "      <td>0.092450</td>\n",
       "      <td>0.142786</td>\n",
       "      <td>0.092450</td>\n",
       "      <td>0.134313</td>\n",
       "      <td>0.065039</td>\n",
       "      <td>0.036880</td>\n",
       "    </tr>\n",
       "    <tr>\n",
       "      <th>5</th>\n",
       "      <td>2009</td>\n",
       "      <td>0.081344</td>\n",
       "      <td>0.059288</td>\n",
       "      <td>0.085188</td>\n",
       "      <td>0.091663</td>\n",
       "      <td>0.083772</td>\n",
       "      <td>0.145083</td>\n",
       "      <td>0.146095</td>\n",
       "      <td>0.225415</td>\n",
       "      <td>0.096722</td>\n",
       "      <td>0.066775</td>\n",
       "    </tr>\n",
       "    <tr>\n",
       "      <th>6</th>\n",
       "      <td>2010</td>\n",
       "      <td>0.125809</td>\n",
       "      <td>0.075430</td>\n",
       "      <td>0.099094</td>\n",
       "      <td>0.054816</td>\n",
       "      <td>0.106489</td>\n",
       "      <td>0.175171</td>\n",
       "      <td>0.117489</td>\n",
       "      <td>0.207062</td>\n",
       "      <td>0.095766</td>\n",
       "      <td>0.068682</td>\n",
       "    </tr>\n",
       "  </tbody>\n",
       "</table>\n",
       "</div>"
      ],
      "text/plain": [
       "    POA  Decile 1  Decile 2  Decile 3  Decile 4  Decile 5  Decile 6  Decile 7  \\\n",
       "1  2000  0.040685  0.097690  0.161361  0.133778  0.092633  0.187220  0.110792   \n",
       "3  2007  0.117578  0.141958  0.187180  0.126229  0.095163  0.165159  0.084546   \n",
       "4  2008  0.122103  0.169698  0.184899  0.081485  0.092450  0.142786  0.092450   \n",
       "5  2009  0.081344  0.059288  0.085188  0.091663  0.083772  0.145083  0.146095   \n",
       "6  2010  0.125809  0.075430  0.099094  0.054816  0.106489  0.175171  0.117489   \n",
       "\n",
       "   Decile 8  Decile 9  Decile 10  \n",
       "1  0.131709  0.055511   0.029307  \n",
       "3  0.119151  0.053087   0.027527  \n",
       "4  0.134313  0.065039   0.036880  \n",
       "5  0.225415  0.096722   0.066775  \n",
       "6  0.207062  0.095766   0.068682  "
      ]
     },
     "execution_count": 32,
     "metadata": {},
     "output_type": "execute_result"
    }
   ],
   "source": [
    "# Compute proportions of deciles for each POA\n",
    "\n",
    "cols = ['Decile 1', 'Decile 2', 'Decile 3', 'Decile 4', 'Decile 5',\n",
    "       'Decile 6', 'Decile 7', 'Decile 8', 'Decile 9', 'Decile 10']\n",
    "\n",
    "for c in cols:\n",
    "    hi_data[c] = hi_data[c]/hi_data['total']\n",
    "    \n",
    "\n",
    "hi_data.drop(columns = 'total', inplace = True)\n",
    "    \n",
    "hi_data.head()"
   ]
  },
  {
   "cell_type": "markdown",
   "id": "dc3e8440",
   "metadata": {},
   "source": [
    "#### Feature engineering"
   ]
  },
  {
   "cell_type": "code",
   "execution_count": 33,
   "id": "2ecd61ad",
   "metadata": {},
   "outputs": [
    {
     "data": {
      "text/html": [
       "<div>\n",
       "<style scoped>\n",
       "    .dataframe tbody tr th:only-of-type {\n",
       "        vertical-align: middle;\n",
       "    }\n",
       "\n",
       "    .dataframe tbody tr th {\n",
       "        vertical-align: top;\n",
       "    }\n",
       "\n",
       "    .dataframe thead th {\n",
       "        text-align: right;\n",
       "    }\n",
       "</style>\n",
       "<table border=\"1\" class=\"dataframe\">\n",
       "  <thead>\n",
       "    <tr style=\"text-align: right;\">\n",
       "      <th></th>\n",
       "      <th>POA</th>\n",
       "      <th>Deciles_1_2</th>\n",
       "      <th>Deciles_3_4</th>\n",
       "      <th>Deciles_5_6</th>\n",
       "      <th>Deciles_6_8</th>\n",
       "      <th>Deciles_9_10</th>\n",
       "    </tr>\n",
       "  </thead>\n",
       "  <tbody>\n",
       "    <tr>\n",
       "      <th>1</th>\n",
       "      <td>2000</td>\n",
       "      <td>0.138375</td>\n",
       "      <td>0.295138</td>\n",
       "      <td>0.279853</td>\n",
       "      <td>0.242501</td>\n",
       "      <td>0.084818</td>\n",
       "    </tr>\n",
       "    <tr>\n",
       "      <th>3</th>\n",
       "      <td>2007</td>\n",
       "      <td>0.259536</td>\n",
       "      <td>0.313409</td>\n",
       "      <td>0.260322</td>\n",
       "      <td>0.203696</td>\n",
       "      <td>0.080613</td>\n",
       "    </tr>\n",
       "    <tr>\n",
       "      <th>4</th>\n",
       "      <td>2008</td>\n",
       "      <td>0.291802</td>\n",
       "      <td>0.266384</td>\n",
       "      <td>0.235235</td>\n",
       "      <td>0.226763</td>\n",
       "      <td>0.101919</td>\n",
       "    </tr>\n",
       "    <tr>\n",
       "      <th>5</th>\n",
       "      <td>2009</td>\n",
       "      <td>0.140631</td>\n",
       "      <td>0.176851</td>\n",
       "      <td>0.228855</td>\n",
       "      <td>0.371510</td>\n",
       "      <td>0.163497</td>\n",
       "    </tr>\n",
       "    <tr>\n",
       "      <th>6</th>\n",
       "      <td>2010</td>\n",
       "      <td>0.201239</td>\n",
       "      <td>0.153910</td>\n",
       "      <td>0.281660</td>\n",
       "      <td>0.324552</td>\n",
       "      <td>0.164448</td>\n",
       "    </tr>\n",
       "  </tbody>\n",
       "</table>\n",
       "</div>"
      ],
      "text/plain": [
       "    POA  Deciles_1_2  Deciles_3_4  Deciles_5_6  Deciles_6_8  Deciles_9_10\n",
       "1  2000     0.138375     0.295138     0.279853     0.242501      0.084818\n",
       "3  2007     0.259536     0.313409     0.260322     0.203696      0.080613\n",
       "4  2008     0.291802     0.266384     0.235235     0.226763      0.101919\n",
       "5  2009     0.140631     0.176851     0.228855     0.371510      0.163497\n",
       "6  2010     0.201239     0.153910     0.281660     0.324552      0.164448"
      ]
     },
     "execution_count": 33,
     "metadata": {},
     "output_type": "execute_result"
    }
   ],
   "source": [
    "# We cant compute quintiles from raw data, so deciles will be merged to reduce complexity of model\n",
    "\n",
    "hi_data['Deciles_1_2'] = hi_data['Decile 1'] + hi_data['Decile 2']\n",
    "hi_data['Deciles_3_4'] = hi_data['Decile 3'] + hi_data['Decile 4']\n",
    "hi_data['Deciles_5_6'] = hi_data['Decile 5'] + hi_data['Decile 6']\n",
    "hi_data['Deciles_6_8'] = hi_data['Decile 7'] + hi_data['Decile 8']\n",
    "hi_data['Deciles_9_10'] = hi_data['Decile 9'] + hi_data['Decile 10']\n",
    "\n",
    "hi_data = hi_data[['POA', 'Deciles_1_2', 'Deciles_3_4', 'Deciles_5_6',\n",
    "                  'Deciles_6_8', 'Deciles_9_10']]\n",
    "\n",
    "hi_data.head()"
   ]
  },
  {
   "cell_type": "markdown",
   "id": "16c3cdcb",
   "metadata": {},
   "source": [
    "### OCCUPATION data"
   ]
  },
  {
   "cell_type": "markdown",
   "id": "dc819977",
   "metadata": {},
   "source": [
    "#### Importing data"
   ]
  },
  {
   "cell_type": "code",
   "execution_count": 34,
   "id": "bed6772d",
   "metadata": {},
   "outputs": [
    {
     "data": {
      "text/html": [
       "<div>\n",
       "<style scoped>\n",
       "    .dataframe tbody tr th:only-of-type {\n",
       "        vertical-align: middle;\n",
       "    }\n",
       "\n",
       "    .dataframe tbody tr th {\n",
       "        vertical-align: top;\n",
       "    }\n",
       "\n",
       "    .dataframe thead th {\n",
       "        text-align: right;\n",
       "    }\n",
       "</style>\n",
       "<table border=\"1\" class=\"dataframe\">\n",
       "  <thead>\n",
       "    <tr style=\"text-align: right;\">\n",
       "      <th></th>\n",
       "      <th>POA</th>\n",
       "      <th>OCCP - 1 Digit Level</th>\n",
       "      <th>Count</th>\n",
       "    </tr>\n",
       "  </thead>\n",
       "  <tbody>\n",
       "    <tr>\n",
       "      <th>0</th>\n",
       "      <td>2000</td>\n",
       "      <td>Managers</td>\n",
       "      <td>2183.0</td>\n",
       "    </tr>\n",
       "    <tr>\n",
       "      <th>1</th>\n",
       "      <td>2000</td>\n",
       "      <td>Professionals</td>\n",
       "      <td>3820.0</td>\n",
       "    </tr>\n",
       "    <tr>\n",
       "      <th>2</th>\n",
       "      <td>2000</td>\n",
       "      <td>Technicians and Trades Workers</td>\n",
       "      <td>1690.0</td>\n",
       "    </tr>\n",
       "    <tr>\n",
       "      <th>3</th>\n",
       "      <td>2000</td>\n",
       "      <td>Community and Personal Service Workers</td>\n",
       "      <td>2474.0</td>\n",
       "    </tr>\n",
       "    <tr>\n",
       "      <th>4</th>\n",
       "      <td>2000</td>\n",
       "      <td>Clerical and Administrative Workers</td>\n",
       "      <td>1307.0</td>\n",
       "    </tr>\n",
       "  </tbody>\n",
       "</table>\n",
       "</div>"
      ],
      "text/plain": [
       "    POA                    OCCP - 1 Digit Level   Count\n",
       "0  2000                                Managers  2183.0\n",
       "1  2000                           Professionals  3820.0\n",
       "2  2000          Technicians and Trades Workers  1690.0\n",
       "3  2000  Community and Personal Service Workers  2474.0\n",
       "4  2000     Clerical and Administrative Workers  1307.0"
      ]
     },
     "execution_count": 34,
     "metadata": {},
     "output_type": "execute_result"
    }
   ],
   "source": [
    "# Load dataframe\n",
    "\n",
    "occ_data = pd.read_csv('files/portolio_4_datasets/census_features/Occupation_POA.csv', \n",
    "                       skiprows = 8, usecols = ['POA (UR)', 'OCCP - 1 Digit Level', 'Count'])\n",
    "\n",
    "\n",
    "# Extract POA code without state acronym\n",
    "\n",
    "occ_data['POA (UR)'] = occ_data['POA (UR)'].str.extract('(\\d{4,})')\n",
    "occ_data.rename(columns = {'POA (UR)': 'POA'}, inplace = True)\n",
    "\n",
    "occ_data.head()"
   ]
  },
  {
   "cell_type": "code",
   "execution_count": 35,
   "id": "7edbddf5",
   "metadata": {},
   "outputs": [
    {
     "data": {
      "text/html": [
       "<div>\n",
       "<style scoped>\n",
       "    .dataframe tbody tr th:only-of-type {\n",
       "        vertical-align: middle;\n",
       "    }\n",
       "\n",
       "    .dataframe tbody tr th {\n",
       "        vertical-align: top;\n",
       "    }\n",
       "\n",
       "    .dataframe thead th {\n",
       "        text-align: right;\n",
       "    }\n",
       "</style>\n",
       "<table border=\"1\" class=\"dataframe\">\n",
       "  <thead>\n",
       "    <tr style=\"text-align: right;\">\n",
       "      <th>OCCP - 1 Digit Level</th>\n",
       "      <th>POA</th>\n",
       "      <th>Clerical and Administrative Workers</th>\n",
       "      <th>Community and Personal Service Workers</th>\n",
       "      <th>Labourers</th>\n",
       "      <th>Machinery Operators and Drivers</th>\n",
       "      <th>Managers</th>\n",
       "      <th>Professionals</th>\n",
       "      <th>Sales Workers</th>\n",
       "      <th>Technicians and Trades Workers</th>\n",
       "      <th>total</th>\n",
       "    </tr>\n",
       "  </thead>\n",
       "  <tbody>\n",
       "    <tr>\n",
       "      <th>0</th>\n",
       "      <td>0800</td>\n",
       "      <td>483.0</td>\n",
       "      <td>542.0</td>\n",
       "      <td>368.0</td>\n",
       "      <td>134.0</td>\n",
       "      <td>652.0</td>\n",
       "      <td>955.0</td>\n",
       "      <td>240.0</td>\n",
       "      <td>624.0</td>\n",
       "      <td>3998.0</td>\n",
       "    </tr>\n",
       "    <tr>\n",
       "      <th>1</th>\n",
       "      <td>0810</td>\n",
       "      <td>2224.0</td>\n",
       "      <td>2185.0</td>\n",
       "      <td>1508.0</td>\n",
       "      <td>832.0</td>\n",
       "      <td>1954.0</td>\n",
       "      <td>4431.0</td>\n",
       "      <td>1338.0</td>\n",
       "      <td>2328.0</td>\n",
       "      <td>16800.0</td>\n",
       "    </tr>\n",
       "    <tr>\n",
       "      <th>2</th>\n",
       "      <td>0812</td>\n",
       "      <td>1563.0</td>\n",
       "      <td>1135.0</td>\n",
       "      <td>925.0</td>\n",
       "      <td>586.0</td>\n",
       "      <td>1010.0</td>\n",
       "      <td>1774.0</td>\n",
       "      <td>778.0</td>\n",
       "      <td>1507.0</td>\n",
       "      <td>9278.0</td>\n",
       "    </tr>\n",
       "    <tr>\n",
       "      <th>3</th>\n",
       "      <td>0815</td>\n",
       "      <td>5.0</td>\n",
       "      <td>23.0</td>\n",
       "      <td>33.0</td>\n",
       "      <td>16.0</td>\n",
       "      <td>3.0</td>\n",
       "      <td>9.0</td>\n",
       "      <td>24.0</td>\n",
       "      <td>4.0</td>\n",
       "      <td>117.0</td>\n",
       "    </tr>\n",
       "    <tr>\n",
       "      <th>4</th>\n",
       "      <td>0820</td>\n",
       "      <td>1536.0</td>\n",
       "      <td>1243.0</td>\n",
       "      <td>721.0</td>\n",
       "      <td>356.0</td>\n",
       "      <td>1886.0</td>\n",
       "      <td>2762.0</td>\n",
       "      <td>731.0</td>\n",
       "      <td>1773.0</td>\n",
       "      <td>11008.0</td>\n",
       "    </tr>\n",
       "  </tbody>\n",
       "</table>\n",
       "</div>"
      ],
      "text/plain": [
       "OCCP - 1 Digit Level   POA  Clerical and Administrative Workers  \\\n",
       "0                     0800                                483.0   \n",
       "1                     0810                               2224.0   \n",
       "2                     0812                               1563.0   \n",
       "3                     0815                                  5.0   \n",
       "4                     0820                               1536.0   \n",
       "\n",
       "OCCP - 1 Digit Level  Community and Personal Service Workers  Labourers  \\\n",
       "0                                                      542.0      368.0   \n",
       "1                                                     2185.0     1508.0   \n",
       "2                                                     1135.0      925.0   \n",
       "3                                                       23.0       33.0   \n",
       "4                                                     1243.0      721.0   \n",
       "\n",
       "OCCP - 1 Digit Level  Machinery Operators and Drivers  Managers  \\\n",
       "0                                               134.0     652.0   \n",
       "1                                               832.0    1954.0   \n",
       "2                                               586.0    1010.0   \n",
       "3                                                16.0       3.0   \n",
       "4                                               356.0    1886.0   \n",
       "\n",
       "OCCP - 1 Digit Level  Professionals  Sales Workers  \\\n",
       "0                             955.0          240.0   \n",
       "1                            4431.0         1338.0   \n",
       "2                            1774.0          778.0   \n",
       "3                               9.0           24.0   \n",
       "4                            2762.0          731.0   \n",
       "\n",
       "OCCP - 1 Digit Level  Technicians and Trades Workers    total  \n",
       "0                                              624.0   3998.0  \n",
       "1                                             2328.0  16800.0  \n",
       "2                                             1507.0   9278.0  \n",
       "3                                                4.0    117.0  \n",
       "4                                             1773.0  11008.0  "
      ]
     },
     "execution_count": 35,
     "metadata": {},
     "output_type": "execute_result"
    }
   ],
   "source": [
    "# Pivot table\n",
    "\n",
    "occ_data = pd.pivot_table(occ_data, values = 'Count', \n",
    "                           index=['POA'], \n",
    "                           columns=['OCCP - 1 Digit Level'], \n",
    "                          aggfunc = np.sum).reset_index() # Pivot table to reorder the data\n",
    "\n",
    "\n",
    "# Drop not stated and not applicable columns\n",
    "\n",
    "occ_data.drop(columns = ['Not applicable', 'Not stated', 'Inadequately described', 'Total'], inplace = True)\n",
    "\n",
    "\n",
    "# Compute total for deciles\n",
    "occ_data['total'] = occ_data.sum(axis = 1, numeric_only = True)\n",
    "\n",
    "occ_data.head()"
   ]
  },
  {
   "cell_type": "markdown",
   "id": "daa56632",
   "metadata": {},
   "source": [
    "#### Cleaning OCCUP data"
   ]
  },
  {
   "cell_type": "code",
   "execution_count": 36,
   "id": "e14197f4",
   "metadata": {},
   "outputs": [
    {
     "data": {
      "text/plain": [
       "OCCP - 1 Digit Level\n",
       "POA                                       0\n",
       "Clerical and Administrative Workers       0\n",
       "Community and Personal Service Workers    0\n",
       "Labourers                                 0\n",
       "Machinery Operators and Drivers           0\n",
       "Managers                                  0\n",
       "Professionals                             0\n",
       "Sales Workers                             0\n",
       "Technicians and Trades Workers            0\n",
       "total                                     0\n",
       "dtype: int64"
      ]
     },
     "execution_count": 36,
     "metadata": {},
     "output_type": "execute_result"
    }
   ],
   "source": [
    "# Check for null values\n",
    "\n",
    "occ_data.isnull().sum()"
   ]
  },
  {
   "cell_type": "code",
   "execution_count": 37,
   "id": "0f4af72e",
   "metadata": {},
   "outputs": [
    {
     "data": {
      "text/plain": [
       "(21, 10)"
      ]
     },
     "execution_count": 37,
     "metadata": {},
     "output_type": "execute_result"
    }
   ],
   "source": [
    "# Check for empty observations\n",
    "\n",
    "occ_data[occ_data['total'] == 0].shape"
   ]
  },
  {
   "cell_type": "code",
   "execution_count": 38,
   "id": "9efb359d",
   "metadata": {},
   "outputs": [],
   "source": [
    "# Drop observations that have no values\n",
    "\n",
    "occ_data = occ_data[occ_data['total'] != 0]"
   ]
  },
  {
   "cell_type": "markdown",
   "id": "3c4e9271",
   "metadata": {},
   "source": [
    "#### Feature engineering"
   ]
  },
  {
   "cell_type": "code",
   "execution_count": 39,
   "id": "1d8e0ba1",
   "metadata": {},
   "outputs": [
    {
     "data": {
      "text/html": [
       "<div>\n",
       "<style scoped>\n",
       "    .dataframe tbody tr th:only-of-type {\n",
       "        vertical-align: middle;\n",
       "    }\n",
       "\n",
       "    .dataframe tbody tr th {\n",
       "        vertical-align: top;\n",
       "    }\n",
       "\n",
       "    .dataframe thead th {\n",
       "        text-align: right;\n",
       "    }\n",
       "</style>\n",
       "<table border=\"1\" class=\"dataframe\">\n",
       "  <thead>\n",
       "    <tr style=\"text-align: right;\">\n",
       "      <th>OCCP - 1 Digit Level</th>\n",
       "      <th>POA</th>\n",
       "      <th>State_and_admin</th>\n",
       "      <th>Labourers</th>\n",
       "      <th>Prof_and_tech</th>\n",
       "      <th>total</th>\n",
       "    </tr>\n",
       "  </thead>\n",
       "  <tbody>\n",
       "    <tr>\n",
       "      <th>0</th>\n",
       "      <td>0800</td>\n",
       "      <td>1025.0</td>\n",
       "      <td>502.0</td>\n",
       "      <td>2471.0</td>\n",
       "      <td>3998.0</td>\n",
       "    </tr>\n",
       "    <tr>\n",
       "      <th>1</th>\n",
       "      <td>0810</td>\n",
       "      <td>4409.0</td>\n",
       "      <td>2340.0</td>\n",
       "      <td>10051.0</td>\n",
       "      <td>16800.0</td>\n",
       "    </tr>\n",
       "    <tr>\n",
       "      <th>2</th>\n",
       "      <td>0812</td>\n",
       "      <td>2698.0</td>\n",
       "      <td>1511.0</td>\n",
       "      <td>5069.0</td>\n",
       "      <td>9278.0</td>\n",
       "    </tr>\n",
       "    <tr>\n",
       "      <th>3</th>\n",
       "      <td>0815</td>\n",
       "      <td>28.0</td>\n",
       "      <td>49.0</td>\n",
       "      <td>40.0</td>\n",
       "      <td>117.0</td>\n",
       "    </tr>\n",
       "    <tr>\n",
       "      <th>4</th>\n",
       "      <td>0820</td>\n",
       "      <td>2779.0</td>\n",
       "      <td>1077.0</td>\n",
       "      <td>7152.0</td>\n",
       "      <td>11008.0</td>\n",
       "    </tr>\n",
       "  </tbody>\n",
       "</table>\n",
       "</div>"
      ],
      "text/plain": [
       "OCCP - 1 Digit Level   POA  State_and_admin  Labourers  Prof_and_tech    total\n",
       "0                     0800           1025.0      502.0         2471.0   3998.0\n",
       "1                     0810           4409.0     2340.0        10051.0  16800.0\n",
       "2                     0812           2698.0     1511.0         5069.0   9278.0\n",
       "3                     0815             28.0       49.0           40.0    117.0\n",
       "4                     0820           2779.0     1077.0         7152.0  11008.0"
      ]
     },
     "execution_count": 39,
     "metadata": {},
     "output_type": "execute_result"
    }
   ],
   "source": [
    "occ_data['State_and_admin'] = occ_data['Clerical and Administrative Workers'] + \\\n",
    "                                  occ_data['Community and Personal Service Workers']\n",
    "\n",
    "occ_data['Labourers'] = occ_data['Labourers'] + occ_data['Machinery Operators and Drivers']\n",
    "\n",
    "occ_data['Prof_and_tech'] = occ_data['Managers'] + occ_data['Professionals'] + \\\n",
    "                            occ_data['Sales Workers'] + occ_data['Technicians and Trades Workers']\n",
    "\n",
    "occ_data = occ_data[['POA', 'State_and_admin', 'Labourers', 'Prof_and_tech', 'total']]\n",
    "\n",
    "occ_data.head()"
   ]
  },
  {
   "cell_type": "code",
   "execution_count": 40,
   "id": "644ac0f6",
   "metadata": {},
   "outputs": [
    {
     "data": {
      "text/html": [
       "<div>\n",
       "<style scoped>\n",
       "    .dataframe tbody tr th:only-of-type {\n",
       "        vertical-align: middle;\n",
       "    }\n",
       "\n",
       "    .dataframe tbody tr th {\n",
       "        vertical-align: top;\n",
       "    }\n",
       "\n",
       "    .dataframe thead th {\n",
       "        text-align: right;\n",
       "    }\n",
       "</style>\n",
       "<table border=\"1\" class=\"dataframe\">\n",
       "  <thead>\n",
       "    <tr style=\"text-align: right;\">\n",
       "      <th>OCCP - 1 Digit Level</th>\n",
       "      <th>POA</th>\n",
       "      <th>State_and_admin</th>\n",
       "      <th>Labourers</th>\n",
       "      <th>Prof_and_tech</th>\n",
       "    </tr>\n",
       "  </thead>\n",
       "  <tbody>\n",
       "    <tr>\n",
       "      <th>0</th>\n",
       "      <td>0800</td>\n",
       "      <td>0.256378</td>\n",
       "      <td>0.125563</td>\n",
       "      <td>0.618059</td>\n",
       "    </tr>\n",
       "    <tr>\n",
       "      <th>1</th>\n",
       "      <td>0810</td>\n",
       "      <td>0.262440</td>\n",
       "      <td>0.139286</td>\n",
       "      <td>0.598274</td>\n",
       "    </tr>\n",
       "    <tr>\n",
       "      <th>2</th>\n",
       "      <td>0812</td>\n",
       "      <td>0.290795</td>\n",
       "      <td>0.162858</td>\n",
       "      <td>0.546346</td>\n",
       "    </tr>\n",
       "    <tr>\n",
       "      <th>3</th>\n",
       "      <td>0815</td>\n",
       "      <td>0.239316</td>\n",
       "      <td>0.418803</td>\n",
       "      <td>0.341880</td>\n",
       "    </tr>\n",
       "    <tr>\n",
       "      <th>4</th>\n",
       "      <td>0820</td>\n",
       "      <td>0.252453</td>\n",
       "      <td>0.097838</td>\n",
       "      <td>0.649709</td>\n",
       "    </tr>\n",
       "  </tbody>\n",
       "</table>\n",
       "</div>"
      ],
      "text/plain": [
       "OCCP - 1 Digit Level   POA  State_and_admin  Labourers  Prof_and_tech\n",
       "0                     0800         0.256378   0.125563       0.618059\n",
       "1                     0810         0.262440   0.139286       0.598274\n",
       "2                     0812         0.290795   0.162858       0.546346\n",
       "3                     0815         0.239316   0.418803       0.341880\n",
       "4                     0820         0.252453   0.097838       0.649709"
      ]
     },
     "execution_count": 40,
     "metadata": {},
     "output_type": "execute_result"
    }
   ],
   "source": [
    "# Compute proportions of deciles for each POA\n",
    "\n",
    "cols = ['State_and_admin', 'Labourers', 'Prof_and_tech']\n",
    "\n",
    "for c in cols:\n",
    "    occ_data[c] = occ_data[c]/occ_data['total']\n",
    "    \n",
    "\n",
    "occ_data.drop(columns = 'total', inplace = True)\n",
    "    \n",
    "occ_data.head()"
   ]
  },
  {
   "cell_type": "markdown",
   "id": "09cb36e3",
   "metadata": {},
   "source": [
    "### EDUCATION data"
   ]
  },
  {
   "cell_type": "markdown",
   "id": "dacdd9f1",
   "metadata": {},
   "source": [
    "#### Importing data"
   ]
  },
  {
   "cell_type": "code",
   "execution_count": 41,
   "id": "19b44c56",
   "metadata": {
    "scrolled": true
   },
   "outputs": [
    {
     "data": {
      "text/html": [
       "<div>\n",
       "<style scoped>\n",
       "    .dataframe tbody tr th:only-of-type {\n",
       "        vertical-align: middle;\n",
       "    }\n",
       "\n",
       "    .dataframe tbody tr th {\n",
       "        vertical-align: top;\n",
       "    }\n",
       "\n",
       "    .dataframe thead th {\n",
       "        text-align: right;\n",
       "    }\n",
       "</style>\n",
       "<table border=\"1\" class=\"dataframe\">\n",
       "  <thead>\n",
       "    <tr style=\"text-align: right;\">\n",
       "      <th></th>\n",
       "      <th>POA</th>\n",
       "      <th>Postgraduate Degree Level</th>\n",
       "      <th>Graduate Diploma and Graduate Certificate Level</th>\n",
       "      <th>Bachelor Degree Level</th>\n",
       "      <th>Advanced Diploma and Diploma Level</th>\n",
       "      <th>Certificate III &amp; IV Level</th>\n",
       "      <th>Secondary Education - Years 10 and above</th>\n",
       "      <th>Certificate I &amp; II Level</th>\n",
       "      <th>Secondary Education - Years 9 and below</th>\n",
       "    </tr>\n",
       "  </thead>\n",
       "  <tbody>\n",
       "    <tr>\n",
       "      <th>1</th>\n",
       "      <td>2000</td>\n",
       "      <td>2836</td>\n",
       "      <td>307.0</td>\n",
       "      <td>7278.0</td>\n",
       "      <td>2852.0</td>\n",
       "      <td>931.0</td>\n",
       "      <td>6241.0</td>\n",
       "      <td>9.0</td>\n",
       "      <td>443.0</td>\n",
       "    </tr>\n",
       "    <tr>\n",
       "      <th>2</th>\n",
       "      <td>2006</td>\n",
       "      <td>34</td>\n",
       "      <td>4.0</td>\n",
       "      <td>114.0</td>\n",
       "      <td>12.0</td>\n",
       "      <td>10.0</td>\n",
       "      <td>912.0</td>\n",
       "      <td>0.0</td>\n",
       "      <td>5.0</td>\n",
       "    </tr>\n",
       "    <tr>\n",
       "      <th>3</th>\n",
       "      <td>2007</td>\n",
       "      <td>903</td>\n",
       "      <td>95.0</td>\n",
       "      <td>2537.0</td>\n",
       "      <td>622.0</td>\n",
       "      <td>275.0</td>\n",
       "      <td>2496.0</td>\n",
       "      <td>0.0</td>\n",
       "      <td>200.0</td>\n",
       "    </tr>\n",
       "    <tr>\n",
       "      <th>4</th>\n",
       "      <td>2008</td>\n",
       "      <td>1387</td>\n",
       "      <td>174.0</td>\n",
       "      <td>3549.0</td>\n",
       "      <td>727.0</td>\n",
       "      <td>389.0</td>\n",
       "      <td>3269.0</td>\n",
       "      <td>0.0</td>\n",
       "      <td>142.0</td>\n",
       "    </tr>\n",
       "    <tr>\n",
       "      <th>5</th>\n",
       "      <td>2009</td>\n",
       "      <td>1583</td>\n",
       "      <td>281.0</td>\n",
       "      <td>3653.0</td>\n",
       "      <td>1099.0</td>\n",
       "      <td>659.0</td>\n",
       "      <td>2387.0</td>\n",
       "      <td>3.0</td>\n",
       "      <td>244.0</td>\n",
       "    </tr>\n",
       "  </tbody>\n",
       "</table>\n",
       "</div>"
      ],
      "text/plain": [
       "    POA Postgraduate Degree Level  \\\n",
       "1  2000                      2836   \n",
       "2  2006                        34   \n",
       "3  2007                       903   \n",
       "4  2008                      1387   \n",
       "5  2009                      1583   \n",
       "\n",
       "   Graduate Diploma and Graduate Certificate Level  Bachelor Degree Level  \\\n",
       "1                                            307.0                 7278.0   \n",
       "2                                              4.0                  114.0   \n",
       "3                                             95.0                 2537.0   \n",
       "4                                            174.0                 3549.0   \n",
       "5                                            281.0                 3653.0   \n",
       "\n",
       "   Advanced Diploma and Diploma Level  Certificate III & IV Level  \\\n",
       "1                              2852.0                       931.0   \n",
       "2                                12.0                        10.0   \n",
       "3                               622.0                       275.0   \n",
       "4                               727.0                       389.0   \n",
       "5                              1099.0                       659.0   \n",
       "\n",
       "   Secondary Education - Years 10 and above  Certificate I & II Level  \\\n",
       "1                                    6241.0                       9.0   \n",
       "2                                     912.0                       0.0   \n",
       "3                                    2496.0                       0.0   \n",
       "4                                    3269.0                       0.0   \n",
       "5                                    2387.0                       3.0   \n",
       "\n",
       "   Secondary Education - Years 9 and below  \n",
       "1                                    443.0  \n",
       "2                                      5.0  \n",
       "3                                    200.0  \n",
       "4                                    142.0  \n",
       "5                                    244.0  "
      ]
     },
     "execution_count": 41,
     "metadata": {},
     "output_type": "execute_result"
    }
   ],
   "source": [
    "# Load dataframe\n",
    "\n",
    "educ_data = pd.read_csv('files/portolio_4_datasets/census_features/Education_POA.csv', skiprows = 8)\n",
    "\n",
    "educ_data.drop(index = educ_data.index[0], axis=0, inplace=True)\n",
    "\n",
    "\n",
    "# Extract POA code without state acronym\n",
    "\n",
    "educ_data['HEAP - 1 Digit Level'] = educ_data['HEAP - 1 Digit Level'].str.extract('(\\d{4,})')\n",
    "educ_data.rename(columns = {'HEAP - 1 Digit Level': 'POA'}, inplace = True)\n",
    "\n",
    "\n",
    "# Drop columns that are not going to be used\n",
    "\n",
    "educ_data.drop(columns = ['Not stated', 'Not applicable', 'Total', \n",
    "                          'Unnamed: 13', 'Supplementary Codes'], inplace = True)\n",
    "\n",
    "educ_data.dropna(inplace = True)\n",
    "\n",
    "educ_data.head()"
   ]
  },
  {
   "cell_type": "code",
   "execution_count": 42,
   "id": "ddf08315",
   "metadata": {},
   "outputs": [
    {
     "data": {
      "text/plain": [
       "Index(['POA', 'Postgraduate Degree Level',\n",
       "       'Graduate Diploma and Graduate Certificate Level',\n",
       "       'Bachelor Degree Level', 'Advanced Diploma and Diploma Level',\n",
       "       'Certificate III & IV Level',\n",
       "       'Secondary Education - Years 10 and above', 'Certificate I & II Level',\n",
       "       'Secondary Education - Years 9 and below'],\n",
       "      dtype='object')"
      ]
     },
     "execution_count": 42,
     "metadata": {},
     "output_type": "execute_result"
    }
   ],
   "source": [
    "educ_data.columns"
   ]
  },
  {
   "cell_type": "markdown",
   "id": "ed61e1d6",
   "metadata": {},
   "source": [
    "#### Cleaning EDUC data"
   ]
  },
  {
   "cell_type": "code",
   "execution_count": 43,
   "id": "24dc7c2f",
   "metadata": {},
   "outputs": [
    {
     "data": {
      "text/plain": [
       "POA                                                object\n",
       "Postgraduate Degree Level                           int64\n",
       "Graduate Diploma and Graduate Certificate Level     int64\n",
       "Bachelor Degree Level                               int64\n",
       "Advanced Diploma and Diploma Level                  int64\n",
       "Certificate III & IV Level                          int64\n",
       "Secondary Education - Years 10 and above            int64\n",
       "Certificate I & II Level                            int64\n",
       "Secondary Education - Years 9 and below             int64\n",
       "dtype: object"
      ]
     },
     "execution_count": 43,
     "metadata": {},
     "output_type": "execute_result"
    }
   ],
   "source": [
    "# Change dtypes of columns\n",
    "\n",
    "cols = ['Postgraduate Degree Level',\n",
    "       'Graduate Diploma and Graduate Certificate Level',\n",
    "       'Bachelor Degree Level', 'Advanced Diploma and Diploma Level',\n",
    "       'Certificate III & IV Level',\n",
    "       'Secondary Education - Years 10 and above', 'Certificate I & II Level',\n",
    "       'Secondary Education - Years 9 and below']\n",
    "\n",
    "for c in cols:\n",
    "    educ_data[c] = educ_data[c].astype(int)\n",
    "    \n",
    "educ_data.dtypes"
   ]
  },
  {
   "cell_type": "code",
   "execution_count": 44,
   "id": "70b7814a",
   "metadata": {},
   "outputs": [
    {
     "data": {
      "text/plain": [
       "POA                                                0\n",
       "Postgraduate Degree Level                          0\n",
       "Graduate Diploma and Graduate Certificate Level    0\n",
       "Bachelor Degree Level                              0\n",
       "Advanced Diploma and Diploma Level                 0\n",
       "Certificate III & IV Level                         0\n",
       "Secondary Education - Years 10 and above           0\n",
       "Certificate I & II Level                           0\n",
       "Secondary Education - Years 9 and below            0\n",
       "dtype: int64"
      ]
     },
     "execution_count": 44,
     "metadata": {},
     "output_type": "execute_result"
    }
   ],
   "source": [
    "#Check for null\n",
    "educ_data.isnull().sum()"
   ]
  },
  {
   "cell_type": "markdown",
   "id": "9d68e0f5",
   "metadata": {},
   "source": [
    "#### Feature engineering"
   ]
  },
  {
   "cell_type": "code",
   "execution_count": 45,
   "id": "ba02a253",
   "metadata": {},
   "outputs": [
    {
     "data": {
      "text/html": [
       "<div>\n",
       "<style scoped>\n",
       "    .dataframe tbody tr th:only-of-type {\n",
       "        vertical-align: middle;\n",
       "    }\n",
       "\n",
       "    .dataframe tbody tr th {\n",
       "        vertical-align: top;\n",
       "    }\n",
       "\n",
       "    .dataframe thead th {\n",
       "        text-align: right;\n",
       "    }\n",
       "</style>\n",
       "<table border=\"1\" class=\"dataframe\">\n",
       "  <thead>\n",
       "    <tr style=\"text-align: right;\">\n",
       "      <th></th>\n",
       "      <th>POA</th>\n",
       "      <th>Bach_or_higher</th>\n",
       "      <th>Dipl_or_cert</th>\n",
       "      <th>College_or_less</th>\n",
       "    </tr>\n",
       "  </thead>\n",
       "  <tbody>\n",
       "    <tr>\n",
       "      <th>1</th>\n",
       "      <td>2000</td>\n",
       "      <td>10421</td>\n",
       "      <td>3783</td>\n",
       "      <td>6693</td>\n",
       "    </tr>\n",
       "    <tr>\n",
       "      <th>2</th>\n",
       "      <td>2006</td>\n",
       "      <td>152</td>\n",
       "      <td>22</td>\n",
       "      <td>917</td>\n",
       "    </tr>\n",
       "    <tr>\n",
       "      <th>3</th>\n",
       "      <td>2007</td>\n",
       "      <td>3535</td>\n",
       "      <td>897</td>\n",
       "      <td>2696</td>\n",
       "    </tr>\n",
       "    <tr>\n",
       "      <th>4</th>\n",
       "      <td>2008</td>\n",
       "      <td>5110</td>\n",
       "      <td>1116</td>\n",
       "      <td>3411</td>\n",
       "    </tr>\n",
       "    <tr>\n",
       "      <th>5</th>\n",
       "      <td>2009</td>\n",
       "      <td>5517</td>\n",
       "      <td>1758</td>\n",
       "      <td>2634</td>\n",
       "    </tr>\n",
       "  </tbody>\n",
       "</table>\n",
       "</div>"
      ],
      "text/plain": [
       "    POA  Bach_or_higher  Dipl_or_cert  College_or_less\n",
       "1  2000           10421          3783             6693\n",
       "2  2006             152            22              917\n",
       "3  2007            3535           897             2696\n",
       "4  2008            5110          1116             3411\n",
       "5  2009            5517          1758             2634"
      ]
     },
     "execution_count": 45,
     "metadata": {},
     "output_type": "execute_result"
    }
   ],
   "source": [
    "# Feature engeneering: adding up columns\n",
    "\n",
    "educ_data['Bach_or_higher'] = educ_data['Postgraduate Degree Level'] + \\\n",
    "                              educ_data['Graduate Diploma and Graduate Certificate Level'] + \\\n",
    "                              educ_data['Bachelor Degree Level']\n",
    "\n",
    "educ_data['Dipl_or_cert'] = educ_data['Certificate III & IV Level'] + \\\n",
    "                            educ_data['Advanced Diploma and Diploma Level']\n",
    "                        \n",
    "\n",
    "educ_data['College_or_less'] = educ_data['Secondary Education - Years 9 and below'] + \\\n",
    "                               educ_data['Secondary Education - Years 10 and above'] + \\\n",
    "                               educ_data['Certificate I & II Level']\n",
    "\n",
    "\n",
    "educ_data = educ_data[['POA', 'Bach_or_higher', 'Dipl_or_cert', 'College_or_less']]\n",
    "\n",
    "educ_data.head()"
   ]
  },
  {
   "cell_type": "code",
   "execution_count": 46,
   "id": "8ae66aed",
   "metadata": {},
   "outputs": [
    {
     "data": {
      "text/html": [
       "<div>\n",
       "<style scoped>\n",
       "    .dataframe tbody tr th:only-of-type {\n",
       "        vertical-align: middle;\n",
       "    }\n",
       "\n",
       "    .dataframe tbody tr th {\n",
       "        vertical-align: top;\n",
       "    }\n",
       "\n",
       "    .dataframe thead th {\n",
       "        text-align: right;\n",
       "    }\n",
       "</style>\n",
       "<table border=\"1\" class=\"dataframe\">\n",
       "  <thead>\n",
       "    <tr style=\"text-align: right;\">\n",
       "      <th></th>\n",
       "      <th>POA</th>\n",
       "      <th>Bach_or_higher</th>\n",
       "      <th>Dipl_or_cert</th>\n",
       "      <th>College_or_less</th>\n",
       "    </tr>\n",
       "  </thead>\n",
       "  <tbody>\n",
       "    <tr>\n",
       "      <th>1</th>\n",
       "      <td>2000</td>\n",
       "      <td>0.498684</td>\n",
       "      <td>0.181031</td>\n",
       "      <td>0.320285</td>\n",
       "    </tr>\n",
       "    <tr>\n",
       "      <th>2</th>\n",
       "      <td>2006</td>\n",
       "      <td>0.139322</td>\n",
       "      <td>0.020165</td>\n",
       "      <td>0.840513</td>\n",
       "    </tr>\n",
       "    <tr>\n",
       "      <th>3</th>\n",
       "      <td>2007</td>\n",
       "      <td>0.495932</td>\n",
       "      <td>0.125842</td>\n",
       "      <td>0.378227</td>\n",
       "    </tr>\n",
       "    <tr>\n",
       "      <th>4</th>\n",
       "      <td>2008</td>\n",
       "      <td>0.530248</td>\n",
       "      <td>0.115804</td>\n",
       "      <td>0.353948</td>\n",
       "    </tr>\n",
       "    <tr>\n",
       "      <th>5</th>\n",
       "      <td>2009</td>\n",
       "      <td>0.556767</td>\n",
       "      <td>0.177414</td>\n",
       "      <td>0.265819</td>\n",
       "    </tr>\n",
       "  </tbody>\n",
       "</table>\n",
       "</div>"
      ],
      "text/plain": [
       "    POA  Bach_or_higher  Dipl_or_cert  College_or_less\n",
       "1  2000        0.498684      0.181031         0.320285\n",
       "2  2006        0.139322      0.020165         0.840513\n",
       "3  2007        0.495932      0.125842         0.378227\n",
       "4  2008        0.530248      0.115804         0.353948\n",
       "5  2009        0.556767      0.177414         0.265819"
      ]
     },
     "execution_count": 46,
     "metadata": {},
     "output_type": "execute_result"
    }
   ],
   "source": [
    "# Computing proportions\n",
    "\n",
    "educ_data['total'] = educ_data.sum(axis = 1, numeric_only=True)\n",
    "\n",
    "cols = ['Bach_or_higher', 'Dipl_or_cert', 'College_or_less']\n",
    "\n",
    "for c in cols:\n",
    "    educ_data[c] = educ_data[c] / educ_data['total']\n",
    "    \n",
    "\n",
    "educ_data.drop(columns = 'total', inplace = True)\n",
    "\n",
    "educ_data.head()"
   ]
  },
  {
   "cell_type": "code",
   "execution_count": 47,
   "id": "54404c37",
   "metadata": {},
   "outputs": [
    {
     "data": {
      "text/plain": [
       "POA                 0\n",
       "Bach_or_higher     14\n",
       "Dipl_or_cert       14\n",
       "College_or_less    14\n",
       "dtype: int64"
      ]
     },
     "execution_count": 47,
     "metadata": {},
     "output_type": "execute_result"
    }
   ],
   "source": [
    "# Last check for\n",
    "\n",
    "educ_data.isnull().sum()"
   ]
  },
  {
   "cell_type": "code",
   "execution_count": 48,
   "id": "97c3d916",
   "metadata": {},
   "outputs": [],
   "source": [
    "educ_data.dropna(inplace = True)"
   ]
  },
  {
   "cell_type": "markdown",
   "id": "9ba48173",
   "metadata": {},
   "source": [
    "### RURAL VS URBAN AREA data"
   ]
  },
  {
   "cell_type": "markdown",
   "id": "4edc49ad",
   "metadata": {},
   "source": [
    "#### Importing data"
   ]
  },
  {
   "cell_type": "code",
   "execution_count": 49,
   "id": "6f01364b",
   "metadata": {},
   "outputs": [
    {
     "data": {
      "text/html": [
       "<div>\n",
       "<style scoped>\n",
       "    .dataframe tbody tr th:only-of-type {\n",
       "        vertical-align: middle;\n",
       "    }\n",
       "\n",
       "    .dataframe tbody tr th {\n",
       "        vertical-align: top;\n",
       "    }\n",
       "\n",
       "    .dataframe thead th {\n",
       "        text-align: right;\n",
       "    }\n",
       "</style>\n",
       "<table border=\"1\" class=\"dataframe\">\n",
       "  <thead>\n",
       "    <tr style=\"text-align: right;\">\n",
       "      <th></th>\n",
       "      <th>POA</th>\n",
       "      <th>Major Urban (NSW)</th>\n",
       "      <th>Other Urban (NSW)</th>\n",
       "      <th>Bounded Locality (NSW)</th>\n",
       "      <th>Rural Balance (NSW)</th>\n",
       "      <th>Migratory - Offshore - Shipping (NSW)</th>\n",
       "      <th>Major Urban (Vic.)</th>\n",
       "      <th>Other Urban (Vic.)</th>\n",
       "      <th>Bounded Locality (Vic.)</th>\n",
       "      <th>Rural Balance (Vic.)</th>\n",
       "      <th>...</th>\n",
       "      <th>Rural Balance (NT)</th>\n",
       "      <th>Migratory - Offshore - Shipping (NT)</th>\n",
       "      <th>Major Urban (ACT)</th>\n",
       "      <th>Bounded Locality (ACT)</th>\n",
       "      <th>Rural Balance (ACT)</th>\n",
       "      <th>Migratory - Offshore - Shipping (ACT)</th>\n",
       "      <th>Other Urban (OT)</th>\n",
       "      <th>Bounded Locality (OT)</th>\n",
       "      <th>Rural Balance (OT)</th>\n",
       "      <th>Migratory - Offshore - Shipping (OT)</th>\n",
       "    </tr>\n",
       "  </thead>\n",
       "  <tbody>\n",
       "    <tr>\n",
       "      <th>1</th>\n",
       "      <td>2000</td>\n",
       "      <td>13838</td>\n",
       "      <td>0.0</td>\n",
       "      <td>0.0</td>\n",
       "      <td>0.0</td>\n",
       "      <td>0.0</td>\n",
       "      <td>0.0</td>\n",
       "      <td>0.0</td>\n",
       "      <td>0.0</td>\n",
       "      <td>0.0</td>\n",
       "      <td>...</td>\n",
       "      <td>0.0</td>\n",
       "      <td>0.0</td>\n",
       "      <td>0.0</td>\n",
       "      <td>0.0</td>\n",
       "      <td>0.0</td>\n",
       "      <td>0.0</td>\n",
       "      <td>0.0</td>\n",
       "      <td>0.0</td>\n",
       "      <td>0.0</td>\n",
       "      <td>0.0</td>\n",
       "    </tr>\n",
       "    <tr>\n",
       "      <th>2</th>\n",
       "      <td>2006</td>\n",
       "      <td>17</td>\n",
       "      <td>0.0</td>\n",
       "      <td>0.0</td>\n",
       "      <td>0.0</td>\n",
       "      <td>0.0</td>\n",
       "      <td>0.0</td>\n",
       "      <td>0.0</td>\n",
       "      <td>0.0</td>\n",
       "      <td>0.0</td>\n",
       "      <td>...</td>\n",
       "      <td>0.0</td>\n",
       "      <td>0.0</td>\n",
       "      <td>0.0</td>\n",
       "      <td>0.0</td>\n",
       "      <td>0.0</td>\n",
       "      <td>0.0</td>\n",
       "      <td>0.0</td>\n",
       "      <td>0.0</td>\n",
       "      <td>0.0</td>\n",
       "      <td>0.0</td>\n",
       "    </tr>\n",
       "    <tr>\n",
       "      <th>3</th>\n",
       "      <td>2007</td>\n",
       "      <td>3668</td>\n",
       "      <td>0.0</td>\n",
       "      <td>0.0</td>\n",
       "      <td>0.0</td>\n",
       "      <td>0.0</td>\n",
       "      <td>0.0</td>\n",
       "      <td>0.0</td>\n",
       "      <td>0.0</td>\n",
       "      <td>0.0</td>\n",
       "      <td>...</td>\n",
       "      <td>0.0</td>\n",
       "      <td>0.0</td>\n",
       "      <td>0.0</td>\n",
       "      <td>0.0</td>\n",
       "      <td>0.0</td>\n",
       "      <td>0.0</td>\n",
       "      <td>0.0</td>\n",
       "      <td>0.0</td>\n",
       "      <td>0.0</td>\n",
       "      <td>0.0</td>\n",
       "    </tr>\n",
       "    <tr>\n",
       "      <th>4</th>\n",
       "      <td>2008</td>\n",
       "      <td>5622</td>\n",
       "      <td>0.0</td>\n",
       "      <td>0.0</td>\n",
       "      <td>0.0</td>\n",
       "      <td>0.0</td>\n",
       "      <td>0.0</td>\n",
       "      <td>0.0</td>\n",
       "      <td>0.0</td>\n",
       "      <td>0.0</td>\n",
       "      <td>...</td>\n",
       "      <td>0.0</td>\n",
       "      <td>0.0</td>\n",
       "      <td>0.0</td>\n",
       "      <td>0.0</td>\n",
       "      <td>0.0</td>\n",
       "      <td>0.0</td>\n",
       "      <td>0.0</td>\n",
       "      <td>0.0</td>\n",
       "      <td>0.0</td>\n",
       "      <td>0.0</td>\n",
       "    </tr>\n",
       "    <tr>\n",
       "      <th>5</th>\n",
       "      <td>2009</td>\n",
       "      <td>6468</td>\n",
       "      <td>0.0</td>\n",
       "      <td>0.0</td>\n",
       "      <td>0.0</td>\n",
       "      <td>0.0</td>\n",
       "      <td>0.0</td>\n",
       "      <td>0.0</td>\n",
       "      <td>0.0</td>\n",
       "      <td>0.0</td>\n",
       "      <td>...</td>\n",
       "      <td>0.0</td>\n",
       "      <td>0.0</td>\n",
       "      <td>0.0</td>\n",
       "      <td>0.0</td>\n",
       "      <td>0.0</td>\n",
       "      <td>0.0</td>\n",
       "      <td>0.0</td>\n",
       "      <td>0.0</td>\n",
       "      <td>0.0</td>\n",
       "      <td>0.0</td>\n",
       "    </tr>\n",
       "  </tbody>\n",
       "</table>\n",
       "<p>5 rows × 44 columns</p>\n",
       "</div>"
      ],
      "text/plain": [
       "    POA Major Urban (NSW)  Other Urban (NSW)  Bounded Locality (NSW)  \\\n",
       "1  2000             13838                0.0                     0.0   \n",
       "2  2006                17                0.0                     0.0   \n",
       "3  2007              3668                0.0                     0.0   \n",
       "4  2008              5622                0.0                     0.0   \n",
       "5  2009              6468                0.0                     0.0   \n",
       "\n",
       "   Rural Balance (NSW)  Migratory - Offshore - Shipping (NSW)  \\\n",
       "1                  0.0                                    0.0   \n",
       "2                  0.0                                    0.0   \n",
       "3                  0.0                                    0.0   \n",
       "4                  0.0                                    0.0   \n",
       "5                  0.0                                    0.0   \n",
       "\n",
       "   Major Urban (Vic.)  Other Urban (Vic.)  Bounded Locality (Vic.)  \\\n",
       "1                 0.0                 0.0                      0.0   \n",
       "2                 0.0                 0.0                      0.0   \n",
       "3                 0.0                 0.0                      0.0   \n",
       "4                 0.0                 0.0                      0.0   \n",
       "5                 0.0                 0.0                      0.0   \n",
       "\n",
       "   Rural Balance (Vic.)  ...  Rural Balance (NT)  \\\n",
       "1                   0.0  ...                 0.0   \n",
       "2                   0.0  ...                 0.0   \n",
       "3                   0.0  ...                 0.0   \n",
       "4                   0.0  ...                 0.0   \n",
       "5                   0.0  ...                 0.0   \n",
       "\n",
       "   Migratory - Offshore - Shipping (NT)  Major Urban (ACT)  \\\n",
       "1                                   0.0                0.0   \n",
       "2                                   0.0                0.0   \n",
       "3                                   0.0                0.0   \n",
       "4                                   0.0                0.0   \n",
       "5                                   0.0                0.0   \n",
       "\n",
       "   Bounded Locality (ACT)  Rural Balance (ACT)  \\\n",
       "1                     0.0                  0.0   \n",
       "2                     0.0                  0.0   \n",
       "3                     0.0                  0.0   \n",
       "4                     0.0                  0.0   \n",
       "5                     0.0                  0.0   \n",
       "\n",
       "   Migratory - Offshore - Shipping (ACT)  Other Urban (OT)  \\\n",
       "1                                    0.0               0.0   \n",
       "2                                    0.0               0.0   \n",
       "3                                    0.0               0.0   \n",
       "4                                    0.0               0.0   \n",
       "5                                    0.0               0.0   \n",
       "\n",
       "   Bounded Locality (OT)  Rural Balance (OT)  \\\n",
       "1                    0.0                 0.0   \n",
       "2                    0.0                 0.0   \n",
       "3                    0.0                 0.0   \n",
       "4                    0.0                 0.0   \n",
       "5                    0.0                 0.0   \n",
       "\n",
       "   Migratory - Offshore - Shipping (OT)  \n",
       "1                                   0.0  \n",
       "2                                   0.0  \n",
       "3                                   0.0  \n",
       "4                                   0.0  \n",
       "5                                   0.0  \n",
       "\n",
       "[5 rows x 44 columns]"
      ]
     },
     "execution_count": 49,
     "metadata": {},
     "output_type": "execute_result"
    }
   ],
   "source": [
    "# Load dataframe\n",
    "\n",
    "urb_data = pd.read_csv('files/portolio_4_datasets/census_features/Rural_POA.csv', skiprows = 8)\n",
    "\n",
    "urb_data.drop(index = urb_data.index[0], axis=0, inplace=True)\n",
    "\n",
    "urb_data.drop(columns = ['Total', 'Unnamed: 45'], inplace = True)\n",
    "\n",
    "\n",
    "# Extract POA code without state acronym\n",
    "\n",
    "urb_data['SOS'] = urb_data['SOS'].str.extract('(\\d{4,})')\n",
    "urb_data.rename(columns = {'SOS': 'POA'}, inplace = True)\n",
    "\n",
    "urb_data.head()"
   ]
  },
  {
   "cell_type": "code",
   "execution_count": 50,
   "id": "85831e3f",
   "metadata": {},
   "outputs": [
    {
     "data": {
      "text/plain": [
       "(2674, 44)"
      ]
     },
     "execution_count": 50,
     "metadata": {},
     "output_type": "execute_result"
    }
   ],
   "source": [
    "urb_data.shape"
   ]
  },
  {
   "cell_type": "code",
   "execution_count": 51,
   "id": "2eb3b57d",
   "metadata": {},
   "outputs": [
    {
     "data": {
      "text/plain": [
       "(2668, 44)"
      ]
     },
     "execution_count": 51,
     "metadata": {},
     "output_type": "execute_result"
    }
   ],
   "source": [
    "urb_data.dropna(inplace = True)\n",
    "urb_data.shape"
   ]
  },
  {
   "cell_type": "markdown",
   "id": "664bd273",
   "metadata": {},
   "source": [
    "#### Cleaning RURAL VS URBAN data"
   ]
  },
  {
   "cell_type": "code",
   "execution_count": 52,
   "id": "6bd1a7ef",
   "metadata": {},
   "outputs": [],
   "source": [
    "cols = ['Major Urban (NSW)', 'Other Urban (NSW)',\n",
    "       'Bounded Locality (NSW)', 'Rural Balance (NSW)',\n",
    "       'Migratory - Offshore - Shipping (NSW)', 'Major Urban (Vic.)',\n",
    "       'Other Urban (Vic.)', 'Bounded Locality (Vic.)', 'Rural Balance (Vic.)',\n",
    "       'Migratory - Offshore - Shipping (Vic.)', 'Major Urban (Qld)',\n",
    "       'Other Urban (Qld)', 'Bounded Locality (Qld)', 'Rural Balance (Qld)',\n",
    "       'Migratory - Offshore - Shipping (Qld)', 'Major Urban (SA)',\n",
    "       'Other Urban (SA)', 'Bounded Locality (SA)', 'Rural Balance (SA)',\n",
    "       'Migratory - Offshore - Shipping (SA)', 'Major Urban (WA)',\n",
    "       'Other Urban (WA)', 'Bounded Locality (WA)', 'Rural Balance (WA)',\n",
    "       'Migratory - Offshore - Shipping (WA)', 'Major Urban (Tas.)',\n",
    "       'Other Urban (Tas.)', 'Bounded Locality (Tas.)', 'Rural Balance (Tas.)',\n",
    "       'Migratory - Offshore - Shipping (Tas.)', 'Major Urban (NT)',\n",
    "       'Other Urban (NT)', 'Bounded Locality (NT)', 'Rural Balance (NT)',\n",
    "       'Migratory - Offshore - Shipping (NT)', 'Major Urban (ACT)',\n",
    "       'Bounded Locality (ACT)', 'Rural Balance (ACT)',\n",
    "       'Migratory - Offshore - Shipping (ACT)', 'Other Urban (OT)',\n",
    "       'Bounded Locality (OT)', 'Rural Balance (OT)',\n",
    "       'Migratory - Offshore - Shipping (OT)']\n",
    "\n",
    "for c in cols:\n",
    "    urb_data[c] = urb_data[c].astype(int)"
   ]
  },
  {
   "cell_type": "markdown",
   "id": "715a773a",
   "metadata": {},
   "source": [
    "#### Feature engineering"
   ]
  },
  {
   "cell_type": "code",
   "execution_count": 53,
   "id": "d13e43b6",
   "metadata": {},
   "outputs": [],
   "source": [
    "urb_data['urban'] = urb_data['Major Urban (NSW)'] + urb_data['Other Urban (NSW)'] + \\\n",
    "                    urb_data['Major Urban (Vic.)'] + urb_data['Other Urban (Vic.)'] + \\\n",
    "                    urb_data['Major Urban (Qld)'] + urb_data['Other Urban (Qld)'] + \\\n",
    "                    urb_data['Major Urban (SA)'] + urb_data['Other Urban (SA)'] + \\\n",
    "                    urb_data['Major Urban (WA)'] + urb_data['Other Urban (WA)'] + \\\n",
    "                    urb_data['Major Urban (Tas.)'] + urb_data['Other Urban (Tas.)'] + \\\n",
    "                    urb_data['Major Urban (NT)'] + urb_data['Other Urban (NT)'] + \\\n",
    "                    urb_data['Major Urban (ACT)'] + \\\n",
    "                    urb_data['Other Urban (OT)']\n",
    "\n",
    "urb_data['rural'] = urb_data['Bounded Locality (NSW)'] + urb_data['Rural Balance (NSW)'] + \\\n",
    "                    urb_data['Bounded Locality (Vic.)'] + urb_data['Rural Balance (Vic.)'] + \\\n",
    "                    urb_data['Bounded Locality (Qld)'] + urb_data['Rural Balance (Qld)'] + \\\n",
    "                    urb_data['Bounded Locality (SA)'] + urb_data['Rural Balance (SA)'] + \\\n",
    "                    urb_data['Bounded Locality (WA)'] + urb_data['Rural Balance (WA)'] + \\\n",
    "                    urb_data['Bounded Locality (Tas.)'] + urb_data['Rural Balance (Tas.)'] + \\\n",
    "                    urb_data['Bounded Locality (NT)'] + urb_data['Rural Balance (NT)'] + \\\n",
    "                    urb_data['Bounded Locality (ACT)'] + urb_data['Rural Balance (ACT)'] + \\\n",
    "                    urb_data['Bounded Locality (OT)'] + urb_data['Rural Balance (OT)']\n",
    "\n",
    "urb_data = urb_data[['POA', 'urban', 'rural']]\n",
    "\n",
    "urb_data['total'] = urb_data.sum(axis = 1, numeric_only = True)"
   ]
  },
  {
   "cell_type": "code",
   "execution_count": 54,
   "id": "b0e6f906",
   "metadata": {},
   "outputs": [],
   "source": [
    "# Compute proportions of rural bs urban area\n",
    "\n",
    "urb_data['urban'] = urb_data['urban'] / urb_data['total']\n",
    "urb_data['rural'] = urb_data['rural'] / urb_data['total']\n",
    "\n",
    "urb_data = urb_data[['POA', 'urban', 'rural']]"
   ]
  },
  {
   "cell_type": "code",
   "execution_count": 55,
   "id": "26274beb",
   "metadata": {},
   "outputs": [
    {
     "data": {
      "text/html": [
       "<div>\n",
       "<style scoped>\n",
       "    .dataframe tbody tr th:only-of-type {\n",
       "        vertical-align: middle;\n",
       "    }\n",
       "\n",
       "    .dataframe tbody tr th {\n",
       "        vertical-align: top;\n",
       "    }\n",
       "\n",
       "    .dataframe thead th {\n",
       "        text-align: right;\n",
       "    }\n",
       "</style>\n",
       "<table border=\"1\" class=\"dataframe\">\n",
       "  <thead>\n",
       "    <tr style=\"text-align: right;\">\n",
       "      <th></th>\n",
       "      <th>POA</th>\n",
       "      <th>urban</th>\n",
       "      <th>rural</th>\n",
       "    </tr>\n",
       "  </thead>\n",
       "  <tbody>\n",
       "    <tr>\n",
       "      <th>1</th>\n",
       "      <td>2000</td>\n",
       "      <td>1.0</td>\n",
       "      <td>0.0</td>\n",
       "    </tr>\n",
       "    <tr>\n",
       "      <th>2</th>\n",
       "      <td>2006</td>\n",
       "      <td>1.0</td>\n",
       "      <td>0.0</td>\n",
       "    </tr>\n",
       "    <tr>\n",
       "      <th>3</th>\n",
       "      <td>2007</td>\n",
       "      <td>1.0</td>\n",
       "      <td>0.0</td>\n",
       "    </tr>\n",
       "    <tr>\n",
       "      <th>4</th>\n",
       "      <td>2008</td>\n",
       "      <td>1.0</td>\n",
       "      <td>0.0</td>\n",
       "    </tr>\n",
       "    <tr>\n",
       "      <th>5</th>\n",
       "      <td>2009</td>\n",
       "      <td>1.0</td>\n",
       "      <td>0.0</td>\n",
       "    </tr>\n",
       "  </tbody>\n",
       "</table>\n",
       "</div>"
      ],
      "text/plain": [
       "    POA  urban  rural\n",
       "1  2000    1.0    0.0\n",
       "2  2006    1.0    0.0\n",
       "3  2007    1.0    0.0\n",
       "4  2008    1.0    0.0\n",
       "5  2009    1.0    0.0"
      ]
     },
     "execution_count": 55,
     "metadata": {},
     "output_type": "execute_result"
    }
   ],
   "source": [
    "urb_data.head()"
   ]
  },
  {
   "cell_type": "code",
   "execution_count": 56,
   "id": "5707f85f",
   "metadata": {},
   "outputs": [],
   "source": [
    "urb_data.dropna(inplace = True)"
   ]
  },
  {
   "cell_type": "markdown",
   "id": "5d0cc8f5",
   "metadata": {},
   "source": [
    "## MERGING DATASETS"
   ]
  },
  {
   "cell_type": "markdown",
   "id": "cd92567a",
   "metadata": {},
   "source": [
    "### Merge datasets"
   ]
  },
  {
   "cell_type": "code",
   "execution_count": 57,
   "id": "6f0e1422",
   "metadata": {},
   "outputs": [
    {
     "name": "stdout",
     "output_type": "stream",
     "text": [
      "Electoral data shape:  (2282, 2)\n",
      "Age data shape:  (2589, 2)\n",
      "Total houshold income data shape:  (2611, 6)\n",
      "Occupation data shape:  (2647, 4)\n",
      "Rural vs Urban data shape:  (2646, 3)\n"
     ]
    }
   ],
   "source": [
    "print('Electoral data shape: ', elec_data.shape)\n",
    "print('Age data shape: ', age_data.shape)\n",
    "print('Total houshold income data shape: ', hi_data.shape)\n",
    "print('Occupation data shape: ', occ_data.shape)\n",
    "print('Rural vs Urban data shape: ', urb_data.shape)"
   ]
  },
  {
   "cell_type": "markdown",
   "id": "a2cc3cd4",
   "metadata": {},
   "source": [
    "<br>\n",
    "\n",
    "**Polling places are not present in every Australian POA, that is why the electoral dataset contains more observations than census datasets.** Furthermore, census datasets have been cleaned, so even these no longer have the exact same shape.\n",
    "\n",
    "<br>"
   ]
  },
  {
   "cell_type": "code",
   "execution_count": 58,
   "id": "88470cc3",
   "metadata": {},
   "outputs": [],
   "source": [
    "# Homogenize data types for merging\n",
    "\n",
    "elec_data['POA'] = elec_data['POA'].astype(int)\n",
    "age_data['POA'] = age_data['POA'].astype(int)\n",
    "hi_data['POA'] = hi_data['POA'].astype(int)\n",
    "occ_data['POA'] = occ_data['POA'].astype(int)\n",
    "educ_data['POA'] = educ_data['POA'].astype(int)\n",
    "urb_data['POA'] = urb_data['POA'].astype(int)"
   ]
  },
  {
   "cell_type": "code",
   "execution_count": 59,
   "id": "866298c8",
   "metadata": {},
   "outputs": [
    {
     "data": {
      "text/plain": [
       "(2255, 3)"
      ]
     },
     "execution_count": 59,
     "metadata": {},
     "output_type": "execute_result"
    }
   ],
   "source": [
    "# Merge elec_data with age\n",
    "\n",
    "data = pd.merge(left = elec_data, right = age_data, on=\"POA\", how = 'inner')\n",
    "data.shape"
   ]
  },
  {
   "cell_type": "code",
   "execution_count": 60,
   "id": "c36c6929",
   "metadata": {},
   "outputs": [
    {
     "data": {
      "text/plain": [
       "(2254, 8)"
      ]
     },
     "execution_count": 60,
     "metadata": {},
     "output_type": "execute_result"
    }
   ],
   "source": [
    "# Merge Household income with data\n",
    "\n",
    "data = pd.merge(left = data, right = hi_data, on=\"POA\", how = 'inner')\n",
    "data.shape"
   ]
  },
  {
   "cell_type": "code",
   "execution_count": 61,
   "id": "8d0215ea",
   "metadata": {},
   "outputs": [
    {
     "data": {
      "text/plain": [
       "(2254, 11)"
      ]
     },
     "execution_count": 61,
     "metadata": {},
     "output_type": "execute_result"
    }
   ],
   "source": [
    "# Merge Occupation with data\n",
    "\n",
    "data = pd.merge(left = data, right = occ_data, on=\"POA\", how = 'inner')\n",
    "data.shape"
   ]
  },
  {
   "cell_type": "code",
   "execution_count": 62,
   "id": "42f87ca1",
   "metadata": {},
   "outputs": [
    {
     "data": {
      "text/plain": [
       "(2254, 14)"
      ]
     },
     "execution_count": 62,
     "metadata": {},
     "output_type": "execute_result"
    }
   ],
   "source": [
    "# Merge with educational data\n",
    "\n",
    "data = pd.merge(left = data, right = educ_data, on=\"POA\", how = 'inner')\n",
    "data.shape"
   ]
  },
  {
   "cell_type": "code",
   "execution_count": 63,
   "id": "15274822",
   "metadata": {},
   "outputs": [
    {
     "data": {
      "text/plain": [
       "(2254, 16)"
      ]
     },
     "execution_count": 63,
     "metadata": {},
     "output_type": "execute_result"
    }
   ],
   "source": [
    "# Merge with rural vs urban data\n",
    "\n",
    "data = pd.merge(left = data, right = urb_data, on=\"POA\", how = 'inner')\n",
    "data.shape"
   ]
  },
  {
   "cell_type": "code",
   "execution_count": 64,
   "id": "8a53132d",
   "metadata": {},
   "outputs": [
    {
     "data": {
      "text/html": [
       "<div>\n",
       "<style scoped>\n",
       "    .dataframe tbody tr th:only-of-type {\n",
       "        vertical-align: middle;\n",
       "    }\n",
       "\n",
       "    .dataframe tbody tr th {\n",
       "        vertical-align: top;\n",
       "    }\n",
       "\n",
       "    .dataframe thead th {\n",
       "        text-align: right;\n",
       "    }\n",
       "</style>\n",
       "<table border=\"1\" class=\"dataframe\">\n",
       "  <thead>\n",
       "    <tr style=\"text-align: right;\">\n",
       "      <th></th>\n",
       "      <th>POA</th>\n",
       "      <th>win_code</th>\n",
       "      <th>age_mean</th>\n",
       "      <th>Deciles_1_2</th>\n",
       "      <th>Deciles_3_4</th>\n",
       "      <th>Deciles_5_6</th>\n",
       "      <th>Deciles_6_8</th>\n",
       "      <th>Deciles_9_10</th>\n",
       "      <th>State_and_admin</th>\n",
       "      <th>Labourers</th>\n",
       "      <th>Prof_and_tech</th>\n",
       "      <th>Bach_or_higher</th>\n",
       "      <th>Dipl_or_cert</th>\n",
       "      <th>College_or_less</th>\n",
       "      <th>urban</th>\n",
       "      <th>rural</th>\n",
       "    </tr>\n",
       "  </thead>\n",
       "  <tbody>\n",
       "    <tr>\n",
       "      <th>0</th>\n",
       "      <td>800</td>\n",
       "      <td>1</td>\n",
       "      <td>35.407224</td>\n",
       "      <td>0.093890</td>\n",
       "      <td>0.197215</td>\n",
       "      <td>0.278976</td>\n",
       "      <td>0.357592</td>\n",
       "      <td>0.115004</td>\n",
       "      <td>0.256378</td>\n",
       "      <td>0.125563</td>\n",
       "      <td>0.618059</td>\n",
       "      <td>0.394947</td>\n",
       "      <td>0.297128</td>\n",
       "      <td>0.307925</td>\n",
       "      <td>1.00000</td>\n",
       "      <td>0.00000</td>\n",
       "    </tr>\n",
       "    <tr>\n",
       "      <th>1</th>\n",
       "      <td>810</td>\n",
       "      <td>0</td>\n",
       "      <td>35.072756</td>\n",
       "      <td>0.146356</td>\n",
       "      <td>0.181101</td>\n",
       "      <td>0.204571</td>\n",
       "      <td>0.266270</td>\n",
       "      <td>0.287076</td>\n",
       "      <td>0.262440</td>\n",
       "      <td>0.139286</td>\n",
       "      <td>0.598274</td>\n",
       "      <td>0.338556</td>\n",
       "      <td>0.269089</td>\n",
       "      <td>0.392355</td>\n",
       "      <td>1.00000</td>\n",
       "      <td>0.00000</td>\n",
       "    </tr>\n",
       "    <tr>\n",
       "      <th>2</th>\n",
       "      <td>812</td>\n",
       "      <td>0</td>\n",
       "      <td>35.327432</td>\n",
       "      <td>0.178611</td>\n",
       "      <td>0.199406</td>\n",
       "      <td>0.213888</td>\n",
       "      <td>0.262718</td>\n",
       "      <td>0.251207</td>\n",
       "      <td>0.290795</td>\n",
       "      <td>0.162858</td>\n",
       "      <td>0.546346</td>\n",
       "      <td>0.219104</td>\n",
       "      <td>0.314623</td>\n",
       "      <td>0.466273</td>\n",
       "      <td>1.00000</td>\n",
       "      <td>0.00000</td>\n",
       "    </tr>\n",
       "    <tr>\n",
       "      <th>3</th>\n",
       "      <td>820</td>\n",
       "      <td>1</td>\n",
       "      <td>36.236606</td>\n",
       "      <td>0.113721</td>\n",
       "      <td>0.169415</td>\n",
       "      <td>0.223086</td>\n",
       "      <td>0.307405</td>\n",
       "      <td>0.250156</td>\n",
       "      <td>0.252453</td>\n",
       "      <td>0.097838</td>\n",
       "      <td>0.649709</td>\n",
       "      <td>0.344511</td>\n",
       "      <td>0.309067</td>\n",
       "      <td>0.346423</td>\n",
       "      <td>1.00000</td>\n",
       "      <td>0.00000</td>\n",
       "    </tr>\n",
       "    <tr>\n",
       "      <th>4</th>\n",
       "      <td>822</td>\n",
       "      <td>0</td>\n",
       "      <td>30.571675</td>\n",
       "      <td>0.987773</td>\n",
       "      <td>0.220452</td>\n",
       "      <td>0.227121</td>\n",
       "      <td>0.232308</td>\n",
       "      <td>0.142645</td>\n",
       "      <td>0.263710</td>\n",
       "      <td>0.200406</td>\n",
       "      <td>0.535884</td>\n",
       "      <td>0.078282</td>\n",
       "      <td>0.175093</td>\n",
       "      <td>0.746625</td>\n",
       "      <td>0.25933</td>\n",
       "      <td>0.74067</td>\n",
       "    </tr>\n",
       "  </tbody>\n",
       "</table>\n",
       "</div>"
      ],
      "text/plain": [
       "   POA  win_code   age_mean  Deciles_1_2  Deciles_3_4  Deciles_5_6  \\\n",
       "0  800         1  35.407224     0.093890     0.197215     0.278976   \n",
       "1  810         0  35.072756     0.146356     0.181101     0.204571   \n",
       "2  812         0  35.327432     0.178611     0.199406     0.213888   \n",
       "3  820         1  36.236606     0.113721     0.169415     0.223086   \n",
       "4  822         0  30.571675     0.987773     0.220452     0.227121   \n",
       "\n",
       "   Deciles_6_8  Deciles_9_10  State_and_admin  Labourers  Prof_and_tech  \\\n",
       "0     0.357592      0.115004         0.256378   0.125563       0.618059   \n",
       "1     0.266270      0.287076         0.262440   0.139286       0.598274   \n",
       "2     0.262718      0.251207         0.290795   0.162858       0.546346   \n",
       "3     0.307405      0.250156         0.252453   0.097838       0.649709   \n",
       "4     0.232308      0.142645         0.263710   0.200406       0.535884   \n",
       "\n",
       "   Bach_or_higher  Dipl_or_cert  College_or_less    urban    rural  \n",
       "0        0.394947      0.297128         0.307925  1.00000  0.00000  \n",
       "1        0.338556      0.269089         0.392355  1.00000  0.00000  \n",
       "2        0.219104      0.314623         0.466273  1.00000  0.00000  \n",
       "3        0.344511      0.309067         0.346423  1.00000  0.00000  \n",
       "4        0.078282      0.175093         0.746625  0.25933  0.74067  "
      ]
     },
     "execution_count": 64,
     "metadata": {},
     "output_type": "execute_result"
    }
   ],
   "source": [
    "data.head()"
   ]
  },
  {
   "cell_type": "markdown",
   "id": "67f2aeaf",
   "metadata": {},
   "source": [
    "### Last check for Clean of merged dataset"
   ]
  },
  {
   "cell_type": "code",
   "execution_count": 65,
   "id": "f01d13fe",
   "metadata": {},
   "outputs": [
    {
     "data": {
      "text/plain": [
       "False"
      ]
     },
     "execution_count": 65,
     "metadata": {},
     "output_type": "execute_result"
    }
   ],
   "source": [
    "data.isnull().values.any()"
   ]
  },
  {
   "cell_type": "markdown",
   "id": "91e7faae",
   "metadata": {},
   "source": [
    "# NORMALIZATION"
   ]
  },
  {
   "cell_type": "markdown",
   "id": "acd91d54",
   "metadata": {},
   "source": [
    "**Age is the only predictor that will be normalized.** All of the other predictors are built as proportions, so they already have values ranging from 0 to 1."
   ]
  },
  {
   "cell_type": "code",
   "execution_count": 66,
   "id": "f2b3ce58",
   "metadata": {},
   "outputs": [
    {
     "data": {
      "text/html": [
       "<div>\n",
       "<style scoped>\n",
       "    .dataframe tbody tr th:only-of-type {\n",
       "        vertical-align: middle;\n",
       "    }\n",
       "\n",
       "    .dataframe tbody tr th {\n",
       "        vertical-align: top;\n",
       "    }\n",
       "\n",
       "    .dataframe thead th {\n",
       "        text-align: right;\n",
       "    }\n",
       "</style>\n",
       "<table border=\"1\" class=\"dataframe\">\n",
       "  <thead>\n",
       "    <tr style=\"text-align: right;\">\n",
       "      <th></th>\n",
       "      <th>POA</th>\n",
       "      <th>win_code</th>\n",
       "      <th>age_mean</th>\n",
       "      <th>Deciles_1_2</th>\n",
       "      <th>Deciles_3_4</th>\n",
       "      <th>Deciles_5_6</th>\n",
       "      <th>Deciles_6_8</th>\n",
       "      <th>Deciles_9_10</th>\n",
       "      <th>State_and_admin</th>\n",
       "      <th>Labourers</th>\n",
       "      <th>Prof_and_tech</th>\n",
       "      <th>Bach_or_higher</th>\n",
       "      <th>Dipl_or_cert</th>\n",
       "      <th>College_or_less</th>\n",
       "      <th>urban</th>\n",
       "      <th>rural</th>\n",
       "    </tr>\n",
       "  </thead>\n",
       "  <tbody>\n",
       "    <tr>\n",
       "      <th>0</th>\n",
       "      <td>800</td>\n",
       "      <td>1</td>\n",
       "      <td>0.269492</td>\n",
       "      <td>0.093890</td>\n",
       "      <td>0.197215</td>\n",
       "      <td>0.278976</td>\n",
       "      <td>0.357592</td>\n",
       "      <td>0.115004</td>\n",
       "      <td>0.256378</td>\n",
       "      <td>0.125563</td>\n",
       "      <td>0.618059</td>\n",
       "      <td>0.394947</td>\n",
       "      <td>0.297128</td>\n",
       "      <td>0.307925</td>\n",
       "      <td>1.00000</td>\n",
       "      <td>0.00000</td>\n",
       "    </tr>\n",
       "    <tr>\n",
       "      <th>1</th>\n",
       "      <td>810</td>\n",
       "      <td>0</td>\n",
       "      <td>0.256822</td>\n",
       "      <td>0.146356</td>\n",
       "      <td>0.181101</td>\n",
       "      <td>0.204571</td>\n",
       "      <td>0.266270</td>\n",
       "      <td>0.287076</td>\n",
       "      <td>0.262440</td>\n",
       "      <td>0.139286</td>\n",
       "      <td>0.598274</td>\n",
       "      <td>0.338556</td>\n",
       "      <td>0.269089</td>\n",
       "      <td>0.392355</td>\n",
       "      <td>1.00000</td>\n",
       "      <td>0.00000</td>\n",
       "    </tr>\n",
       "    <tr>\n",
       "      <th>2</th>\n",
       "      <td>812</td>\n",
       "      <td>0</td>\n",
       "      <td>0.266469</td>\n",
       "      <td>0.178611</td>\n",
       "      <td>0.199406</td>\n",
       "      <td>0.213888</td>\n",
       "      <td>0.262718</td>\n",
       "      <td>0.251207</td>\n",
       "      <td>0.290795</td>\n",
       "      <td>0.162858</td>\n",
       "      <td>0.546346</td>\n",
       "      <td>0.219104</td>\n",
       "      <td>0.314623</td>\n",
       "      <td>0.466273</td>\n",
       "      <td>1.00000</td>\n",
       "      <td>0.00000</td>\n",
       "    </tr>\n",
       "    <tr>\n",
       "      <th>3</th>\n",
       "      <td>820</td>\n",
       "      <td>1</td>\n",
       "      <td>0.300909</td>\n",
       "      <td>0.113721</td>\n",
       "      <td>0.169415</td>\n",
       "      <td>0.223086</td>\n",
       "      <td>0.307405</td>\n",
       "      <td>0.250156</td>\n",
       "      <td>0.252453</td>\n",
       "      <td>0.097838</td>\n",
       "      <td>0.649709</td>\n",
       "      <td>0.344511</td>\n",
       "      <td>0.309067</td>\n",
       "      <td>0.346423</td>\n",
       "      <td>1.00000</td>\n",
       "      <td>0.00000</td>\n",
       "    </tr>\n",
       "    <tr>\n",
       "      <th>4</th>\n",
       "      <td>822</td>\n",
       "      <td>0</td>\n",
       "      <td>0.086320</td>\n",
       "      <td>0.987773</td>\n",
       "      <td>0.220452</td>\n",
       "      <td>0.227121</td>\n",
       "      <td>0.232308</td>\n",
       "      <td>0.142645</td>\n",
       "      <td>0.263710</td>\n",
       "      <td>0.200406</td>\n",
       "      <td>0.535884</td>\n",
       "      <td>0.078282</td>\n",
       "      <td>0.175093</td>\n",
       "      <td>0.746625</td>\n",
       "      <td>0.25933</td>\n",
       "      <td>0.74067</td>\n",
       "    </tr>\n",
       "  </tbody>\n",
       "</table>\n",
       "</div>"
      ],
      "text/plain": [
       "   POA  win_code  age_mean  Deciles_1_2  Deciles_3_4  Deciles_5_6  \\\n",
       "0  800         1  0.269492     0.093890     0.197215     0.278976   \n",
       "1  810         0  0.256822     0.146356     0.181101     0.204571   \n",
       "2  812         0  0.266469     0.178611     0.199406     0.213888   \n",
       "3  820         1  0.300909     0.113721     0.169415     0.223086   \n",
       "4  822         0  0.086320     0.987773     0.220452     0.227121   \n",
       "\n",
       "   Deciles_6_8  Deciles_9_10  State_and_admin  Labourers  Prof_and_tech  \\\n",
       "0     0.357592      0.115004         0.256378   0.125563       0.618059   \n",
       "1     0.266270      0.287076         0.262440   0.139286       0.598274   \n",
       "2     0.262718      0.251207         0.290795   0.162858       0.546346   \n",
       "3     0.307405      0.250156         0.252453   0.097838       0.649709   \n",
       "4     0.232308      0.142645         0.263710   0.200406       0.535884   \n",
       "\n",
       "   Bach_or_higher  Dipl_or_cert  College_or_less    urban    rural  \n",
       "0        0.394947      0.297128         0.307925  1.00000  0.00000  \n",
       "1        0.338556      0.269089         0.392355  1.00000  0.00000  \n",
       "2        0.219104      0.314623         0.466273  1.00000  0.00000  \n",
       "3        0.344511      0.309067         0.346423  1.00000  0.00000  \n",
       "4        0.078282      0.175093         0.746625  0.25933  0.74067  "
      ]
     },
     "execution_count": 66,
     "metadata": {},
     "output_type": "execute_result"
    }
   ],
   "source": [
    "cols = ['age_mean']\n",
    "\n",
    "scal = MinMaxScaler()\n",
    "\n",
    "for col in cols:\n",
    "    data[col] = scal.fit_transform(data[[col]])\n",
    "    \n",
    "data.head()"
   ]
  },
  {
   "cell_type": "markdown",
   "id": "8afd6392",
   "metadata": {},
   "source": [
    "# BALANCING AND SPLITTING DATA"
   ]
  },
  {
   "cell_type": "code",
   "execution_count": 67,
   "id": "1d752b59",
   "metadata": {},
   "outputs": [
    {
     "name": "stdout",
     "output_type": "stream",
     "text": [
      "(2254, 14)\n",
      "(2254,)\n"
     ]
    }
   ],
   "source": [
    "# Split data into predictors and target variable\n",
    "\n",
    "X = data.drop(columns = ['win_code', 'POA'])\n",
    "y = data['win_code']\n",
    "\n",
    "print(X.shape)\n",
    "print(y.shape)"
   ]
  },
  {
   "cell_type": "code",
   "execution_count": 68,
   "id": "f2ea68bf",
   "metadata": {},
   "outputs": [
    {
     "data": {
      "text/plain": [
       "1    0.7063\n",
       "0    0.2937\n",
       "Name: win_code, dtype: float64"
      ]
     },
     "execution_count": 68,
     "metadata": {},
     "output_type": "execute_result"
    }
   ],
   "source": [
    "# Check for balance of data\n",
    "\n",
    "data['win_code'].value_counts()/len(data)"
   ]
  },
  {
   "cell_type": "markdown",
   "id": "98a10c8b",
   "metadata": {},
   "source": [
    "**Although data seems to be unbalanced (70 / 30), the model will be performed with this distribution.**"
   ]
  },
  {
   "cell_type": "code",
   "execution_count": 69,
   "id": "e2161c68",
   "metadata": {},
   "outputs": [
    {
     "name": "stdout",
     "output_type": "stream",
     "text": [
      "Shape of X_train:  (1803, 14)\n",
      "Shape of X_test:  (451, 14)\n",
      "Shape of y_train:  (1803,)\n",
      "Shape of y_test:  (451,)\n"
     ]
    }
   ],
   "source": [
    "# Split intro train and test set\n",
    "\n",
    "X_train, X_test, y_train, y_test = train_test_split(X, y, test_size = 0.2, random_state = 142, shuffle = True)\n",
    "\n",
    "print('Shape of X_train: ', X_train.shape)\n",
    "print('Shape of X_test: ', X_test.shape)\n",
    "print('Shape of y_train: ', y_train.shape)\n",
    "print('Shape of y_test: ', y_test.shape)"
   ]
  },
  {
   "cell_type": "markdown",
   "id": "917655ac",
   "metadata": {},
   "source": [
    "# BASELINE MODEL"
   ]
  },
  {
   "cell_type": "markdown",
   "id": "40df22e7",
   "metadata": {},
   "source": [
    "**Our baseline model should be a basic random guess.** Based on the distribution of data, there is a 70% chance of correctly guessing if the Liberal party is going to win in a POA. **So the model should beat a value of accuracy of 0.7.** That stated, there will be trained a basic Logistic Regression also as a baseline just to compare its performance, with other tuned models."
   ]
  },
  {
   "cell_type": "code",
   "execution_count": 72,
   "id": "89fafcf2",
   "metadata": {},
   "outputs": [
    {
     "name": "stdout",
     "output_type": "stream",
     "text": [
      "Accuracy score - train set:  0.7742651136993899\n",
      "Accuracy score - test set:  0.7671840354767184\n",
      "MSE - train set:  0.2257348863006101\n",
      "MSE - test set:  0.2328159645232816\n"
     ]
    }
   ],
   "source": [
    "base_model = LogisticRegression()\n",
    "base_model.fit(X_train, y_train)\n",
    "\n",
    "pred_base_train = base_model.predict(X_train)\n",
    "pred_base_test = base_model.predict(X_test)\n",
    "\n",
    "\n",
    "# Accuracy score\n",
    "base_train_acc = accuracy_score(y_train, pred_base_train)\n",
    "base_test_acc = accuracy_score(y_test, pred_base_test)\n",
    "\n",
    "# Mean Squared Errors\n",
    "base_train_mse = mean_squared_error(y_train, pred_base_train)\n",
    "base_test_mse = mean_squared_error(y_test, pred_base_test)\n",
    "\n",
    "\n",
    "print('Accuracy score - train set: ', base_train_acc)\n",
    "print('Accuracy score - test set: ', base_test_acc)\n",
    "print('MSE - train set: ', base_train_mse)\n",
    "print('MSE - test set: ', base_test_mse)"
   ]
  },
  {
   "cell_type": "markdown",
   "id": "c63096c9",
   "metadata": {},
   "source": [
    "# PERFORMING MODELS"
   ]
  },
  {
   "cell_type": "markdown",
   "id": "5052e596",
   "metadata": {},
   "source": [
    "## K-Nearest-Neighbors"
   ]
  },
  {
   "cell_type": "markdown",
   "id": "c9795570",
   "metadata": {},
   "source": [
    "### Cross Validation to find the best K"
   ]
  },
  {
   "cell_type": "code",
   "execution_count": 73,
   "id": "85cd9bdf",
   "metadata": {},
   "outputs": [],
   "source": [
    "# Test performance with a cross validation and detect optimal k for model training\n",
    "\n",
    "train_score = []\n",
    "test_score = []\n",
    "train_loss = []\n",
    "test_loss = []\n",
    "neighbours = []\n",
    "\n",
    "\n",
    "scoring = {'acc': 'accuracy',\n",
    "           'mse': 'neg_mean_squared_error'}\n",
    "\n",
    "\n",
    "for k in range(1, 65, 2):\n",
    "    \n",
    "    # Instanciate the model\n",
    "    knn = KNeighborsClassifier(n_neighbors = k)\n",
    "\n",
    "    # Train the model on the scaled Training data\n",
    "    cv_results = cross_validate(knn, X_train, y_train, scoring = scoring, cv = 5, \n",
    "                                return_train_score = True)\n",
    "    \n",
    "    \n",
    "    # Append the score and k\n",
    "    train_score.append(cv_results['train_acc'].mean())\n",
    "    test_score.append(cv_results['test_acc'].mean())\n",
    "    train_loss.append(abs(cv_results['train_mse'].mean()))\n",
    "    test_loss.append(abs(cv_results['test_mse'].mean()))\n",
    "    neighbours.append(k)"
   ]
  },
  {
   "cell_type": "code",
   "execution_count": 74,
   "id": "a287457e",
   "metadata": {},
   "outputs": [
    {
     "data": {
      "text/html": [
       "<div>\n",
       "<style scoped>\n",
       "    .dataframe tbody tr th:only-of-type {\n",
       "        vertical-align: middle;\n",
       "    }\n",
       "\n",
       "    .dataframe tbody tr th {\n",
       "        vertical-align: top;\n",
       "    }\n",
       "\n",
       "    .dataframe thead th {\n",
       "        text-align: right;\n",
       "    }\n",
       "</style>\n",
       "<table border=\"1\" class=\"dataframe\">\n",
       "  <thead>\n",
       "    <tr style=\"text-align: right;\">\n",
       "      <th></th>\n",
       "      <th>k</th>\n",
       "      <th>train_score</th>\n",
       "      <th>test_score</th>\n",
       "      <th>train_loss</th>\n",
       "      <th>test_loss</th>\n",
       "    </tr>\n",
       "  </thead>\n",
       "  <tbody>\n",
       "    <tr>\n",
       "      <th>0</th>\n",
       "      <td>1</td>\n",
       "      <td>1.000000</td>\n",
       "      <td>0.728800</td>\n",
       "      <td>0.000000</td>\n",
       "      <td>0.271200</td>\n",
       "    </tr>\n",
       "    <tr>\n",
       "      <th>1</th>\n",
       "      <td>3</td>\n",
       "      <td>0.866611</td>\n",
       "      <td>0.770937</td>\n",
       "      <td>0.133389</td>\n",
       "      <td>0.229063</td>\n",
       "    </tr>\n",
       "    <tr>\n",
       "      <th>2</th>\n",
       "      <td>5</td>\n",
       "      <td>0.844011</td>\n",
       "      <td>0.783152</td>\n",
       "      <td>0.155989</td>\n",
       "      <td>0.216848</td>\n",
       "    </tr>\n",
       "    <tr>\n",
       "      <th>3</th>\n",
       "      <td>7</td>\n",
       "      <td>0.833750</td>\n",
       "      <td>0.790368</td>\n",
       "      <td>0.166250</td>\n",
       "      <td>0.209632</td>\n",
       "    </tr>\n",
       "    <tr>\n",
       "      <th>4</th>\n",
       "      <td>9</td>\n",
       "      <td>0.822797</td>\n",
       "      <td>0.784255</td>\n",
       "      <td>0.177203</td>\n",
       "      <td>0.215745</td>\n",
       "    </tr>\n",
       "  </tbody>\n",
       "</table>\n",
       "</div>"
      ],
      "text/plain": [
       "   k  train_score  test_score  train_loss  test_loss\n",
       "0  1     1.000000    0.728800    0.000000   0.271200\n",
       "1  3     0.866611    0.770937    0.133389   0.229063\n",
       "2  5     0.844011    0.783152    0.155989   0.216848\n",
       "3  7     0.833750    0.790368    0.166250   0.209632\n",
       "4  9     0.822797    0.784255    0.177203   0.215745"
      ]
     },
     "execution_count": 74,
     "metadata": {},
     "output_type": "execute_result"
    }
   ],
   "source": [
    "# KNN dataframe metrics\n",
    "\n",
    "knn_metrics = pd.DataFrame({'k': neighbours,\n",
    "                           'train_score': train_score,\n",
    "                           'test_score': test_score,\n",
    "                           'train_loss': train_loss,\n",
    "                           'test_loss': test_loss})\n",
    "\n",
    "knn_metrics.head(5)"
   ]
  },
  {
   "cell_type": "code",
   "execution_count": 75,
   "id": "20a48802",
   "metadata": {},
   "outputs": [
    {
     "data": {
      "image/png": "[encoded data removed]",
      "text/plain": [
       "<Figure size 720x432 with 1 Axes>"
      ]
     },
     "metadata": {
      "needs_background": "light"
     },
     "output_type": "display_data"
    }
   ],
   "source": [
    " # Plot ACCURACY performance of KNN\n",
    "\n",
    "plt.figure(figsize=(10,6))\n",
    "plt.plot(knn_metrics.k, knn_metrics.train_score, color='black', \n",
    "         marker='o',markerfacecolor='red', markersize=8, label = 'train_data')\n",
    "\n",
    "plt.plot(knn_metrics.k, knn_metrics.test_score, color='black', \n",
    "         marker='o',markerfacecolor='green', markersize=8, label = 'test_data')\n",
    "\n",
    "plt.title('\\n Accuracy vs. $k$ Neighbors', size = 20)\n",
    "plt.xlabel('$k$', size = 17)\n",
    "plt.ylabel('Accuracy', size = 15)\n",
    "plt.legend(loc='best')\n",
    "plt.show()"
   ]
  },
  {
   "cell_type": "code",
   "execution_count": 76,
   "id": "def022db",
   "metadata": {},
   "outputs": [
    {
     "data": {
      "image/png": "[encoded data removed]",
      "text/plain": [
       "<Figure size 720x432 with 1 Axes>"
      ]
     },
     "metadata": {
      "needs_background": "light"
     },
     "output_type": "display_data"
    }
   ],
   "source": [
    " # Plot MSE performance of KNN\n",
    "\n",
    "plt.figure(figsize=(10,6))\n",
    "plt.plot(knn_metrics.k, knn_metrics.train_loss, color='black', \n",
    "         marker='o',markerfacecolor='red', markersize=8, label = 'test_data')\n",
    "\n",
    "plt.plot(knn_metrics.k, knn_metrics.test_loss, color='black', \n",
    "         marker='o',markerfacecolor='green', markersize=8, label = 'test_data')\n",
    "\n",
    "plt.title('\\n MSE vs. $k$ Neighbors', size = 20)\n",
    "plt.xlabel('$k$', size = 17)\n",
    "plt.ylabel('MSE', size = 15)\n",
    "plt.legend(loc='best')\n",
    "plt.show()"
   ]
  },
  {
   "cell_type": "code",
   "execution_count": 77,
   "id": "a31f074c",
   "metadata": {},
   "outputs": [
    {
     "name": "stdout",
     "output_type": "stream",
     "text": [
      "Max TEST accuracy reached: 0.7903678054786087\n",
      "Mean TEST accuracy: 0.7789554959218221\n",
      "Best K value: 7\n"
     ]
    }
   ],
   "source": [
    "# Print best params\n",
    "\n",
    "max_score = max(knn_metrics.test_score)\n",
    "mean_score = np.mean(knn_metrics.test_score)\n",
    "best_k = neighbours[test_score.index(max_score)]\n",
    "\n",
    "print(f'Max TEST accuracy reached: {max_score}')\n",
    "print(f'Mean TEST accuracy: {mean_score}')\n",
    "print(f'Best K value: {best_k}')"
   ]
  },
  {
   "cell_type": "markdown",
   "id": "8048effb",
   "metadata": {},
   "source": [
    "<br>\n",
    "\n",
    "According to cross validation, **the best value of k is around 7**. \n",
    "\n",
    "7 is a relatively low value, and low k values usually produce overfitting in KNN models. In these cases, models are more exposed to local anomalies. In fact, optimal k of 7 in this situation reveals evidence of overfitting: accuracy is slightly greater in train set than in test set.\n",
    "\n",
    "<br>"
   ]
  },
  {
   "cell_type": "markdown",
   "id": "a1f1b020",
   "metadata": {},
   "source": [
    "### Train KNN model"
   ]
  },
  {
   "cell_type": "code",
   "execution_count": 78,
   "id": "96ecd41c",
   "metadata": {},
   "outputs": [
    {
     "name": "stdout",
     "output_type": "stream",
     "text": [
      "Accuracy score - train set:  0.8391569606211869\n",
      "Accuracy score - test set:  0.7960088691796009\n",
      "MSE - train set:  0.16084303937881309\n",
      "MSE - test set:  0.2039911308203991\n"
     ]
    }
   ],
   "source": [
    "# Apply model in with optimal K in the whole train set\n",
    "\n",
    "# Instanciate and fit the model\n",
    "knn = KNeighborsClassifier(n_neighbors = best_k)\n",
    "knn.fit(X_train, y_train)\n",
    "\n",
    "# Perform predictions\n",
    "knn_pred_train = knn.predict(X_train)\n",
    "knn_pred_test = knn.predict(X_test)\n",
    "\n",
    "# Accuracy score\n",
    "knn_train_acc = accuracy_score(y_train, knn_pred_train)\n",
    "knn_test_acc = accuracy_score(y_test, knn_pred_test)\n",
    "\n",
    "# Mean Squared Errors\n",
    "knn_train_mse = mean_squared_error(y_train, knn_pred_train)\n",
    "knn_test_mse = mean_squared_error(y_test, knn_pred_test)\n",
    "\n",
    "print('Accuracy score - train set: ', knn_train_acc)\n",
    "print('Accuracy score - test set: ', knn_test_acc)\n",
    "print('MSE - train set: ', knn_train_mse)\n",
    "print('MSE - test set: ', knn_test_mse)"
   ]
  },
  {
   "cell_type": "code",
   "execution_count": 79,
   "id": "afa66483",
   "metadata": {},
   "outputs": [
    {
     "data": {
      "image/png": "[encoded data removed]",
      "text/plain": [
       "<Figure size 1440x360 with 2 Axes>"
      ]
     },
     "metadata": {
      "needs_background": "light"
     },
     "output_type": "display_data"
    }
   ],
   "source": [
    "#Plot performance metrics\n",
    "\n",
    "knn_scores = pd.DataFrame({'Data': ['Train', 'Test'],\n",
    "                           'Accuracy': [knn_train_acc, knn_test_acc],\n",
    "                           'MSE': [knn_train_mse, knn_test_mse]})\n",
    "\n",
    "fig, axes = plt.subplots(nrows=1, ncols=2, figsize=(20, 5), sharey = True)\n",
    "\n",
    "fig.suptitle(\"KNN PERFORMANCE METRICS\", size = 20)\n",
    "fig.subplots_adjust(top=0.78)\n",
    "\n",
    "axes[0] = sns.barplot(ax = axes[0], x = knn_scores['Data'], y = knn_scores['Accuracy'], palette=\"tab10\")\n",
    "axes[0].set_title('\\n Accuracy performance \\n', fontsize = 15)\n",
    "axes[0].tick_params(labelsize = 10)\n",
    "axes[0].set_ylabel('Accuracy', fontsize = 17)\n",
    "\n",
    "for i in axes[0].containers:\n",
    "    axes[0].bar_label(i,)\n",
    "\n",
    "    \n",
    "axes[1] = sns.barplot(ax = axes[1], x = knn_scores['Data'], y = knn_scores['MSE'], palette=\"tab10\")\n",
    "axes[1].set_title('\\n MSE performance \\n', fontsize = 15)\n",
    "axes[1].tick_params(labelsize = 10, )\n",
    "axes[1].set_ylabel('MSE', fontsize = 15)\n",
    "\n",
    "sns.despine(left=True)\n",
    "\n",
    "for i in axes[1].containers:\n",
    "    axes[1].bar_label(i,)"
   ]
  },
  {
   "cell_type": "code",
   "execution_count": 80,
   "id": "ef31e49d",
   "metadata": {},
   "outputs": [
    {
     "data": {
      "image/png": "[encoded data removed]",
      "text/plain": [
       "<Figure size 720x576 with 2 Axes>"
      ]
     },
     "metadata": {
      "needs_background": "light"
     },
     "output_type": "display_data"
    }
   ],
   "source": [
    "# Confusion matrix\n",
    "\n",
    "knn_matrix = confusion_matrix(y_test, knn_pred_test)\n",
    "\n",
    "plt.figure(figsize = (10, 8))\n",
    "ax = sns.heatmap(knn_matrix, annot = True, cmap = 'Blues')\n",
    "\n",
    "ax.set_title('KNN TEST Confusion Matrix\\n\\n', size = 15);\n",
    "ax.set_xlabel('\\nPredicted Values')\n",
    "ax.set_ylabel('Actual Values ');\n",
    "\n",
    "## Display the visualization of the Confusion Matrix.\n",
    "plt.show()"
   ]
  },
  {
   "cell_type": "code",
   "execution_count": 81,
   "id": "99fc7473",
   "metadata": {},
   "outputs": [
    {
     "name": "stdout",
     "output_type": "stream",
     "text": [
      "              precision    recall  f1-score   support\n",
      "\n",
      "           0       0.73      0.51      0.60       135\n",
      "           1       0.81      0.92      0.86       316\n",
      "\n",
      "    accuracy                           0.80       451\n",
      "   macro avg       0.77      0.71      0.73       451\n",
      "weighted avg       0.79      0.80      0.78       451\n",
      "\n"
     ]
    }
   ],
   "source": [
    "# Print classification report\n",
    "\n",
    "print (classification_report(y_test, knn_pred_test))"
   ]
  },
  {
   "cell_type": "markdown",
   "id": "c17d5db4",
   "metadata": {},
   "source": [
    "There are several conclusions that we can reach from this performance:\n",
    "\n",
    "* There is slight **evidence of overfitting**, the model performs better in train set than in test set. This usually appears in KNN when is used a relatively low k (in this case, 7).\n",
    "* Although the accuracy of the model reaches almost 80%, the model has a **better performance predicting class 1 (Liberal) than class 0 (other parties)**. While class 1 present a recall metric near 92%, class 0 reaches only 51%. This difference of performance can be observed both in confusion matrix (accuracy) and classification report (recall and precision). This may be a consequence of lack of information (features and observations), or due to the class imbalance.\n",
    "* In general terms, **we can not conclude that this is a fairly good model for predicting if a POA will be won by Liberals or not.**"
   ]
  },
  {
   "cell_type": "markdown",
   "id": "e3546728",
   "metadata": {},
   "source": [
    "## Logistic Regression"
   ]
  },
  {
   "cell_type": "markdown",
   "id": "1bc13cee",
   "metadata": {},
   "source": [
    "### Feature selection and hyperparameter tunning"
   ]
  },
  {
   "cell_type": "code",
   "execution_count": 82,
   "id": "9cf40d53",
   "metadata": {},
   "outputs": [],
   "source": [
    "# Iterate over N features to analyze its inclussion while monitoring accuracy\n",
    "\n",
    "accuracy_list = []\n",
    "mse_list = []\n",
    "n_features = []\n",
    "\n",
    "for i in range(1, len(X_train.columns)):\n",
    "    model = LogisticRegression()\n",
    "    selector = RFE(model, n_features_to_select = i) # Iterate over N of features to analyze accuracy\n",
    "    selector.fit(X_train, y_train)\n",
    "    y_predicted_test = selector.predict(X_test)\n",
    "    accuracy_list.append(accuracy_score(y_test, y_predicted_test))\n",
    "    mse_list.append(mean_squared_error(y_test, y_predicted_test))\n",
    "    n_features.append(i)\n"
   ]
  },
  {
   "cell_type": "code",
   "execution_count": 83,
   "id": "52eb8a6b",
   "metadata": {},
   "outputs": [
    {
     "data": {
      "image/png": "[encoded data removed]",
      "text/plain": [
       "<Figure size 720x288 with 1 Axes>"
      ]
     },
     "metadata": {
      "needs_background": "light"
     },
     "output_type": "display_data"
    }
   ],
   "source": [
    "# Plot the relation between N of features and accuracy\n",
    "\n",
    "acc_df = pd.DataFrame({'accuracy': accuracy_list, 'n_features': n_features})\n",
    "\n",
    "plt.figure(figsize=(10, 4))\n",
    "sns.lineplot(x = acc_df['n_features'], y = acc_df['accuracy'], \n",
    "             color ='blue', linestyle='dashed', marker='o', \n",
    "             markerfacecolor='red', markersize=10)\n",
    "\n",
    "plt.title('\\n Effect of increasing number of features on accuracy value \\n', size = 19)\n",
    "plt.xlabel('No. of features', size = 15)\n",
    "plt.xticks(range(1, len(X_train.columns)))\n",
    "plt.ylabel('Accuracy', size = 15)\n",
    "plt.show()"
   ]
  },
  {
   "cell_type": "code",
   "execution_count": 84,
   "id": "ab6b628a",
   "metadata": {},
   "outputs": [
    {
     "data": {
      "image/png": "[encoded data removed]",
      "text/plain": [
       "<Figure size 720x288 with 1 Axes>"
      ]
     },
     "metadata": {
      "needs_background": "light"
     },
     "output_type": "display_data"
    }
   ],
   "source": [
    "# Plot the relation between N of features and MSE\n",
    "\n",
    "mse_df = pd.DataFrame({'MSE': mse_list, 'n_features': n_features})\n",
    "\n",
    "plt.figure(figsize=(10, 4))\n",
    "sns.lineplot(x = mse_df['n_features'], y = mse_df['MSE'], \n",
    "             color ='blue', linestyle='dashed', marker='o', \n",
    "             markerfacecolor='red', markersize=10)\n",
    "\n",
    "plt.title('\\n Effect of increasing number of features on MSE value \\n', size = 19)\n",
    "plt.xlabel('No. of features', size = 15)\n",
    "plt.xticks(range(1, len(X_train.columns)))\n",
    "plt.ylabel('MSE', size = 15)\n",
    "plt.show()"
   ]
  },
  {
   "cell_type": "code",
   "execution_count": 87,
   "id": "f8918682",
   "metadata": {},
   "outputs": [
    {
     "data": {
      "text/plain": [
       "Index(['age_mean', 'Deciles_1_2', 'Deciles_3_4', 'Deciles_9_10',\n",
       "       'State_and_admin', 'Prof_and_tech', 'Bach_or_higher', 'College_or_less',\n",
       "       'urban'],\n",
       "      dtype='object')"
      ]
     },
     "execution_count": 87,
     "metadata": {},
     "output_type": "execute_result"
    }
   ],
   "source": [
    "# Train model with suggested N and detect most important features\n",
    "\n",
    "lr_model = LogisticRegression()\n",
    "selector = RFE(lr_model, n_features_to_select = 9)\n",
    "selector.fit(X_train, y_train)\n",
    "\n",
    "# Get most important features\n",
    "support_var = selector.get_support()\n",
    "X_train.columns[support_var]"
   ]
  },
  {
   "cell_type": "markdown",
   "id": "e110cec0",
   "metadata": {},
   "source": [
    "<br>\n",
    "\n",
    "Based on RFE results, **Logistic Regression model will be built over the following features**.:\n",
    "\n",
    "'age_mean', 'Deciles_1_2', 'Deciles_3_4', 'Deciles_9_10', 'State_and_admin', 'Prof_and_tech', 'Bach_or_higher', 'College_or_less','urban'\n",
    "\n",
    "<br>"
   ]
  },
  {
   "cell_type": "code",
   "execution_count": 89,
   "id": "e9848ba4",
   "metadata": {},
   "outputs": [],
   "source": [
    "# Select features for Logistic Regression based on RFE\n",
    "\n",
    "X_train_lr = X_train[['age_mean', 'Deciles_1_2', 'Deciles_3_4', 'Deciles_9_10', \n",
    "                      'State_and_admin', 'Prof_and_tech', 'Bach_or_higher', 'College_or_less','urban']]\n",
    "\n",
    "X_test_lr = X_test[['age_mean', 'Deciles_1_2', 'Deciles_3_4', 'Deciles_9_10', \n",
    "                      'State_and_admin', 'Prof_and_tech', 'Bach_or_higher', 'College_or_less','urban']]"
   ]
  },
  {
   "cell_type": "code",
   "execution_count": 90,
   "id": "56e1e7b3",
   "metadata": {
    "scrolled": false
   },
   "outputs": [
    {
     "name": "stdout",
     "output_type": "stream",
     "text": [
      "tuned hpyerparameters :(best parameters)  {'C': 1000.0}\n",
      "accuracy : 0.7831409664512157\n"
     ]
    }
   ],
   "source": [
    "# Tune hyperparameter C\n",
    "\n",
    "param_grid = {\"C\": np.logspace(-3,3,7)}\n",
    "\n",
    "lr_cv = LogisticRegression(max_iter = 1000)\n",
    "lr_cv = GridSearchCV(lr_cv, param_grid, cv = 5)\n",
    "lr_cv.fit(X_train_lr, y_train)\n",
    "\n",
    "print(\"tuned hpyerparameters :(best parameters) \", lr_cv.best_params_)\n",
    "print(\"accuracy :\", lr_cv.best_score_)"
   ]
  },
  {
   "cell_type": "markdown",
   "id": "1553e61f",
   "metadata": {},
   "source": [
    "### Train Logistic Regression model"
   ]
  },
  {
   "cell_type": "code",
   "execution_count": 95,
   "id": "349a9d41",
   "metadata": {},
   "outputs": [],
   "source": [
    "# Train final model with hyperparameter C and full N of features\n",
    "\n",
    "log_reg = LogisticRegression(max_iter = 1000, C = 1000)\n",
    "log_reg.fit(X_train_lr, y_train)\n",
    "\n",
    "\n",
    "# Perform predictions\n",
    "lr_train_pred = log_reg.predict(X_train_lr)\n",
    "lr_test_pred = log_reg.predict(X_test_lr)\n"
   ]
  },
  {
   "cell_type": "markdown",
   "id": "1d0a1061",
   "metadata": {},
   "source": [
    "### Performance Metrics"
   ]
  },
  {
   "cell_type": "code",
   "execution_count": 96,
   "id": "b4fd8707",
   "metadata": {},
   "outputs": [
    {
     "name": "stdout",
     "output_type": "stream",
     "text": [
      "Accuracy score - train set:  0.785912368275097\n",
      "Accuracy score - test set:  0.7782705099778271\n",
      "MSE - train set:  0.21408763172490294\n",
      "MSE - test set:  0.22172949002217296\n"
     ]
    }
   ],
   "source": [
    "# Accuracy score\n",
    "lr_train_acc = accuracy_score(y_train, lr_train_pred)\n",
    "lr_test_acc = accuracy_score(y_test, lr_test_pred)\n",
    "\n",
    "# Mean Squared Errors\n",
    "lr_train_mse = mean_squared_error(y_train, lr_train_pred)\n",
    "lr_test_mse = mean_squared_error(y_test, lr_test_pred)\n",
    "\n",
    "print('Accuracy score - train set: ', lr_train_acc)\n",
    "print('Accuracy score - test set: ', lr_test_acc)\n",
    "print('MSE - train set: ', lr_train_mse)\n",
    "print('MSE - test set: ', lr_test_mse)"
   ]
  },
  {
   "cell_type": "code",
   "execution_count": 97,
   "id": "f6eec56e",
   "metadata": {},
   "outputs": [
    {
     "data": {
      "image/png": "[encoded data removed]",
      "text/plain": [
       "<Figure size 1440x360 with 2 Axes>"
      ]
     },
     "metadata": {
      "needs_background": "light"
     },
     "output_type": "display_data"
    }
   ],
   "source": [
    "#Plot performance metrics\n",
    "\n",
    "lr_scores = pd.DataFrame({'Data': ['Train', 'Test'],\n",
    "                           'Accuracy': [lr_train_acc, lr_test_acc],\n",
    "                           'MSE': [lr_train_mse, lr_test_mse]})\n",
    "\n",
    "fig, axes = plt.subplots(nrows=1, ncols=2, figsize=(20, 5), sharey = True)\n",
    "\n",
    "fig.suptitle(\"LOG REG PERFORMANCE METRICS\", size = 20)\n",
    "fig.subplots_adjust(top=0.78)\n",
    "\n",
    "axes[0] = sns.barplot(ax = axes[0], x = lr_scores['Data'], y = lr_scores['Accuracy'], palette=\"tab10\")\n",
    "axes[0].set_title('\\n Accuracy performance \\n', fontsize = 15)\n",
    "axes[0].tick_params(labelsize = 10)\n",
    "axes[0].set_ylabel('Accuracy', fontsize = 17)\n",
    "\n",
    "for i in axes[0].containers:\n",
    "    axes[0].bar_label(i,)\n",
    "\n",
    "    \n",
    "axes[1] = sns.barplot(ax = axes[1], x = lr_scores['Data'], y = lr_scores['MSE'], palette=\"tab10\")\n",
    "axes[1].set_title('\\n MSE performance \\n', fontsize = 15)\n",
    "axes[1].tick_params(labelsize = 10, )\n",
    "axes[1].set_ylabel('MSE', fontsize = 15)\n",
    "\n",
    "sns.despine(left=True)\n",
    "\n",
    "for i in axes[1].containers:\n",
    "    axes[1].bar_label(i,)"
   ]
  },
  {
   "cell_type": "code",
   "execution_count": 98,
   "id": "31c56f11",
   "metadata": {},
   "outputs": [
    {
     "data": {
      "image/png": "[encoded data removed]",
      "text/plain": [
       "<Figure size 720x576 with 2 Axes>"
      ]
     },
     "metadata": {
      "needs_background": "light"
     },
     "output_type": "display_data"
    }
   ],
   "source": [
    "# Confusion Matrix\n",
    "\n",
    "lr_matrix = confusion_matrix(y_test, lr_test_pred)\n",
    "\n",
    "plt.figure(figsize = (10, 8))\n",
    "ax = sns.heatmap(lr_matrix, annot = True, cmap = 'Blues')\n",
    "\n",
    "ax.set_title('LOG REG TEST Confusion Matrix \\n\\n', size = 15);\n",
    "ax.set_xlabel('\\nPredicted Values')\n",
    "ax.set_ylabel('Actual Values ');\n",
    "\n",
    "## Display the visualization of the Confusion Matrix.\n",
    "plt.show()"
   ]
  },
  {
   "cell_type": "code",
   "execution_count": 99,
   "id": "faa7fd4a",
   "metadata": {},
   "outputs": [
    {
     "name": "stdout",
     "output_type": "stream",
     "text": [
      "              precision    recall  f1-score   support\n",
      "\n",
      "           0       0.71      0.44      0.55       135\n",
      "           1       0.80      0.92      0.85       316\n",
      "\n",
      "    accuracy                           0.78       451\n",
      "   macro avg       0.75      0.68      0.70       451\n",
      "weighted avg       0.77      0.78      0.76       451\n",
      "\n"
     ]
    }
   ],
   "source": [
    "# Print classification report\n",
    "\n",
    "print (classification_report(y_test, lr_test_pred))"
   ]
  },
  {
   "cell_type": "markdown",
   "id": "a88b1114",
   "metadata": {},
   "source": [
    "About logistic regression:\n",
    "\n",
    "* Shows **less overfitting than KNN**, scores and errors are almost equal.\n",
    "* Logistic Regression, such as the KNN model, performs better at predicting class 1 than class 0.\n",
    "* **Classification report shows that performance has even decreased with class 0 predictions**, with nearly 10% less recall than KNN. As with the KNN model, this could be due to class imbalance or features with low predictive potential.\n",
    "* **We can not conclude that this is a fairly good model for predicting if a POA will be won by Liberals or not.**"
   ]
  },
  {
   "cell_type": "markdown",
   "id": "de7c30a3",
   "metadata": {},
   "source": [
    "## Models vs Baseline"
   ]
  },
  {
   "cell_type": "code",
   "execution_count": 100,
   "id": "2bb47ec1",
   "metadata": {},
   "outputs": [
    {
     "data": {
      "image/png": "[encoded data removed]",
      "text/plain": [
       "<Figure size 1440x360 with 2 Axes>"
      ]
     },
     "metadata": {
      "needs_background": "light"
     },
     "output_type": "display_data"
    }
   ],
   "source": [
    "#Plot performance metrics\n",
    "\n",
    "metrics_comp = pd.DataFrame({'Data': ['Baseline', 'KNN', 'LogReg'],\n",
    "                           'Accuracy': [base_test_acc, knn_test_acc, lr_test_acc],\n",
    "                           'MSE': [base_test_mse, knn_test_mse, lr_test_mse]})\n",
    "\n",
    "\n",
    "fig, axes = plt.subplots(nrows=1, ncols=2, figsize=(20, 5), sharey = True)\n",
    "\n",
    "fig.suptitle(\"GENERAL PERFORMANCE METRICS\", size = 20)\n",
    "fig.subplots_adjust(top=0.78)\n",
    "\n",
    "axes[0] = sns.barplot(ax = axes[0], x = metrics_comp['Data'], y = metrics_comp['Accuracy'], palette=\"tab10\")\n",
    "axes[0].set_title('\\n Accuracy performance \\n', fontsize = 15)\n",
    "axes[0].tick_params(labelsize = 10)\n",
    "axes[0].set_ylabel('Accuracy', fontsize = 17)\n",
    "\n",
    "for i in axes[0].containers:\n",
    "    axes[0].bar_label(i,)\n",
    "\n",
    "    \n",
    "axes[1] = sns.barplot(ax = axes[1], x = metrics_comp['Data'], y = metrics_comp['MSE'], palette=\"tab10\")\n",
    "axes[1].set_title('\\n MSE performance \\n', fontsize = 15)\n",
    "axes[1].tick_params(labelsize = 10, )\n",
    "axes[1].set_ylabel('MSE', fontsize = 15)\n",
    "\n",
    "sns.despine(left=True)\n",
    "\n",
    "for i in axes[1].containers:\n",
    "    axes[1].bar_label(i,)"
   ]
  },
  {
   "cell_type": "markdown",
   "id": "060a2be6",
   "metadata": {},
   "source": [
    "## KNN vs Logistic Regression"
   ]
  },
  {
   "cell_type": "code",
   "execution_count": 102,
   "id": "4a0566e7",
   "metadata": {},
   "outputs": [
    {
     "name": "stdout",
     "output_type": "stream",
     "text": [
      "Accuracy Logistic Regression 0.7803863020448386\n",
      "Accuracy KNN 0.7897117516629711\n"
     ]
    }
   ],
   "source": [
    "# Model performance comparisson\n",
    "\n",
    "clf_lr = LogisticRegression(max_iter = 1000, C = 1000)\n",
    "clf_knn = KNeighborsClassifier(n_neighbors = best_k)\n",
    "\n",
    "scores_lr = cross_val_score(clf_lr, X, y, scoring = 'accuracy', cv = KFold(n_splits = 5, shuffle = True))\n",
    "scores_knn = cross_val_score(clf_knn, X, y, scoring = 'accuracy', cv = KFold(n_splits = 5, shuffle = True))\n",
    "\n",
    "print('Accuracy Logistic Regression', scores_lr.mean())\n",
    "print('Accuracy KNN', scores_knn.mean())"
   ]
  },
  {
   "cell_type": "code",
   "execution_count": 103,
   "id": "f3293f90",
   "metadata": {},
   "outputs": [
    {
     "name": "stdout",
     "output_type": "stream",
     "text": [
      "t-scores p-value: -1.0129 0.3407\n"
     ]
    }
   ],
   "source": [
    "from scipy.stats import ttest_ind\n",
    "\n",
    "t,p = ttest_ind(scores_lr, scores_knn)\n",
    "print('t-scores p-value: %0.4f %0.4f'% (t, p))"
   ]
  },
  {
   "cell_type": "markdown",
   "id": "1e855322",
   "metadata": {},
   "source": [
    "**T-test demonstrate that there is not enough evidence to conclude that KNN accuracy is higher than Logistic Regression.**"
   ]
  },
  {
   "cell_type": "markdown",
   "id": "cf8b7427",
   "metadata": {},
   "source": [
    "# General conclusion\n"
   ]
  },
  {
   "cell_type": "markdown",
   "id": "e579a45e",
   "metadata": {},
   "source": [
    "Although both KNN and Logistic Regression show some improvement in metrics when compared to the baseline model, the improvement is not significant. Furthermore, the accuracy score is close to the distribution of the data values, indicating that the models are weak.\n",
    "\n",
    "There are two possible explanations for this: \n",
    "\n",
    "1. Sociodemographic condition is not enough information to predict liberal vote, and there other factors like, for instance, candidate charisma or geographical data that must be somehow included.\n",
    "2. In 2019, liberals won in almost 70% of postal areas, for predictive purposes, this produces a relative imbalance dataset. An attempt was made to balance the dataset with the SMOTE library, but affected negatively the classification work."
   ]
  },
  {
   "cell_type": "markdown",
   "id": "8f4d410c",
   "metadata": {},
   "source": [
    "# Artificial Neural Network"
   ]
  },
  {
   "cell_type": "markdown",
   "id": "3f49977b",
   "metadata": {},
   "source": [
    "Just to try how a Artificial Neural Network would work with this data."
   ]
  },
  {
   "cell_type": "code",
   "execution_count": 104,
   "id": "49690515",
   "metadata": {},
   "outputs": [],
   "source": [
    "from tensorflow.keras import models\n",
    "from tensorflow.keras import layers"
   ]
  },
  {
   "cell_type": "code",
   "execution_count": 133,
   "id": "bfe69adf",
   "metadata": {},
   "outputs": [],
   "source": [
    "def initialize_model():\n",
    "    \n",
    "    ### Model architecture\n",
    "    model = models.Sequential()\n",
    "    model.add(layers.Dense(50, input_dim = X_train.shape[1], activation='relu'))\n",
    "    model.add(layers.Dense(40, activation='relu'))\n",
    "    model.add(layers.Dense(20, activation='relu'))\n",
    "    model.add(layers.Dense(10, activation='relu'))\n",
    "    model.add(layers.Dense(1, activation='sigmoid'))\n",
    "\n",
    "    ### Model optimization : Optimizer, loss and metric    \n",
    "    model.compile(loss='binary_crossentropy', optimizer='adam', metrics=['accuracy'])\n",
    "    return model\n",
    "\n",
    "model = initialize_model()"
   ]
  },
  {
   "cell_type": "code",
   "execution_count": 134,
   "id": "f3f73ecd",
   "metadata": {},
   "outputs": [],
   "source": [
    "history = model.fit(X_train, y_train, epochs = 200, batch_size = 32, verbose = 0)"
   ]
  },
  {
   "cell_type": "code",
   "execution_count": 135,
   "id": "eca40352",
   "metadata": {},
   "outputs": [
    {
     "data": {
      "text/plain": [
       "0.7871397137641907"
      ]
     },
     "execution_count": 135,
     "metadata": {},
     "output_type": "execute_result"
    }
   ],
   "source": [
    "accuracy = model.evaluate(X_test, y_test, verbose=0)[1]\n",
    "accuracy"
   ]
  },
  {
   "cell_type": "code",
   "execution_count": null,
   "id": "274a050c",
   "metadata": {},
   "outputs": [],
   "source": []
  }
 ],
 "metadata": {
  "kernelspec": {
   "display_name": "Python 3 (ipykernel)",
   "language": "python",
   "name": "python3"
  },
  "language_info": {
   "codemirror_mode": {
    "name": "ipython",
    "version": 3
   },
   "file_extension": ".py",
   "mimetype": "text/x-python",
   "name": "python",
   "nbconvert_exporter": "python",
   "pygments_lexer": "ipython3",
   "version": "3.8.12"
  },
  "toc": {
   "base_numbering": 1,
   "nav_menu": {},
   "number_sections": true,
   "sideBar": true,
   "skip_h1_title": false,
   "title_cell": "Table of Contents",
   "title_sidebar": "Contents",
   "toc_cell": false,
   "toc_position": {
    "height": "calc(100% - 180px)",
    "left": "10px",
    "top": "150px",
    "width": "339.594px"
   },
   "toc_section_display": true,
   "toc_window_display": false
  }
 },
 "nbformat": 4,
 "nbformat_minor": 5
}
